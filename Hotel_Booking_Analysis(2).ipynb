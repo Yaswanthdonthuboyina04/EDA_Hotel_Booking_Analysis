{
  "nbformat": 4,
  "nbformat_minor": 0,
  "metadata": {
    "colab": {
      "provenance": [],
      "include_colab_link": true
    },
    "kernelspec": {
      "name": "python3",
      "display_name": "Python 3"
    },
    "language_info": {
      "name": "python"
    },
    "gpuClass": "standard"
  },
  "cells": [
    {
      "cell_type": "markdown",
      "metadata": {
        "id": "view-in-github",
        "colab_type": "text"
      },
      "source": [
        "<a href=\"https://colab.research.google.com/github/Yaswanthdonthuboyina04/EDA_Hotel_Booking_Analysis/blob/main/Hotel_Booking_Analysis(2).ipynb\" target=\"_parent\"><img src=\"https://colab.research.google.com/assets/colab-badge.svg\" alt=\"Open In Colab\"/></a>"
      ]
    },
    {
      "cell_type": "markdown",
      "source": [
        "# **Project Name**    - \n",
        "\n"
      ],
      "metadata": {
        "id": "vncDsAP0Gaoa"
      }
    },
    {
      "cell_type": "markdown",
      "source": [
        "##### **Project Type**    - EDA/Regression/Classification/Unsupervised\n",
        "##### **Contribution**    - Individual/Team\n",
        "##### **Team Member 1 -**\n",
        "##### **Team Member 2 -**\n",
        "##### **Team Member 3 -**\n",
        "##### **Team Member 4 -**"
      ],
      "metadata": {
        "id": "beRrZCGUAJYm"
      }
    },
    {
      "cell_type": "markdown",
      "source": [
        "# **Project Summary -**"
      ],
      "metadata": {
        "id": "FJNUwmbgGyua"
      }
    },
    {
      "cell_type": "markdown",
      "source": [
        "Write the summary here within 500-600 words."
      ],
      "metadata": {
        "id": "F6v_1wHtG2nS"
      }
    },
    {
      "cell_type": "markdown",
      "source": [
        "# **GitHub Link -**"
      ],
      "metadata": {
        "id": "w6K7xa23Elo4"
      }
    },
    {
      "cell_type": "markdown",
      "source": [
        "https://github.com/Yaswanthdonthuboyina04/EDA_Hotel_Booking_Analysis.git"
      ],
      "metadata": {
        "id": "h1o69JH3Eqqn"
      }
    },
    {
      "cell_type": "markdown",
      "source": [
        "# **Problem Statement**\n"
      ],
      "metadata": {
        "id": "yQaldy8SH6Dl"
      }
    },
    {
      "cell_type": "markdown",
      "source": [
        "**Write Problem Statement Here.**"
      ],
      "metadata": {
        "id": "DpeJGUA3kjGy"
      }
    },
    {
      "cell_type": "markdown",
      "source": [
        "#### **Define Your Business Objective?**"
      ],
      "metadata": {
        "id": "PH-0ReGfmX4f"
      }
    },
    {
      "cell_type": "markdown",
      "source": [
        "Answer Here."
      ],
      "metadata": {
        "id": "PhDvGCAqmjP1"
      }
    },
    {
      "cell_type": "markdown",
      "source": [
        "# **General Guidelines** : -  "
      ],
      "metadata": {
        "id": "mDgbUHAGgjLW"
      }
    },
    {
      "cell_type": "markdown",
      "source": [
        "1.   Well-structured, formatted, and commented code is required. \n",
        "2.   Exception Handling, Production Grade Code & Deployment Ready Code will be a plus. Those students will be awarded some additional credits. \n",
        "     \n",
        "     The additional credits will have advantages over other students during Star Student selection.\n",
        "       \n",
        "             [ Note: - Deployment Ready Code is defined as, the whole .ipynb notebook should be executable in one go\n",
        "                       without a single error logged. ]\n",
        "\n",
        "3.   Each and every logic should have proper comments.\n",
        "4. You may add as many number of charts you want. Make Sure for each and every chart the following format should be answered.\n",
        "        \n",
        "\n",
        "```\n",
        "# Chart visualization code\n",
        "```\n",
        "            \n",
        "\n",
        "*   Why did you pick the specific chart?\n",
        "*   What is/are the insight(s) found from the chart?\n",
        "* Will the gained insights help creating a positive business impact? \n",
        "Are there any insights that lead to negative growth? Justify with specific reason.\n",
        "\n",
        "5. You have to create at least 20 logical & meaningful charts having important insights.\n",
        "\n",
        "\n",
        "[ Hints : - Do the Vizualization in  a structured way while following \"UBM\" Rule. \n",
        "\n",
        "U - Univariate Analysis,\n",
        "\n",
        "B - Bivariate Analysis (Numerical - Categorical, Numerical - Numerical, Categorical - Categorical)\n",
        "\n",
        "M - Multivariate Analysis\n",
        " ]\n",
        "\n",
        "\n",
        "\n"
      ],
      "metadata": {
        "id": "ZrxVaUj-hHfC"
      }
    },
    {
      "cell_type": "markdown",
      "source": [
        "# ***Let's Begin !***"
      ],
      "metadata": {
        "id": "O_i_v8NEhb9l"
      }
    },
    {
      "cell_type": "markdown",
      "source": [
        "## ***1. Know Your Data***"
      ],
      "metadata": {
        "id": "HhfV-JJviCcP"
      }
    },
    {
      "cell_type": "markdown",
      "source": [
        "### Import Libraries"
      ],
      "metadata": {
        "id": "Y3lxredqlCYt"
      }
    },
    {
      "cell_type": "code",
      "source": [
        "# Import Libraries\n",
        "import numpy as np\n",
        "import pandas as pd\n",
        "from datetime import datetime\n",
        "import matplotlib.pyplot as plt\n",
        "%matplotlib inline\n",
        "import seaborn as sns"
      ],
      "metadata": {
        "id": "M8Vqi-pPk-HR"
      },
      "execution_count": 42,
      "outputs": []
    },
    {
      "cell_type": "markdown",
      "source": [
        "### Dataset Loading"
      ],
      "metadata": {
        "id": "3RnN4peoiCZX"
      }
    },
    {
      "cell_type": "code",
      "source": [
        "#Mounting Drive\n",
        "from google.colab import drive\n",
        "drive.mount('/content/drive')"
      ],
      "metadata": {
        "colab": {
          "base_uri": "https://localhost:8080/"
        },
        "id": "APj1vIkHZGg5",
        "outputId": "d4f117c1-8e2f-40a0-e8c4-38440c16e9d7"
      },
      "execution_count": 43,
      "outputs": [
        {
          "output_type": "stream",
          "name": "stdout",
          "text": [
            "Drive already mounted at /content/drive; to attempt to forcibly remount, call drive.mount(\"/content/drive\", force_remount=True).\n"
          ]
        }
      ]
    },
    {
      "cell_type": "code",
      "source": [
        "# Load Dataset\n",
        "path = '/content/drive/MyDrive/Almabetter/Assignments/Python for Data Science /EDA Capstone/Hotel Bookings.csv'\n",
        "df=pd.read_csv(path)"
      ],
      "metadata": {
        "id": "4CkvbW_SlZ_R"
      },
      "execution_count": 44,
      "outputs": []
    },
    {
      "cell_type": "markdown",
      "source": [
        "### Dataset First View"
      ],
      "metadata": {
        "id": "x71ZqKXriCWQ"
      }
    },
    {
      "cell_type": "code",
      "source": [
        "# Dataset First Look\n",
        "df.head()"
      ],
      "metadata": {
        "id": "LWNFOSvLl09H",
        "colab": {
          "base_uri": "https://localhost:8080/",
          "height": 386
        },
        "outputId": "724bfb6e-056f-43d7-e492-f4722e110d6d"
      },
      "execution_count": 45,
      "outputs": [
        {
          "output_type": "execute_result",
          "data": {
            "text/plain": [
              "          hotel  is_canceled  lead_time  arrival_date_year arrival_date_month  \\\n",
              "0  Resort Hotel            0        342               2015               July   \n",
              "1  Resort Hotel            0        737               2015               July   \n",
              "2  Resort Hotel            0          7               2015               July   \n",
              "3  Resort Hotel            0         13               2015               July   \n",
              "4  Resort Hotel            0         14               2015               July   \n",
              "\n",
              "   arrival_date_week_number  arrival_date_day_of_month  \\\n",
              "0                        27                          1   \n",
              "1                        27                          1   \n",
              "2                        27                          1   \n",
              "3                        27                          1   \n",
              "4                        27                          1   \n",
              "\n",
              "   stays_in_weekend_nights  stays_in_week_nights  adults  ...  deposit_type  \\\n",
              "0                        0                     0       2  ...    No Deposit   \n",
              "1                        0                     0       2  ...    No Deposit   \n",
              "2                        0                     1       1  ...    No Deposit   \n",
              "3                        0                     1       1  ...    No Deposit   \n",
              "4                        0                     2       2  ...    No Deposit   \n",
              "\n",
              "   agent company days_in_waiting_list customer_type   adr  \\\n",
              "0    NaN     NaN                    0     Transient   0.0   \n",
              "1    NaN     NaN                    0     Transient   0.0   \n",
              "2    NaN     NaN                    0     Transient  75.0   \n",
              "3  304.0     NaN                    0     Transient  75.0   \n",
              "4  240.0     NaN                    0     Transient  98.0   \n",
              "\n",
              "   required_car_parking_spaces  total_of_special_requests  reservation_status  \\\n",
              "0                            0                          0           Check-Out   \n",
              "1                            0                          0           Check-Out   \n",
              "2                            0                          0           Check-Out   \n",
              "3                            0                          0           Check-Out   \n",
              "4                            0                          1           Check-Out   \n",
              "\n",
              "  reservation_status_date  \n",
              "0              2015-07-01  \n",
              "1              2015-07-01  \n",
              "2              2015-07-02  \n",
              "3              2015-07-02  \n",
              "4              2015-07-03  \n",
              "\n",
              "[5 rows x 32 columns]"
            ],
            "text/html": [
              "\n",
              "  <div id=\"df-30d961f3-2632-4a08-9464-0294b42ff545\">\n",
              "    <div class=\"colab-df-container\">\n",
              "      <div>\n",
              "<style scoped>\n",
              "    .dataframe tbody tr th:only-of-type {\n",
              "        vertical-align: middle;\n",
              "    }\n",
              "\n",
              "    .dataframe tbody tr th {\n",
              "        vertical-align: top;\n",
              "    }\n",
              "\n",
              "    .dataframe thead th {\n",
              "        text-align: right;\n",
              "    }\n",
              "</style>\n",
              "<table border=\"1\" class=\"dataframe\">\n",
              "  <thead>\n",
              "    <tr style=\"text-align: right;\">\n",
              "      <th></th>\n",
              "      <th>hotel</th>\n",
              "      <th>is_canceled</th>\n",
              "      <th>lead_time</th>\n",
              "      <th>arrival_date_year</th>\n",
              "      <th>arrival_date_month</th>\n",
              "      <th>arrival_date_week_number</th>\n",
              "      <th>arrival_date_day_of_month</th>\n",
              "      <th>stays_in_weekend_nights</th>\n",
              "      <th>stays_in_week_nights</th>\n",
              "      <th>adults</th>\n",
              "      <th>...</th>\n",
              "      <th>deposit_type</th>\n",
              "      <th>agent</th>\n",
              "      <th>company</th>\n",
              "      <th>days_in_waiting_list</th>\n",
              "      <th>customer_type</th>\n",
              "      <th>adr</th>\n",
              "      <th>required_car_parking_spaces</th>\n",
              "      <th>total_of_special_requests</th>\n",
              "      <th>reservation_status</th>\n",
              "      <th>reservation_status_date</th>\n",
              "    </tr>\n",
              "  </thead>\n",
              "  <tbody>\n",
              "    <tr>\n",
              "      <th>0</th>\n",
              "      <td>Resort Hotel</td>\n",
              "      <td>0</td>\n",
              "      <td>342</td>\n",
              "      <td>2015</td>\n",
              "      <td>July</td>\n",
              "      <td>27</td>\n",
              "      <td>1</td>\n",
              "      <td>0</td>\n",
              "      <td>0</td>\n",
              "      <td>2</td>\n",
              "      <td>...</td>\n",
              "      <td>No Deposit</td>\n",
              "      <td>NaN</td>\n",
              "      <td>NaN</td>\n",
              "      <td>0</td>\n",
              "      <td>Transient</td>\n",
              "      <td>0.0</td>\n",
              "      <td>0</td>\n",
              "      <td>0</td>\n",
              "      <td>Check-Out</td>\n",
              "      <td>2015-07-01</td>\n",
              "    </tr>\n",
              "    <tr>\n",
              "      <th>1</th>\n",
              "      <td>Resort Hotel</td>\n",
              "      <td>0</td>\n",
              "      <td>737</td>\n",
              "      <td>2015</td>\n",
              "      <td>July</td>\n",
              "      <td>27</td>\n",
              "      <td>1</td>\n",
              "      <td>0</td>\n",
              "      <td>0</td>\n",
              "      <td>2</td>\n",
              "      <td>...</td>\n",
              "      <td>No Deposit</td>\n",
              "      <td>NaN</td>\n",
              "      <td>NaN</td>\n",
              "      <td>0</td>\n",
              "      <td>Transient</td>\n",
              "      <td>0.0</td>\n",
              "      <td>0</td>\n",
              "      <td>0</td>\n",
              "      <td>Check-Out</td>\n",
              "      <td>2015-07-01</td>\n",
              "    </tr>\n",
              "    <tr>\n",
              "      <th>2</th>\n",
              "      <td>Resort Hotel</td>\n",
              "      <td>0</td>\n",
              "      <td>7</td>\n",
              "      <td>2015</td>\n",
              "      <td>July</td>\n",
              "      <td>27</td>\n",
              "      <td>1</td>\n",
              "      <td>0</td>\n",
              "      <td>1</td>\n",
              "      <td>1</td>\n",
              "      <td>...</td>\n",
              "      <td>No Deposit</td>\n",
              "      <td>NaN</td>\n",
              "      <td>NaN</td>\n",
              "      <td>0</td>\n",
              "      <td>Transient</td>\n",
              "      <td>75.0</td>\n",
              "      <td>0</td>\n",
              "      <td>0</td>\n",
              "      <td>Check-Out</td>\n",
              "      <td>2015-07-02</td>\n",
              "    </tr>\n",
              "    <tr>\n",
              "      <th>3</th>\n",
              "      <td>Resort Hotel</td>\n",
              "      <td>0</td>\n",
              "      <td>13</td>\n",
              "      <td>2015</td>\n",
              "      <td>July</td>\n",
              "      <td>27</td>\n",
              "      <td>1</td>\n",
              "      <td>0</td>\n",
              "      <td>1</td>\n",
              "      <td>1</td>\n",
              "      <td>...</td>\n",
              "      <td>No Deposit</td>\n",
              "      <td>304.0</td>\n",
              "      <td>NaN</td>\n",
              "      <td>0</td>\n",
              "      <td>Transient</td>\n",
              "      <td>75.0</td>\n",
              "      <td>0</td>\n",
              "      <td>0</td>\n",
              "      <td>Check-Out</td>\n",
              "      <td>2015-07-02</td>\n",
              "    </tr>\n",
              "    <tr>\n",
              "      <th>4</th>\n",
              "      <td>Resort Hotel</td>\n",
              "      <td>0</td>\n",
              "      <td>14</td>\n",
              "      <td>2015</td>\n",
              "      <td>July</td>\n",
              "      <td>27</td>\n",
              "      <td>1</td>\n",
              "      <td>0</td>\n",
              "      <td>2</td>\n",
              "      <td>2</td>\n",
              "      <td>...</td>\n",
              "      <td>No Deposit</td>\n",
              "      <td>240.0</td>\n",
              "      <td>NaN</td>\n",
              "      <td>0</td>\n",
              "      <td>Transient</td>\n",
              "      <td>98.0</td>\n",
              "      <td>0</td>\n",
              "      <td>1</td>\n",
              "      <td>Check-Out</td>\n",
              "      <td>2015-07-03</td>\n",
              "    </tr>\n",
              "  </tbody>\n",
              "</table>\n",
              "<p>5 rows × 32 columns</p>\n",
              "</div>\n",
              "      <button class=\"colab-df-convert\" onclick=\"convertToInteractive('df-30d961f3-2632-4a08-9464-0294b42ff545')\"\n",
              "              title=\"Convert this dataframe to an interactive table.\"\n",
              "              style=\"display:none;\">\n",
              "        \n",
              "  <svg xmlns=\"http://www.w3.org/2000/svg\" height=\"24px\"viewBox=\"0 0 24 24\"\n",
              "       width=\"24px\">\n",
              "    <path d=\"M0 0h24v24H0V0z\" fill=\"none\"/>\n",
              "    <path d=\"M18.56 5.44l.94 2.06.94-2.06 2.06-.94-2.06-.94-.94-2.06-.94 2.06-2.06.94zm-11 1L8.5 8.5l.94-2.06 2.06-.94-2.06-.94L8.5 2.5l-.94 2.06-2.06.94zm10 10l.94 2.06.94-2.06 2.06-.94-2.06-.94-.94-2.06-.94 2.06-2.06.94z\"/><path d=\"M17.41 7.96l-1.37-1.37c-.4-.4-.92-.59-1.43-.59-.52 0-1.04.2-1.43.59L10.3 9.45l-7.72 7.72c-.78.78-.78 2.05 0 2.83L4 21.41c.39.39.9.59 1.41.59.51 0 1.02-.2 1.41-.59l7.78-7.78 2.81-2.81c.8-.78.8-2.07 0-2.86zM5.41 20L4 18.59l7.72-7.72 1.47 1.35L5.41 20z\"/>\n",
              "  </svg>\n",
              "      </button>\n",
              "      \n",
              "  <style>\n",
              "    .colab-df-container {\n",
              "      display:flex;\n",
              "      flex-wrap:wrap;\n",
              "      gap: 12px;\n",
              "    }\n",
              "\n",
              "    .colab-df-convert {\n",
              "      background-color: #E8F0FE;\n",
              "      border: none;\n",
              "      border-radius: 50%;\n",
              "      cursor: pointer;\n",
              "      display: none;\n",
              "      fill: #1967D2;\n",
              "      height: 32px;\n",
              "      padding: 0 0 0 0;\n",
              "      width: 32px;\n",
              "    }\n",
              "\n",
              "    .colab-df-convert:hover {\n",
              "      background-color: #E2EBFA;\n",
              "      box-shadow: 0px 1px 2px rgba(60, 64, 67, 0.3), 0px 1px 3px 1px rgba(60, 64, 67, 0.15);\n",
              "      fill: #174EA6;\n",
              "    }\n",
              "\n",
              "    [theme=dark] .colab-df-convert {\n",
              "      background-color: #3B4455;\n",
              "      fill: #D2E3FC;\n",
              "    }\n",
              "\n",
              "    [theme=dark] .colab-df-convert:hover {\n",
              "      background-color: #434B5C;\n",
              "      box-shadow: 0px 1px 3px 1px rgba(0, 0, 0, 0.15);\n",
              "      filter: drop-shadow(0px 1px 2px rgba(0, 0, 0, 0.3));\n",
              "      fill: #FFFFFF;\n",
              "    }\n",
              "  </style>\n",
              "\n",
              "      <script>\n",
              "        const buttonEl =\n",
              "          document.querySelector('#df-30d961f3-2632-4a08-9464-0294b42ff545 button.colab-df-convert');\n",
              "        buttonEl.style.display =\n",
              "          google.colab.kernel.accessAllowed ? 'block' : 'none';\n",
              "\n",
              "        async function convertToInteractive(key) {\n",
              "          const element = document.querySelector('#df-30d961f3-2632-4a08-9464-0294b42ff545');\n",
              "          const dataTable =\n",
              "            await google.colab.kernel.invokeFunction('convertToInteractive',\n",
              "                                                     [key], {});\n",
              "          if (!dataTable) return;\n",
              "\n",
              "          const docLinkHtml = 'Like what you see? Visit the ' +\n",
              "            '<a target=\"_blank\" href=https://colab.research.google.com/notebooks/data_table.ipynb>data table notebook</a>'\n",
              "            + ' to learn more about interactive tables.';\n",
              "          element.innerHTML = '';\n",
              "          dataTable['output_type'] = 'display_data';\n",
              "          await google.colab.output.renderOutput(dataTable, element);\n",
              "          const docLink = document.createElement('div');\n",
              "          docLink.innerHTML = docLinkHtml;\n",
              "          element.appendChild(docLink);\n",
              "        }\n",
              "      </script>\n",
              "    </div>\n",
              "  </div>\n",
              "  "
            ]
          },
          "metadata": {},
          "execution_count": 45
        }
      ]
    },
    {
      "cell_type": "code",
      "source": [
        "df.tail()"
      ],
      "metadata": {
        "colab": {
          "base_uri": "https://localhost:8080/",
          "height": 386
        },
        "id": "zxMdBUcQZnwC",
        "outputId": "098d5975-1968-4268-abf2-7de5ace2fd27"
      },
      "execution_count": 46,
      "outputs": [
        {
          "output_type": "execute_result",
          "data": {
            "text/plain": [
              "             hotel  is_canceled  lead_time  arrival_date_year  \\\n",
              "119385  City Hotel            0         23               2017   \n",
              "119386  City Hotel            0        102               2017   \n",
              "119387  City Hotel            0         34               2017   \n",
              "119388  City Hotel            0        109               2017   \n",
              "119389  City Hotel            0        205               2017   \n",
              "\n",
              "       arrival_date_month  arrival_date_week_number  \\\n",
              "119385             August                        35   \n",
              "119386             August                        35   \n",
              "119387             August                        35   \n",
              "119388             August                        35   \n",
              "119389             August                        35   \n",
              "\n",
              "        arrival_date_day_of_month  stays_in_weekend_nights  \\\n",
              "119385                         30                        2   \n",
              "119386                         31                        2   \n",
              "119387                         31                        2   \n",
              "119388                         31                        2   \n",
              "119389                         29                        2   \n",
              "\n",
              "        stays_in_week_nights  adults  ...  deposit_type  agent company  \\\n",
              "119385                     5       2  ...    No Deposit  394.0     NaN   \n",
              "119386                     5       3  ...    No Deposit    9.0     NaN   \n",
              "119387                     5       2  ...    No Deposit    9.0     NaN   \n",
              "119388                     5       2  ...    No Deposit   89.0     NaN   \n",
              "119389                     7       2  ...    No Deposit    9.0     NaN   \n",
              "\n",
              "       days_in_waiting_list customer_type     adr  \\\n",
              "119385                    0     Transient   96.14   \n",
              "119386                    0     Transient  225.43   \n",
              "119387                    0     Transient  157.71   \n",
              "119388                    0     Transient  104.40   \n",
              "119389                    0     Transient  151.20   \n",
              "\n",
              "        required_car_parking_spaces  total_of_special_requests  \\\n",
              "119385                            0                          0   \n",
              "119386                            0                          2   \n",
              "119387                            0                          4   \n",
              "119388                            0                          0   \n",
              "119389                            0                          2   \n",
              "\n",
              "        reservation_status reservation_status_date  \n",
              "119385           Check-Out              2017-09-06  \n",
              "119386           Check-Out              2017-09-07  \n",
              "119387           Check-Out              2017-09-07  \n",
              "119388           Check-Out              2017-09-07  \n",
              "119389           Check-Out              2017-09-07  \n",
              "\n",
              "[5 rows x 32 columns]"
            ],
            "text/html": [
              "\n",
              "  <div id=\"df-d1ee14d2-c071-4e34-90c3-22c04a4c8f56\">\n",
              "    <div class=\"colab-df-container\">\n",
              "      <div>\n",
              "<style scoped>\n",
              "    .dataframe tbody tr th:only-of-type {\n",
              "        vertical-align: middle;\n",
              "    }\n",
              "\n",
              "    .dataframe tbody tr th {\n",
              "        vertical-align: top;\n",
              "    }\n",
              "\n",
              "    .dataframe thead th {\n",
              "        text-align: right;\n",
              "    }\n",
              "</style>\n",
              "<table border=\"1\" class=\"dataframe\">\n",
              "  <thead>\n",
              "    <tr style=\"text-align: right;\">\n",
              "      <th></th>\n",
              "      <th>hotel</th>\n",
              "      <th>is_canceled</th>\n",
              "      <th>lead_time</th>\n",
              "      <th>arrival_date_year</th>\n",
              "      <th>arrival_date_month</th>\n",
              "      <th>arrival_date_week_number</th>\n",
              "      <th>arrival_date_day_of_month</th>\n",
              "      <th>stays_in_weekend_nights</th>\n",
              "      <th>stays_in_week_nights</th>\n",
              "      <th>adults</th>\n",
              "      <th>...</th>\n",
              "      <th>deposit_type</th>\n",
              "      <th>agent</th>\n",
              "      <th>company</th>\n",
              "      <th>days_in_waiting_list</th>\n",
              "      <th>customer_type</th>\n",
              "      <th>adr</th>\n",
              "      <th>required_car_parking_spaces</th>\n",
              "      <th>total_of_special_requests</th>\n",
              "      <th>reservation_status</th>\n",
              "      <th>reservation_status_date</th>\n",
              "    </tr>\n",
              "  </thead>\n",
              "  <tbody>\n",
              "    <tr>\n",
              "      <th>119385</th>\n",
              "      <td>City Hotel</td>\n",
              "      <td>0</td>\n",
              "      <td>23</td>\n",
              "      <td>2017</td>\n",
              "      <td>August</td>\n",
              "      <td>35</td>\n",
              "      <td>30</td>\n",
              "      <td>2</td>\n",
              "      <td>5</td>\n",
              "      <td>2</td>\n",
              "      <td>...</td>\n",
              "      <td>No Deposit</td>\n",
              "      <td>394.0</td>\n",
              "      <td>NaN</td>\n",
              "      <td>0</td>\n",
              "      <td>Transient</td>\n",
              "      <td>96.14</td>\n",
              "      <td>0</td>\n",
              "      <td>0</td>\n",
              "      <td>Check-Out</td>\n",
              "      <td>2017-09-06</td>\n",
              "    </tr>\n",
              "    <tr>\n",
              "      <th>119386</th>\n",
              "      <td>City Hotel</td>\n",
              "      <td>0</td>\n",
              "      <td>102</td>\n",
              "      <td>2017</td>\n",
              "      <td>August</td>\n",
              "      <td>35</td>\n",
              "      <td>31</td>\n",
              "      <td>2</td>\n",
              "      <td>5</td>\n",
              "      <td>3</td>\n",
              "      <td>...</td>\n",
              "      <td>No Deposit</td>\n",
              "      <td>9.0</td>\n",
              "      <td>NaN</td>\n",
              "      <td>0</td>\n",
              "      <td>Transient</td>\n",
              "      <td>225.43</td>\n",
              "      <td>0</td>\n",
              "      <td>2</td>\n",
              "      <td>Check-Out</td>\n",
              "      <td>2017-09-07</td>\n",
              "    </tr>\n",
              "    <tr>\n",
              "      <th>119387</th>\n",
              "      <td>City Hotel</td>\n",
              "      <td>0</td>\n",
              "      <td>34</td>\n",
              "      <td>2017</td>\n",
              "      <td>August</td>\n",
              "      <td>35</td>\n",
              "      <td>31</td>\n",
              "      <td>2</td>\n",
              "      <td>5</td>\n",
              "      <td>2</td>\n",
              "      <td>...</td>\n",
              "      <td>No Deposit</td>\n",
              "      <td>9.0</td>\n",
              "      <td>NaN</td>\n",
              "      <td>0</td>\n",
              "      <td>Transient</td>\n",
              "      <td>157.71</td>\n",
              "      <td>0</td>\n",
              "      <td>4</td>\n",
              "      <td>Check-Out</td>\n",
              "      <td>2017-09-07</td>\n",
              "    </tr>\n",
              "    <tr>\n",
              "      <th>119388</th>\n",
              "      <td>City Hotel</td>\n",
              "      <td>0</td>\n",
              "      <td>109</td>\n",
              "      <td>2017</td>\n",
              "      <td>August</td>\n",
              "      <td>35</td>\n",
              "      <td>31</td>\n",
              "      <td>2</td>\n",
              "      <td>5</td>\n",
              "      <td>2</td>\n",
              "      <td>...</td>\n",
              "      <td>No Deposit</td>\n",
              "      <td>89.0</td>\n",
              "      <td>NaN</td>\n",
              "      <td>0</td>\n",
              "      <td>Transient</td>\n",
              "      <td>104.40</td>\n",
              "      <td>0</td>\n",
              "      <td>0</td>\n",
              "      <td>Check-Out</td>\n",
              "      <td>2017-09-07</td>\n",
              "    </tr>\n",
              "    <tr>\n",
              "      <th>119389</th>\n",
              "      <td>City Hotel</td>\n",
              "      <td>0</td>\n",
              "      <td>205</td>\n",
              "      <td>2017</td>\n",
              "      <td>August</td>\n",
              "      <td>35</td>\n",
              "      <td>29</td>\n",
              "      <td>2</td>\n",
              "      <td>7</td>\n",
              "      <td>2</td>\n",
              "      <td>...</td>\n",
              "      <td>No Deposit</td>\n",
              "      <td>9.0</td>\n",
              "      <td>NaN</td>\n",
              "      <td>0</td>\n",
              "      <td>Transient</td>\n",
              "      <td>151.20</td>\n",
              "      <td>0</td>\n",
              "      <td>2</td>\n",
              "      <td>Check-Out</td>\n",
              "      <td>2017-09-07</td>\n",
              "    </tr>\n",
              "  </tbody>\n",
              "</table>\n",
              "<p>5 rows × 32 columns</p>\n",
              "</div>\n",
              "      <button class=\"colab-df-convert\" onclick=\"convertToInteractive('df-d1ee14d2-c071-4e34-90c3-22c04a4c8f56')\"\n",
              "              title=\"Convert this dataframe to an interactive table.\"\n",
              "              style=\"display:none;\">\n",
              "        \n",
              "  <svg xmlns=\"http://www.w3.org/2000/svg\" height=\"24px\"viewBox=\"0 0 24 24\"\n",
              "       width=\"24px\">\n",
              "    <path d=\"M0 0h24v24H0V0z\" fill=\"none\"/>\n",
              "    <path d=\"M18.56 5.44l.94 2.06.94-2.06 2.06-.94-2.06-.94-.94-2.06-.94 2.06-2.06.94zm-11 1L8.5 8.5l.94-2.06 2.06-.94-2.06-.94L8.5 2.5l-.94 2.06-2.06.94zm10 10l.94 2.06.94-2.06 2.06-.94-2.06-.94-.94-2.06-.94 2.06-2.06.94z\"/><path d=\"M17.41 7.96l-1.37-1.37c-.4-.4-.92-.59-1.43-.59-.52 0-1.04.2-1.43.59L10.3 9.45l-7.72 7.72c-.78.78-.78 2.05 0 2.83L4 21.41c.39.39.9.59 1.41.59.51 0 1.02-.2 1.41-.59l7.78-7.78 2.81-2.81c.8-.78.8-2.07 0-2.86zM5.41 20L4 18.59l7.72-7.72 1.47 1.35L5.41 20z\"/>\n",
              "  </svg>\n",
              "      </button>\n",
              "      \n",
              "  <style>\n",
              "    .colab-df-container {\n",
              "      display:flex;\n",
              "      flex-wrap:wrap;\n",
              "      gap: 12px;\n",
              "    }\n",
              "\n",
              "    .colab-df-convert {\n",
              "      background-color: #E8F0FE;\n",
              "      border: none;\n",
              "      border-radius: 50%;\n",
              "      cursor: pointer;\n",
              "      display: none;\n",
              "      fill: #1967D2;\n",
              "      height: 32px;\n",
              "      padding: 0 0 0 0;\n",
              "      width: 32px;\n",
              "    }\n",
              "\n",
              "    .colab-df-convert:hover {\n",
              "      background-color: #E2EBFA;\n",
              "      box-shadow: 0px 1px 2px rgba(60, 64, 67, 0.3), 0px 1px 3px 1px rgba(60, 64, 67, 0.15);\n",
              "      fill: #174EA6;\n",
              "    }\n",
              "\n",
              "    [theme=dark] .colab-df-convert {\n",
              "      background-color: #3B4455;\n",
              "      fill: #D2E3FC;\n",
              "    }\n",
              "\n",
              "    [theme=dark] .colab-df-convert:hover {\n",
              "      background-color: #434B5C;\n",
              "      box-shadow: 0px 1px 3px 1px rgba(0, 0, 0, 0.15);\n",
              "      filter: drop-shadow(0px 1px 2px rgba(0, 0, 0, 0.3));\n",
              "      fill: #FFFFFF;\n",
              "    }\n",
              "  </style>\n",
              "\n",
              "      <script>\n",
              "        const buttonEl =\n",
              "          document.querySelector('#df-d1ee14d2-c071-4e34-90c3-22c04a4c8f56 button.colab-df-convert');\n",
              "        buttonEl.style.display =\n",
              "          google.colab.kernel.accessAllowed ? 'block' : 'none';\n",
              "\n",
              "        async function convertToInteractive(key) {\n",
              "          const element = document.querySelector('#df-d1ee14d2-c071-4e34-90c3-22c04a4c8f56');\n",
              "          const dataTable =\n",
              "            await google.colab.kernel.invokeFunction('convertToInteractive',\n",
              "                                                     [key], {});\n",
              "          if (!dataTable) return;\n",
              "\n",
              "          const docLinkHtml = 'Like what you see? Visit the ' +\n",
              "            '<a target=\"_blank\" href=https://colab.research.google.com/notebooks/data_table.ipynb>data table notebook</a>'\n",
              "            + ' to learn more about interactive tables.';\n",
              "          element.innerHTML = '';\n",
              "          dataTable['output_type'] = 'display_data';\n",
              "          await google.colab.output.renderOutput(dataTable, element);\n",
              "          const docLink = document.createElement('div');\n",
              "          docLink.innerHTML = docLinkHtml;\n",
              "          element.appendChild(docLink);\n",
              "        }\n",
              "      </script>\n",
              "    </div>\n",
              "  </div>\n",
              "  "
            ]
          },
          "metadata": {},
          "execution_count": 46
        }
      ]
    },
    {
      "cell_type": "markdown",
      "source": [
        "### Dataset Rows & Columns count"
      ],
      "metadata": {
        "id": "7hBIi_osiCS2"
      }
    },
    {
      "cell_type": "code",
      "source": [
        "# Dataset Rows & Columns count\n",
        "df.shape"
      ],
      "metadata": {
        "id": "Kllu7SJgmLij",
        "colab": {
          "base_uri": "https://localhost:8080/"
        },
        "outputId": "19aff8b7-f002-4d2f-84da-19105c9cfc8f"
      },
      "execution_count": 47,
      "outputs": [
        {
          "output_type": "execute_result",
          "data": {
            "text/plain": [
              "(119390, 32)"
            ]
          },
          "metadata": {},
          "execution_count": 47
        }
      ]
    },
    {
      "cell_type": "markdown",
      "source": [
        "### Dataset Information"
      ],
      "metadata": {
        "id": "JlHwYmJAmNHm"
      }
    },
    {
      "cell_type": "code",
      "source": [
        "# Dataset Info\n",
        "df.info()"
      ],
      "metadata": {
        "id": "e9hRXRi6meOf",
        "colab": {
          "base_uri": "https://localhost:8080/"
        },
        "outputId": "b873a81b-f4cc-48bb-eb01-46ddb0b552f4"
      },
      "execution_count": 48,
      "outputs": [
        {
          "output_type": "stream",
          "name": "stdout",
          "text": [
            "<class 'pandas.core.frame.DataFrame'>\n",
            "RangeIndex: 119390 entries, 0 to 119389\n",
            "Data columns (total 32 columns):\n",
            " #   Column                          Non-Null Count   Dtype  \n",
            "---  ------                          --------------   -----  \n",
            " 0   hotel                           119390 non-null  object \n",
            " 1   is_canceled                     119390 non-null  int64  \n",
            " 2   lead_time                       119390 non-null  int64  \n",
            " 3   arrival_date_year               119390 non-null  int64  \n",
            " 4   arrival_date_month              119390 non-null  object \n",
            " 5   arrival_date_week_number        119390 non-null  int64  \n",
            " 6   arrival_date_day_of_month       119390 non-null  int64  \n",
            " 7   stays_in_weekend_nights         119390 non-null  int64  \n",
            " 8   stays_in_week_nights            119390 non-null  int64  \n",
            " 9   adults                          119390 non-null  int64  \n",
            " 10  children                        119386 non-null  float64\n",
            " 11  babies                          119390 non-null  int64  \n",
            " 12  meal                            119390 non-null  object \n",
            " 13  country                         118902 non-null  object \n",
            " 14  market_segment                  119390 non-null  object \n",
            " 15  distribution_channel            119390 non-null  object \n",
            " 16  is_repeated_guest               119390 non-null  int64  \n",
            " 17  previous_cancellations          119390 non-null  int64  \n",
            " 18  previous_bookings_not_canceled  119390 non-null  int64  \n",
            " 19  reserved_room_type              119390 non-null  object \n",
            " 20  assigned_room_type              119390 non-null  object \n",
            " 21  booking_changes                 119390 non-null  int64  \n",
            " 22  deposit_type                    119390 non-null  object \n",
            " 23  agent                           103050 non-null  float64\n",
            " 24  company                         6797 non-null    float64\n",
            " 25  days_in_waiting_list            119390 non-null  int64  \n",
            " 26  customer_type                   119390 non-null  object \n",
            " 27  adr                             119390 non-null  float64\n",
            " 28  required_car_parking_spaces     119390 non-null  int64  \n",
            " 29  total_of_special_requests       119390 non-null  int64  \n",
            " 30  reservation_status              119390 non-null  object \n",
            " 31  reservation_status_date         119390 non-null  object \n",
            "dtypes: float64(4), int64(16), object(12)\n",
            "memory usage: 29.1+ MB\n"
          ]
        }
      ]
    },
    {
      "cell_type": "code",
      "source": [
        "df.describe()"
      ],
      "metadata": {
        "colab": {
          "base_uri": "https://localhost:8080/",
          "height": 364
        },
        "id": "RoXFtUDxaLTu",
        "outputId": "937b5fe9-0e90-443a-f4de-93766f2cb4a1"
      },
      "execution_count": 49,
      "outputs": [
        {
          "output_type": "execute_result",
          "data": {
            "text/plain": [
              "         is_canceled      lead_time  arrival_date_year  \\\n",
              "count  119390.000000  119390.000000      119390.000000   \n",
              "mean        0.370416     104.011416        2016.156554   \n",
              "std         0.482918     106.863097           0.707476   \n",
              "min         0.000000       0.000000        2015.000000   \n",
              "25%         0.000000      18.000000        2016.000000   \n",
              "50%         0.000000      69.000000        2016.000000   \n",
              "75%         1.000000     160.000000        2017.000000   \n",
              "max         1.000000     737.000000        2017.000000   \n",
              "\n",
              "       arrival_date_week_number  arrival_date_day_of_month  \\\n",
              "count             119390.000000              119390.000000   \n",
              "mean                  27.165173                  15.798241   \n",
              "std                   13.605138                   8.780829   \n",
              "min                    1.000000                   1.000000   \n",
              "25%                   16.000000                   8.000000   \n",
              "50%                   28.000000                  16.000000   \n",
              "75%                   38.000000                  23.000000   \n",
              "max                   53.000000                  31.000000   \n",
              "\n",
              "       stays_in_weekend_nights  stays_in_week_nights         adults  \\\n",
              "count            119390.000000         119390.000000  119390.000000   \n",
              "mean                  0.927599              2.500302       1.856403   \n",
              "std                   0.998613              1.908286       0.579261   \n",
              "min                   0.000000              0.000000       0.000000   \n",
              "25%                   0.000000              1.000000       2.000000   \n",
              "50%                   1.000000              2.000000       2.000000   \n",
              "75%                   2.000000              3.000000       2.000000   \n",
              "max                  19.000000             50.000000      55.000000   \n",
              "\n",
              "            children         babies  is_repeated_guest  \\\n",
              "count  119386.000000  119390.000000      119390.000000   \n",
              "mean        0.103890       0.007949           0.031912   \n",
              "std         0.398561       0.097436           0.175767   \n",
              "min         0.000000       0.000000           0.000000   \n",
              "25%         0.000000       0.000000           0.000000   \n",
              "50%         0.000000       0.000000           0.000000   \n",
              "75%         0.000000       0.000000           0.000000   \n",
              "max        10.000000      10.000000           1.000000   \n",
              "\n",
              "       previous_cancellations  previous_bookings_not_canceled  \\\n",
              "count           119390.000000                   119390.000000   \n",
              "mean                 0.087118                        0.137097   \n",
              "std                  0.844336                        1.497437   \n",
              "min                  0.000000                        0.000000   \n",
              "25%                  0.000000                        0.000000   \n",
              "50%                  0.000000                        0.000000   \n",
              "75%                  0.000000                        0.000000   \n",
              "max                 26.000000                       72.000000   \n",
              "\n",
              "       booking_changes          agent      company  days_in_waiting_list  \\\n",
              "count    119390.000000  103050.000000  6797.000000         119390.000000   \n",
              "mean          0.221124      86.693382   189.266735              2.321149   \n",
              "std           0.652306     110.774548   131.655015             17.594721   \n",
              "min           0.000000       1.000000     6.000000              0.000000   \n",
              "25%           0.000000       9.000000    62.000000              0.000000   \n",
              "50%           0.000000      14.000000   179.000000              0.000000   \n",
              "75%           0.000000     229.000000   270.000000              0.000000   \n",
              "max          21.000000     535.000000   543.000000            391.000000   \n",
              "\n",
              "                 adr  required_car_parking_spaces  total_of_special_requests  \n",
              "count  119390.000000                119390.000000              119390.000000  \n",
              "mean      101.831122                     0.062518                   0.571363  \n",
              "std        50.535790                     0.245291                   0.792798  \n",
              "min        -6.380000                     0.000000                   0.000000  \n",
              "25%        69.290000                     0.000000                   0.000000  \n",
              "50%        94.575000                     0.000000                   0.000000  \n",
              "75%       126.000000                     0.000000                   1.000000  \n",
              "max      5400.000000                     8.000000                   5.000000  "
            ],
            "text/html": [
              "\n",
              "  <div id=\"df-c601b19f-cc60-4e52-8fae-cb15406dc5da\">\n",
              "    <div class=\"colab-df-container\">\n",
              "      <div>\n",
              "<style scoped>\n",
              "    .dataframe tbody tr th:only-of-type {\n",
              "        vertical-align: middle;\n",
              "    }\n",
              "\n",
              "    .dataframe tbody tr th {\n",
              "        vertical-align: top;\n",
              "    }\n",
              "\n",
              "    .dataframe thead th {\n",
              "        text-align: right;\n",
              "    }\n",
              "</style>\n",
              "<table border=\"1\" class=\"dataframe\">\n",
              "  <thead>\n",
              "    <tr style=\"text-align: right;\">\n",
              "      <th></th>\n",
              "      <th>is_canceled</th>\n",
              "      <th>lead_time</th>\n",
              "      <th>arrival_date_year</th>\n",
              "      <th>arrival_date_week_number</th>\n",
              "      <th>arrival_date_day_of_month</th>\n",
              "      <th>stays_in_weekend_nights</th>\n",
              "      <th>stays_in_week_nights</th>\n",
              "      <th>adults</th>\n",
              "      <th>children</th>\n",
              "      <th>babies</th>\n",
              "      <th>is_repeated_guest</th>\n",
              "      <th>previous_cancellations</th>\n",
              "      <th>previous_bookings_not_canceled</th>\n",
              "      <th>booking_changes</th>\n",
              "      <th>agent</th>\n",
              "      <th>company</th>\n",
              "      <th>days_in_waiting_list</th>\n",
              "      <th>adr</th>\n",
              "      <th>required_car_parking_spaces</th>\n",
              "      <th>total_of_special_requests</th>\n",
              "    </tr>\n",
              "  </thead>\n",
              "  <tbody>\n",
              "    <tr>\n",
              "      <th>count</th>\n",
              "      <td>119390.000000</td>\n",
              "      <td>119390.000000</td>\n",
              "      <td>119390.000000</td>\n",
              "      <td>119390.000000</td>\n",
              "      <td>119390.000000</td>\n",
              "      <td>119390.000000</td>\n",
              "      <td>119390.000000</td>\n",
              "      <td>119390.000000</td>\n",
              "      <td>119386.000000</td>\n",
              "      <td>119390.000000</td>\n",
              "      <td>119390.000000</td>\n",
              "      <td>119390.000000</td>\n",
              "      <td>119390.000000</td>\n",
              "      <td>119390.000000</td>\n",
              "      <td>103050.000000</td>\n",
              "      <td>6797.000000</td>\n",
              "      <td>119390.000000</td>\n",
              "      <td>119390.000000</td>\n",
              "      <td>119390.000000</td>\n",
              "      <td>119390.000000</td>\n",
              "    </tr>\n",
              "    <tr>\n",
              "      <th>mean</th>\n",
              "      <td>0.370416</td>\n",
              "      <td>104.011416</td>\n",
              "      <td>2016.156554</td>\n",
              "      <td>27.165173</td>\n",
              "      <td>15.798241</td>\n",
              "      <td>0.927599</td>\n",
              "      <td>2.500302</td>\n",
              "      <td>1.856403</td>\n",
              "      <td>0.103890</td>\n",
              "      <td>0.007949</td>\n",
              "      <td>0.031912</td>\n",
              "      <td>0.087118</td>\n",
              "      <td>0.137097</td>\n",
              "      <td>0.221124</td>\n",
              "      <td>86.693382</td>\n",
              "      <td>189.266735</td>\n",
              "      <td>2.321149</td>\n",
              "      <td>101.831122</td>\n",
              "      <td>0.062518</td>\n",
              "      <td>0.571363</td>\n",
              "    </tr>\n",
              "    <tr>\n",
              "      <th>std</th>\n",
              "      <td>0.482918</td>\n",
              "      <td>106.863097</td>\n",
              "      <td>0.707476</td>\n",
              "      <td>13.605138</td>\n",
              "      <td>8.780829</td>\n",
              "      <td>0.998613</td>\n",
              "      <td>1.908286</td>\n",
              "      <td>0.579261</td>\n",
              "      <td>0.398561</td>\n",
              "      <td>0.097436</td>\n",
              "      <td>0.175767</td>\n",
              "      <td>0.844336</td>\n",
              "      <td>1.497437</td>\n",
              "      <td>0.652306</td>\n",
              "      <td>110.774548</td>\n",
              "      <td>131.655015</td>\n",
              "      <td>17.594721</td>\n",
              "      <td>50.535790</td>\n",
              "      <td>0.245291</td>\n",
              "      <td>0.792798</td>\n",
              "    </tr>\n",
              "    <tr>\n",
              "      <th>min</th>\n",
              "      <td>0.000000</td>\n",
              "      <td>0.000000</td>\n",
              "      <td>2015.000000</td>\n",
              "      <td>1.000000</td>\n",
              "      <td>1.000000</td>\n",
              "      <td>0.000000</td>\n",
              "      <td>0.000000</td>\n",
              "      <td>0.000000</td>\n",
              "      <td>0.000000</td>\n",
              "      <td>0.000000</td>\n",
              "      <td>0.000000</td>\n",
              "      <td>0.000000</td>\n",
              "      <td>0.000000</td>\n",
              "      <td>0.000000</td>\n",
              "      <td>1.000000</td>\n",
              "      <td>6.000000</td>\n",
              "      <td>0.000000</td>\n",
              "      <td>-6.380000</td>\n",
              "      <td>0.000000</td>\n",
              "      <td>0.000000</td>\n",
              "    </tr>\n",
              "    <tr>\n",
              "      <th>25%</th>\n",
              "      <td>0.000000</td>\n",
              "      <td>18.000000</td>\n",
              "      <td>2016.000000</td>\n",
              "      <td>16.000000</td>\n",
              "      <td>8.000000</td>\n",
              "      <td>0.000000</td>\n",
              "      <td>1.000000</td>\n",
              "      <td>2.000000</td>\n",
              "      <td>0.000000</td>\n",
              "      <td>0.000000</td>\n",
              "      <td>0.000000</td>\n",
              "      <td>0.000000</td>\n",
              "      <td>0.000000</td>\n",
              "      <td>0.000000</td>\n",
              "      <td>9.000000</td>\n",
              "      <td>62.000000</td>\n",
              "      <td>0.000000</td>\n",
              "      <td>69.290000</td>\n",
              "      <td>0.000000</td>\n",
              "      <td>0.000000</td>\n",
              "    </tr>\n",
              "    <tr>\n",
              "      <th>50%</th>\n",
              "      <td>0.000000</td>\n",
              "      <td>69.000000</td>\n",
              "      <td>2016.000000</td>\n",
              "      <td>28.000000</td>\n",
              "      <td>16.000000</td>\n",
              "      <td>1.000000</td>\n",
              "      <td>2.000000</td>\n",
              "      <td>2.000000</td>\n",
              "      <td>0.000000</td>\n",
              "      <td>0.000000</td>\n",
              "      <td>0.000000</td>\n",
              "      <td>0.000000</td>\n",
              "      <td>0.000000</td>\n",
              "      <td>0.000000</td>\n",
              "      <td>14.000000</td>\n",
              "      <td>179.000000</td>\n",
              "      <td>0.000000</td>\n",
              "      <td>94.575000</td>\n",
              "      <td>0.000000</td>\n",
              "      <td>0.000000</td>\n",
              "    </tr>\n",
              "    <tr>\n",
              "      <th>75%</th>\n",
              "      <td>1.000000</td>\n",
              "      <td>160.000000</td>\n",
              "      <td>2017.000000</td>\n",
              "      <td>38.000000</td>\n",
              "      <td>23.000000</td>\n",
              "      <td>2.000000</td>\n",
              "      <td>3.000000</td>\n",
              "      <td>2.000000</td>\n",
              "      <td>0.000000</td>\n",
              "      <td>0.000000</td>\n",
              "      <td>0.000000</td>\n",
              "      <td>0.000000</td>\n",
              "      <td>0.000000</td>\n",
              "      <td>0.000000</td>\n",
              "      <td>229.000000</td>\n",
              "      <td>270.000000</td>\n",
              "      <td>0.000000</td>\n",
              "      <td>126.000000</td>\n",
              "      <td>0.000000</td>\n",
              "      <td>1.000000</td>\n",
              "    </tr>\n",
              "    <tr>\n",
              "      <th>max</th>\n",
              "      <td>1.000000</td>\n",
              "      <td>737.000000</td>\n",
              "      <td>2017.000000</td>\n",
              "      <td>53.000000</td>\n",
              "      <td>31.000000</td>\n",
              "      <td>19.000000</td>\n",
              "      <td>50.000000</td>\n",
              "      <td>55.000000</td>\n",
              "      <td>10.000000</td>\n",
              "      <td>10.000000</td>\n",
              "      <td>1.000000</td>\n",
              "      <td>26.000000</td>\n",
              "      <td>72.000000</td>\n",
              "      <td>21.000000</td>\n",
              "      <td>535.000000</td>\n",
              "      <td>543.000000</td>\n",
              "      <td>391.000000</td>\n",
              "      <td>5400.000000</td>\n",
              "      <td>8.000000</td>\n",
              "      <td>5.000000</td>\n",
              "    </tr>\n",
              "  </tbody>\n",
              "</table>\n",
              "</div>\n",
              "      <button class=\"colab-df-convert\" onclick=\"convertToInteractive('df-c601b19f-cc60-4e52-8fae-cb15406dc5da')\"\n",
              "              title=\"Convert this dataframe to an interactive table.\"\n",
              "              style=\"display:none;\">\n",
              "        \n",
              "  <svg xmlns=\"http://www.w3.org/2000/svg\" height=\"24px\"viewBox=\"0 0 24 24\"\n",
              "       width=\"24px\">\n",
              "    <path d=\"M0 0h24v24H0V0z\" fill=\"none\"/>\n",
              "    <path d=\"M18.56 5.44l.94 2.06.94-2.06 2.06-.94-2.06-.94-.94-2.06-.94 2.06-2.06.94zm-11 1L8.5 8.5l.94-2.06 2.06-.94-2.06-.94L8.5 2.5l-.94 2.06-2.06.94zm10 10l.94 2.06.94-2.06 2.06-.94-2.06-.94-.94-2.06-.94 2.06-2.06.94z\"/><path d=\"M17.41 7.96l-1.37-1.37c-.4-.4-.92-.59-1.43-.59-.52 0-1.04.2-1.43.59L10.3 9.45l-7.72 7.72c-.78.78-.78 2.05 0 2.83L4 21.41c.39.39.9.59 1.41.59.51 0 1.02-.2 1.41-.59l7.78-7.78 2.81-2.81c.8-.78.8-2.07 0-2.86zM5.41 20L4 18.59l7.72-7.72 1.47 1.35L5.41 20z\"/>\n",
              "  </svg>\n",
              "      </button>\n",
              "      \n",
              "  <style>\n",
              "    .colab-df-container {\n",
              "      display:flex;\n",
              "      flex-wrap:wrap;\n",
              "      gap: 12px;\n",
              "    }\n",
              "\n",
              "    .colab-df-convert {\n",
              "      background-color: #E8F0FE;\n",
              "      border: none;\n",
              "      border-radius: 50%;\n",
              "      cursor: pointer;\n",
              "      display: none;\n",
              "      fill: #1967D2;\n",
              "      height: 32px;\n",
              "      padding: 0 0 0 0;\n",
              "      width: 32px;\n",
              "    }\n",
              "\n",
              "    .colab-df-convert:hover {\n",
              "      background-color: #E2EBFA;\n",
              "      box-shadow: 0px 1px 2px rgba(60, 64, 67, 0.3), 0px 1px 3px 1px rgba(60, 64, 67, 0.15);\n",
              "      fill: #174EA6;\n",
              "    }\n",
              "\n",
              "    [theme=dark] .colab-df-convert {\n",
              "      background-color: #3B4455;\n",
              "      fill: #D2E3FC;\n",
              "    }\n",
              "\n",
              "    [theme=dark] .colab-df-convert:hover {\n",
              "      background-color: #434B5C;\n",
              "      box-shadow: 0px 1px 3px 1px rgba(0, 0, 0, 0.15);\n",
              "      filter: drop-shadow(0px 1px 2px rgba(0, 0, 0, 0.3));\n",
              "      fill: #FFFFFF;\n",
              "    }\n",
              "  </style>\n",
              "\n",
              "      <script>\n",
              "        const buttonEl =\n",
              "          document.querySelector('#df-c601b19f-cc60-4e52-8fae-cb15406dc5da button.colab-df-convert');\n",
              "        buttonEl.style.display =\n",
              "          google.colab.kernel.accessAllowed ? 'block' : 'none';\n",
              "\n",
              "        async function convertToInteractive(key) {\n",
              "          const element = document.querySelector('#df-c601b19f-cc60-4e52-8fae-cb15406dc5da');\n",
              "          const dataTable =\n",
              "            await google.colab.kernel.invokeFunction('convertToInteractive',\n",
              "                                                     [key], {});\n",
              "          if (!dataTable) return;\n",
              "\n",
              "          const docLinkHtml = 'Like what you see? Visit the ' +\n",
              "            '<a target=\"_blank\" href=https://colab.research.google.com/notebooks/data_table.ipynb>data table notebook</a>'\n",
              "            + ' to learn more about interactive tables.';\n",
              "          element.innerHTML = '';\n",
              "          dataTable['output_type'] = 'display_data';\n",
              "          await google.colab.output.renderOutput(dataTable, element);\n",
              "          const docLink = document.createElement('div');\n",
              "          docLink.innerHTML = docLinkHtml;\n",
              "          element.appendChild(docLink);\n",
              "        }\n",
              "      </script>\n",
              "    </div>\n",
              "  </div>\n",
              "  "
            ]
          },
          "metadata": {},
          "execution_count": 49
        }
      ]
    },
    {
      "cell_type": "code",
      "source": [
        "#Making a copy of dataset\n",
        "df1=df.copy()"
      ],
      "metadata": {
        "id": "Gr4imPF0cY3o"
      },
      "execution_count": 50,
      "outputs": []
    },
    {
      "cell_type": "markdown",
      "source": [
        "#### Duplicate Values"
      ],
      "metadata": {
        "id": "35m5QtbWiB9F"
      }
    },
    {
      "cell_type": "code",
      "source": [
        "# Dataset Duplicate Value Count\n",
        "df1.duplicated().sum()"
      ],
      "metadata": {
        "id": "1sLdpKYkmox0",
        "colab": {
          "base_uri": "https://localhost:8080/"
        },
        "outputId": "0f165ab7-7673-4a75-fbcb-c70227d392cd"
      },
      "execution_count": 51,
      "outputs": [
        {
          "output_type": "execute_result",
          "data": {
            "text/plain": [
              "31994"
            ]
          },
          "metadata": {},
          "execution_count": 51
        }
      ]
    },
    {
      "cell_type": "code",
      "source": [
        "#Visualizing the duplicates\n",
        "# plt.rcParams['figure.figsize'] = (10, 5)\n",
        "duplicates=pd.DataFrame(df1.duplicated().value_counts())\n",
        "duplicate_chart=duplicates.plot.bar()\n",
        "duplicate_chart.set_title('Duplicate Values')"
      ],
      "metadata": {
        "colab": {
          "base_uri": "https://localhost:8080/",
          "height": 314
        },
        "id": "x2cyfy3DdEKP",
        "outputId": "eb1cc8cc-77f3-4a1d-9c6f-2699bf17ffb9"
      },
      "execution_count": 52,
      "outputs": [
        {
          "output_type": "execute_result",
          "data": {
            "text/plain": [
              "Text(0.5, 1.0, 'Duplicate Values')"
            ]
          },
          "metadata": {},
          "execution_count": 52
        },
        {
          "output_type": "display_data",
          "data": {
            "text/plain": [
              "<Figure size 432x288 with 1 Axes>"
            ],
            "image/png": "[encoded data removed]"
          },
          "metadata": {
            "needs_background": "light"
          }
        }
      ]
    },
    {
      "cell_type": "code",
      "source": [
        "df1=df1.drop_duplicates()"
      ],
      "metadata": {
        "id": "OSm-vheYc7l6"
      },
      "execution_count": 53,
      "outputs": []
    },
    {
      "cell_type": "code",
      "source": [
        "df1.shape"
      ],
      "metadata": {
        "colab": {
          "base_uri": "https://localhost:8080/"
        },
        "id": "9XxydaB7fcQV",
        "outputId": "0c7e9b09-c725-48ff-d07d-b5a2c7e263a3"
      },
      "execution_count": 54,
      "outputs": [
        {
          "output_type": "execute_result",
          "data": {
            "text/plain": [
              "(87396, 32)"
            ]
          },
          "metadata": {},
          "execution_count": 54
        }
      ]
    },
    {
      "cell_type": "code",
      "source": [
        "df1.duplicated().value_counts()"
      ],
      "metadata": {
        "colab": {
          "base_uri": "https://localhost:8080/"
        },
        "id": "wnbwE4pzff-Q",
        "outputId": "40f1c7e4-335d-49b9-ca13-8f5f16e9761a"
      },
      "execution_count": 55,
      "outputs": [
        {
          "output_type": "execute_result",
          "data": {
            "text/plain": [
              "False    87396\n",
              "dtype: int64"
            ]
          },
          "metadata": {},
          "execution_count": 55
        }
      ]
    },
    {
      "cell_type": "markdown",
      "source": [
        "#### Missing Values/Null Values"
      ],
      "metadata": {
        "id": "PoPl-ycgm1ru"
      }
    },
    {
      "cell_type": "code",
      "source": [
        "# Missing Values/Null Values Count\n",
        "df1.isnull().sum()"
      ],
      "metadata": {
        "id": "GgHWkxvamxVg",
        "colab": {
          "base_uri": "https://localhost:8080/"
        },
        "outputId": "143fb332-649d-48f9-e3d8-c6a415fba247"
      },
      "execution_count": 56,
      "outputs": [
        {
          "output_type": "execute_result",
          "data": {
            "text/plain": [
              "hotel                                 0\n",
              "is_canceled                           0\n",
              "lead_time                             0\n",
              "arrival_date_year                     0\n",
              "arrival_date_month                    0\n",
              "arrival_date_week_number              0\n",
              "arrival_date_day_of_month             0\n",
              "stays_in_weekend_nights               0\n",
              "stays_in_week_nights                  0\n",
              "adults                                0\n",
              "children                              4\n",
              "babies                                0\n",
              "meal                                  0\n",
              "country                             452\n",
              "market_segment                        0\n",
              "distribution_channel                  0\n",
              "is_repeated_guest                     0\n",
              "previous_cancellations                0\n",
              "previous_bookings_not_canceled        0\n",
              "reserved_room_type                    0\n",
              "assigned_room_type                    0\n",
              "booking_changes                       0\n",
              "deposit_type                          0\n",
              "agent                             12193\n",
              "company                           82137\n",
              "days_in_waiting_list                  0\n",
              "customer_type                         0\n",
              "adr                                   0\n",
              "required_car_parking_spaces           0\n",
              "total_of_special_requests             0\n",
              "reservation_status                    0\n",
              "reservation_status_date               0\n",
              "dtype: int64"
            ]
          },
          "metadata": {},
          "execution_count": 56
        }
      ]
    },
    {
      "cell_type": "code",
      "source": [
        "# Visualizing the missing values\n",
        "plt.rcParams['figure.figsize']=(14,7)\n",
        "sns.heatmap(df1.isnull())"
      ],
      "metadata": {
        "id": "3q5wnI3om9sJ",
        "colab": {
          "base_uri": "https://localhost:8080/",
          "height": 604
        },
        "outputId": "1ff7e891-3229-4571-f0d1-e6b236e95494"
      },
      "execution_count": 57,
      "outputs": [
        {
          "output_type": "execute_result",
          "data": {
            "text/plain": [
              "<Axes: >"
            ]
          },
          "metadata": {},
          "execution_count": 57
        },
        {
          "output_type": "display_data",
          "data": {
            "text/plain": [
              "<Figure size 1008x504 with 2 Axes>"
            ],
            "image/png": "[encoded data removed]"
          },
          "metadata": {
            "needs_background": "light"
          }
        }
      ]
    },
    {
      "cell_type": "markdown",
      "source": [
        "### What did you know about your dataset?"
      ],
      "metadata": {
        "id": "H0kj-8xxnORC"
      }
    },
    {
      "cell_type": "markdown",
      "source": [
        "The given 'Hotel Booking Analysis' dataset is of shape(119390, 32) which means it consists of 119390 rows and 32 columns. There were 31994 duplicate rows, upon removing them the shape of the dataset is (87396, 32). After removing the duplicate rows, There are 4 columns in dataset which have missing values(null or Nan Values) and those columns are company, agent, country and children."
      ],
      "metadata": {
        "id": "4IfY5wIspAv9"
      }
    },
    {
      "cell_type": "markdown",
      "source": [
        "## ***2. Understanding Your Variables***"
      ],
      "metadata": {
        "id": "nA9Y7ga8ng1Z"
      }
    },
    {
      "cell_type": "code",
      "source": [
        "# Dataset Columns\n",
        "df1.columns.values"
      ],
      "metadata": {
        "id": "j7xfkqrt5Ag5",
        "colab": {
          "base_uri": "https://localhost:8080/"
        },
        "outputId": "e3b893c1-6821-49ae-ff57-bf0a5f8077a0"
      },
      "execution_count": 58,
      "outputs": [
        {
          "output_type": "execute_result",
          "data": {
            "text/plain": [
              "array(['hotel', 'is_canceled', 'lead_time', 'arrival_date_year',\n",
              "       'arrival_date_month', 'arrival_date_week_number',\n",
              "       'arrival_date_day_of_month', 'stays_in_weekend_nights',\n",
              "       'stays_in_week_nights', 'adults', 'children', 'babies', 'meal',\n",
              "       'country', 'market_segment', 'distribution_channel',\n",
              "       'is_repeated_guest', 'previous_cancellations',\n",
              "       'previous_bookings_not_canceled', 'reserved_room_type',\n",
              "       'assigned_room_type', 'booking_changes', 'deposit_type', 'agent',\n",
              "       'company', 'days_in_waiting_list', 'customer_type', 'adr',\n",
              "       'required_car_parking_spaces', 'total_of_special_requests',\n",
              "       'reservation_status', 'reservation_status_date'], dtype=object)"
            ]
          },
          "metadata": {},
          "execution_count": 58
        }
      ]
    },
    {
      "cell_type": "code",
      "source": [
        "# Dataset Describe\n",
        "df1.describe()"
      ],
      "metadata": {
        "id": "DnOaZdaE5Q5t",
        "colab": {
          "base_uri": "https://localhost:8080/",
          "height": 364
        },
        "outputId": "c5269f6c-dd76-4ffa-8164-6844952d51b7"
      },
      "execution_count": 59,
      "outputs": [
        {
          "output_type": "execute_result",
          "data": {
            "text/plain": [
              "        is_canceled     lead_time  arrival_date_year  \\\n",
              "count  87396.000000  87396.000000       87396.000000   \n",
              "mean       0.274898     79.891368        2016.210296   \n",
              "std        0.446466     86.052325           0.686102   \n",
              "min        0.000000      0.000000        2015.000000   \n",
              "25%        0.000000     11.000000        2016.000000   \n",
              "50%        0.000000     49.000000        2016.000000   \n",
              "75%        1.000000    125.000000        2017.000000   \n",
              "max        1.000000    737.000000        2017.000000   \n",
              "\n",
              "       arrival_date_week_number  arrival_date_day_of_month  \\\n",
              "count              87396.000000               87396.000000   \n",
              "mean                  26.838334                  15.815541   \n",
              "std                   13.674572                   8.835146   \n",
              "min                    1.000000                   1.000000   \n",
              "25%                   16.000000                   8.000000   \n",
              "50%                   27.000000                  16.000000   \n",
              "75%                   37.000000                  23.000000   \n",
              "max                   53.000000                  31.000000   \n",
              "\n",
              "       stays_in_weekend_nights  stays_in_week_nights        adults  \\\n",
              "count             87396.000000          87396.000000  87396.000000   \n",
              "mean                  1.005263              2.625395      1.875795   \n",
              "std                   1.031921              2.053584      0.626500   \n",
              "min                   0.000000              0.000000      0.000000   \n",
              "25%                   0.000000              1.000000      2.000000   \n",
              "50%                   1.000000              2.000000      2.000000   \n",
              "75%                   2.000000              4.000000      2.000000   \n",
              "max                  19.000000             50.000000     55.000000   \n",
              "\n",
              "           children        babies  is_repeated_guest  previous_cancellations  \\\n",
              "count  87392.000000  87396.000000       87396.000000            87396.000000   \n",
              "mean       0.138640      0.010824           0.039075                0.030413   \n",
              "std        0.455881      0.113597           0.193775                0.369145   \n",
              "min        0.000000      0.000000           0.000000                0.000000   \n",
              "25%        0.000000      0.000000           0.000000                0.000000   \n",
              "50%        0.000000      0.000000           0.000000                0.000000   \n",
              "75%        0.000000      0.000000           0.000000                0.000000   \n",
              "max       10.000000     10.000000           1.000000               26.000000   \n",
              "\n",
              "       previous_bookings_not_canceled  booking_changes         agent  \\\n",
              "count                    87396.000000     87396.000000  75203.000000   \n",
              "mean                         0.183990         0.271603     94.138306   \n",
              "std                          1.731894         0.727245    113.188172   \n",
              "min                          0.000000         0.000000      1.000000   \n",
              "25%                          0.000000         0.000000      9.000000   \n",
              "50%                          0.000000         0.000000     14.000000   \n",
              "75%                          0.000000         0.000000    240.000000   \n",
              "max                         72.000000        21.000000    535.000000   \n",
              "\n",
              "           company  days_in_waiting_list           adr  \\\n",
              "count  5259.000000          87396.000000  87396.000000   \n",
              "mean    183.081384              0.749565    106.337246   \n",
              "std     130.557608             10.015731     55.013953   \n",
              "min       6.000000              0.000000     -6.380000   \n",
              "25%      47.000000              0.000000     72.000000   \n",
              "50%     169.000000              0.000000     98.100000   \n",
              "75%     263.000000              0.000000    134.000000   \n",
              "max     543.000000            391.000000   5400.000000   \n",
              "\n",
              "       required_car_parking_spaces  total_of_special_requests  \n",
              "count                 87396.000000               87396.000000  \n",
              "mean                      0.084226                   0.698567  \n",
              "std                       0.281533                   0.831946  \n",
              "min                       0.000000                   0.000000  \n",
              "25%                       0.000000                   0.000000  \n",
              "50%                       0.000000                   0.000000  \n",
              "75%                       0.000000                   1.000000  \n",
              "max                       8.000000                   5.000000  "
            ],
            "text/html": [
              "\n",
              "  <div id=\"df-c56c5f3f-a765-4275-be1c-1df8dff4d973\">\n",
              "    <div class=\"colab-df-container\">\n",
              "      <div>\n",
              "<style scoped>\n",
              "    .dataframe tbody tr th:only-of-type {\n",
              "        vertical-align: middle;\n",
              "    }\n",
              "\n",
              "    .dataframe tbody tr th {\n",
              "        vertical-align: top;\n",
              "    }\n",
              "\n",
              "    .dataframe thead th {\n",
              "        text-align: right;\n",
              "    }\n",
              "</style>\n",
              "<table border=\"1\" class=\"dataframe\">\n",
              "  <thead>\n",
              "    <tr style=\"text-align: right;\">\n",
              "      <th></th>\n",
              "      <th>is_canceled</th>\n",
              "      <th>lead_time</th>\n",
              "      <th>arrival_date_year</th>\n",
              "      <th>arrival_date_week_number</th>\n",
              "      <th>arrival_date_day_of_month</th>\n",
              "      <th>stays_in_weekend_nights</th>\n",
              "      <th>stays_in_week_nights</th>\n",
              "      <th>adults</th>\n",
              "      <th>children</th>\n",
              "      <th>babies</th>\n",
              "      <th>is_repeated_guest</th>\n",
              "      <th>previous_cancellations</th>\n",
              "      <th>previous_bookings_not_canceled</th>\n",
              "      <th>booking_changes</th>\n",
              "      <th>agent</th>\n",
              "      <th>company</th>\n",
              "      <th>days_in_waiting_list</th>\n",
              "      <th>adr</th>\n",
              "      <th>required_car_parking_spaces</th>\n",
              "      <th>total_of_special_requests</th>\n",
              "    </tr>\n",
              "  </thead>\n",
              "  <tbody>\n",
              "    <tr>\n",
              "      <th>count</th>\n",
              "      <td>87396.000000</td>\n",
              "      <td>87396.000000</td>\n",
              "      <td>87396.000000</td>\n",
              "      <td>87396.000000</td>\n",
              "      <td>87396.000000</td>\n",
              "      <td>87396.000000</td>\n",
              "      <td>87396.000000</td>\n",
              "      <td>87396.000000</td>\n",
              "      <td>87392.000000</td>\n",
              "      <td>87396.000000</td>\n",
              "      <td>87396.000000</td>\n",
              "      <td>87396.000000</td>\n",
              "      <td>87396.000000</td>\n",
              "      <td>87396.000000</td>\n",
              "      <td>75203.000000</td>\n",
              "      <td>5259.000000</td>\n",
              "      <td>87396.000000</td>\n",
              "      <td>87396.000000</td>\n",
              "      <td>87396.000000</td>\n",
              "      <td>87396.000000</td>\n",
              "    </tr>\n",
              "    <tr>\n",
              "      <th>mean</th>\n",
              "      <td>0.274898</td>\n",
              "      <td>79.891368</td>\n",
              "      <td>2016.210296</td>\n",
              "      <td>26.838334</td>\n",
              "      <td>15.815541</td>\n",
              "      <td>1.005263</td>\n",
              "      <td>2.625395</td>\n",
              "      <td>1.875795</td>\n",
              "      <td>0.138640</td>\n",
              "      <td>0.010824</td>\n",
              "      <td>0.039075</td>\n",
              "      <td>0.030413</td>\n",
              "      <td>0.183990</td>\n",
              "      <td>0.271603</td>\n",
              "      <td>94.138306</td>\n",
              "      <td>183.081384</td>\n",
              "      <td>0.749565</td>\n",
              "      <td>106.337246</td>\n",
              "      <td>0.084226</td>\n",
              "      <td>0.698567</td>\n",
              "    </tr>\n",
              "    <tr>\n",
              "      <th>std</th>\n",
              "      <td>0.446466</td>\n",
              "      <td>86.052325</td>\n",
              "      <td>0.686102</td>\n",
              "      <td>13.674572</td>\n",
              "      <td>8.835146</td>\n",
              "      <td>1.031921</td>\n",
              "      <td>2.053584</td>\n",
              "      <td>0.626500</td>\n",
              "      <td>0.455881</td>\n",
              "      <td>0.113597</td>\n",
              "      <td>0.193775</td>\n",
              "      <td>0.369145</td>\n",
              "      <td>1.731894</td>\n",
              "      <td>0.727245</td>\n",
              "      <td>113.188172</td>\n",
              "      <td>130.557608</td>\n",
              "      <td>10.015731</td>\n",
              "      <td>55.013953</td>\n",
              "      <td>0.281533</td>\n",
              "      <td>0.831946</td>\n",
              "    </tr>\n",
              "    <tr>\n",
              "      <th>min</th>\n",
              "      <td>0.000000</td>\n",
              "      <td>0.000000</td>\n",
              "      <td>2015.000000</td>\n",
              "      <td>1.000000</td>\n",
              "      <td>1.000000</td>\n",
              "      <td>0.000000</td>\n",
              "      <td>0.000000</td>\n",
              "      <td>0.000000</td>\n",
              "      <td>0.000000</td>\n",
              "      <td>0.000000</td>\n",
              "      <td>0.000000</td>\n",
              "      <td>0.000000</td>\n",
              "      <td>0.000000</td>\n",
              "      <td>0.000000</td>\n",
              "      <td>1.000000</td>\n",
              "      <td>6.000000</td>\n",
              "      <td>0.000000</td>\n",
              "      <td>-6.380000</td>\n",
              "      <td>0.000000</td>\n",
              "      <td>0.000000</td>\n",
              "    </tr>\n",
              "    <tr>\n",
              "      <th>25%</th>\n",
              "      <td>0.000000</td>\n",
              "      <td>11.000000</td>\n",
              "      <td>2016.000000</td>\n",
              "      <td>16.000000</td>\n",
              "      <td>8.000000</td>\n",
              "      <td>0.000000</td>\n",
              "      <td>1.000000</td>\n",
              "      <td>2.000000</td>\n",
              "      <td>0.000000</td>\n",
              "      <td>0.000000</td>\n",
              "      <td>0.000000</td>\n",
              "      <td>0.000000</td>\n",
              "      <td>0.000000</td>\n",
              "      <td>0.000000</td>\n",
              "      <td>9.000000</td>\n",
              "      <td>47.000000</td>\n",
              "      <td>0.000000</td>\n",
              "      <td>72.000000</td>\n",
              "      <td>0.000000</td>\n",
              "      <td>0.000000</td>\n",
              "    </tr>\n",
              "    <tr>\n",
              "      <th>50%</th>\n",
              "      <td>0.000000</td>\n",
              "      <td>49.000000</td>\n",
              "      <td>2016.000000</td>\n",
              "      <td>27.000000</td>\n",
              "      <td>16.000000</td>\n",
              "      <td>1.000000</td>\n",
              "      <td>2.000000</td>\n",
              "      <td>2.000000</td>\n",
              "      <td>0.000000</td>\n",
              "      <td>0.000000</td>\n",
              "      <td>0.000000</td>\n",
              "      <td>0.000000</td>\n",
              "      <td>0.000000</td>\n",
              "      <td>0.000000</td>\n",
              "      <td>14.000000</td>\n",
              "      <td>169.000000</td>\n",
              "      <td>0.000000</td>\n",
              "      <td>98.100000</td>\n",
              "      <td>0.000000</td>\n",
              "      <td>0.000000</td>\n",
              "    </tr>\n",
              "    <tr>\n",
              "      <th>75%</th>\n",
              "      <td>1.000000</td>\n",
              "      <td>125.000000</td>\n",
              "      <td>2017.000000</td>\n",
              "      <td>37.000000</td>\n",
              "      <td>23.000000</td>\n",
              "      <td>2.000000</td>\n",
              "      <td>4.000000</td>\n",
              "      <td>2.000000</td>\n",
              "      <td>0.000000</td>\n",
              "      <td>0.000000</td>\n",
              "      <td>0.000000</td>\n",
              "      <td>0.000000</td>\n",
              "      <td>0.000000</td>\n",
              "      <td>0.000000</td>\n",
              "      <td>240.000000</td>\n",
              "      <td>263.000000</td>\n",
              "      <td>0.000000</td>\n",
              "      <td>134.000000</td>\n",
              "      <td>0.000000</td>\n",
              "      <td>1.000000</td>\n",
              "    </tr>\n",
              "    <tr>\n",
              "      <th>max</th>\n",
              "      <td>1.000000</td>\n",
              "      <td>737.000000</td>\n",
              "      <td>2017.000000</td>\n",
              "      <td>53.000000</td>\n",
              "      <td>31.000000</td>\n",
              "      <td>19.000000</td>\n",
              "      <td>50.000000</td>\n",
              "      <td>55.000000</td>\n",
              "      <td>10.000000</td>\n",
              "      <td>10.000000</td>\n",
              "      <td>1.000000</td>\n",
              "      <td>26.000000</td>\n",
              "      <td>72.000000</td>\n",
              "      <td>21.000000</td>\n",
              "      <td>535.000000</td>\n",
              "      <td>543.000000</td>\n",
              "      <td>391.000000</td>\n",
              "      <td>5400.000000</td>\n",
              "      <td>8.000000</td>\n",
              "      <td>5.000000</td>\n",
              "    </tr>\n",
              "  </tbody>\n",
              "</table>\n",
              "</div>\n",
              "      <button class=\"colab-df-convert\" onclick=\"convertToInteractive('df-c56c5f3f-a765-4275-be1c-1df8dff4d973')\"\n",
              "              title=\"Convert this dataframe to an interactive table.\"\n",
              "              style=\"display:none;\">\n",
              "        \n",
              "  <svg xmlns=\"http://www.w3.org/2000/svg\" height=\"24px\"viewBox=\"0 0 24 24\"\n",
              "       width=\"24px\">\n",
              "    <path d=\"M0 0h24v24H0V0z\" fill=\"none\"/>\n",
              "    <path d=\"M18.56 5.44l.94 2.06.94-2.06 2.06-.94-2.06-.94-.94-2.06-.94 2.06-2.06.94zm-11 1L8.5 8.5l.94-2.06 2.06-.94-2.06-.94L8.5 2.5l-.94 2.06-2.06.94zm10 10l.94 2.06.94-2.06 2.06-.94-2.06-.94-.94-2.06-.94 2.06-2.06.94z\"/><path d=\"M17.41 7.96l-1.37-1.37c-.4-.4-.92-.59-1.43-.59-.52 0-1.04.2-1.43.59L10.3 9.45l-7.72 7.72c-.78.78-.78 2.05 0 2.83L4 21.41c.39.39.9.59 1.41.59.51 0 1.02-.2 1.41-.59l7.78-7.78 2.81-2.81c.8-.78.8-2.07 0-2.86zM5.41 20L4 18.59l7.72-7.72 1.47 1.35L5.41 20z\"/>\n",
              "  </svg>\n",
              "      </button>\n",
              "      \n",
              "  <style>\n",
              "    .colab-df-container {\n",
              "      display:flex;\n",
              "      flex-wrap:wrap;\n",
              "      gap: 12px;\n",
              "    }\n",
              "\n",
              "    .colab-df-convert {\n",
              "      background-color: #E8F0FE;\n",
              "      border: none;\n",
              "      border-radius: 50%;\n",
              "      cursor: pointer;\n",
              "      display: none;\n",
              "      fill: #1967D2;\n",
              "      height: 32px;\n",
              "      padding: 0 0 0 0;\n",
              "      width: 32px;\n",
              "    }\n",
              "\n",
              "    .colab-df-convert:hover {\n",
              "      background-color: #E2EBFA;\n",
              "      box-shadow: 0px 1px 2px rgba(60, 64, 67, 0.3), 0px 1px 3px 1px rgba(60, 64, 67, 0.15);\n",
              "      fill: #174EA6;\n",
              "    }\n",
              "\n",
              "    [theme=dark] .colab-df-convert {\n",
              "      background-color: #3B4455;\n",
              "      fill: #D2E3FC;\n",
              "    }\n",
              "\n",
              "    [theme=dark] .colab-df-convert:hover {\n",
              "      background-color: #434B5C;\n",
              "      box-shadow: 0px 1px 3px 1px rgba(0, 0, 0, 0.15);\n",
              "      filter: drop-shadow(0px 1px 2px rgba(0, 0, 0, 0.3));\n",
              "      fill: #FFFFFF;\n",
              "    }\n",
              "  </style>\n",
              "\n",
              "      <script>\n",
              "        const buttonEl =\n",
              "          document.querySelector('#df-c56c5f3f-a765-4275-be1c-1df8dff4d973 button.colab-df-convert');\n",
              "        buttonEl.style.display =\n",
              "          google.colab.kernel.accessAllowed ? 'block' : 'none';\n",
              "\n",
              "        async function convertToInteractive(key) {\n",
              "          const element = document.querySelector('#df-c56c5f3f-a765-4275-be1c-1df8dff4d973');\n",
              "          const dataTable =\n",
              "            await google.colab.kernel.invokeFunction('convertToInteractive',\n",
              "                                                     [key], {});\n",
              "          if (!dataTable) return;\n",
              "\n",
              "          const docLinkHtml = 'Like what you see? Visit the ' +\n",
              "            '<a target=\"_blank\" href=https://colab.research.google.com/notebooks/data_table.ipynb>data table notebook</a>'\n",
              "            + ' to learn more about interactive tables.';\n",
              "          element.innerHTML = '';\n",
              "          dataTable['output_type'] = 'display_data';\n",
              "          await google.colab.output.renderOutput(dataTable, element);\n",
              "          const docLink = document.createElement('div');\n",
              "          docLink.innerHTML = docLinkHtml;\n",
              "          element.appendChild(docLink);\n",
              "        }\n",
              "      </script>\n",
              "    </div>\n",
              "  </div>\n",
              "  "
            ]
          },
          "metadata": {},
          "execution_count": 59
        }
      ]
    },
    {
      "cell_type": "code",
      "source": [
        "df1.head()"
      ],
      "metadata": {
        "colab": {
          "base_uri": "https://localhost:8080/",
          "height": 386
        },
        "id": "Fy8__RI_qZh4",
        "outputId": "3124bf26-de2b-43ff-f018-7008ea6c420f"
      },
      "execution_count": 60,
      "outputs": [
        {
          "output_type": "execute_result",
          "data": {
            "text/plain": [
              "          hotel  is_canceled  lead_time  arrival_date_year arrival_date_month  \\\n",
              "0  Resort Hotel            0        342               2015               July   \n",
              "1  Resort Hotel            0        737               2015               July   \n",
              "2  Resort Hotel            0          7               2015               July   \n",
              "3  Resort Hotel            0         13               2015               July   \n",
              "4  Resort Hotel            0         14               2015               July   \n",
              "\n",
              "   arrival_date_week_number  arrival_date_day_of_month  \\\n",
              "0                        27                          1   \n",
              "1                        27                          1   \n",
              "2                        27                          1   \n",
              "3                        27                          1   \n",
              "4                        27                          1   \n",
              "\n",
              "   stays_in_weekend_nights  stays_in_week_nights  adults  ...  deposit_type  \\\n",
              "0                        0                     0       2  ...    No Deposit   \n",
              "1                        0                     0       2  ...    No Deposit   \n",
              "2                        0                     1       1  ...    No Deposit   \n",
              "3                        0                     1       1  ...    No Deposit   \n",
              "4                        0                     2       2  ...    No Deposit   \n",
              "\n",
              "   agent company days_in_waiting_list customer_type   adr  \\\n",
              "0    NaN     NaN                    0     Transient   0.0   \n",
              "1    NaN     NaN                    0     Transient   0.0   \n",
              "2    NaN     NaN                    0     Transient  75.0   \n",
              "3  304.0     NaN                    0     Transient  75.0   \n",
              "4  240.0     NaN                    0     Transient  98.0   \n",
              "\n",
              "   required_car_parking_spaces  total_of_special_requests  reservation_status  \\\n",
              "0                            0                          0           Check-Out   \n",
              "1                            0                          0           Check-Out   \n",
              "2                            0                          0           Check-Out   \n",
              "3                            0                          0           Check-Out   \n",
              "4                            0                          1           Check-Out   \n",
              "\n",
              "  reservation_status_date  \n",
              "0              2015-07-01  \n",
              "1              2015-07-01  \n",
              "2              2015-07-02  \n",
              "3              2015-07-02  \n",
              "4              2015-07-03  \n",
              "\n",
              "[5 rows x 32 columns]"
            ],
            "text/html": [
              "\n",
              "  <div id=\"df-7013cd8c-d4ae-4955-a01e-61728f0a06dc\">\n",
              "    <div class=\"colab-df-container\">\n",
              "      <div>\n",
              "<style scoped>\n",
              "    .dataframe tbody tr th:only-of-type {\n",
              "        vertical-align: middle;\n",
              "    }\n",
              "\n",
              "    .dataframe tbody tr th {\n",
              "        vertical-align: top;\n",
              "    }\n",
              "\n",
              "    .dataframe thead th {\n",
              "        text-align: right;\n",
              "    }\n",
              "</style>\n",
              "<table border=\"1\" class=\"dataframe\">\n",
              "  <thead>\n",
              "    <tr style=\"text-align: right;\">\n",
              "      <th></th>\n",
              "      <th>hotel</th>\n",
              "      <th>is_canceled</th>\n",
              "      <th>lead_time</th>\n",
              "      <th>arrival_date_year</th>\n",
              "      <th>arrival_date_month</th>\n",
              "      <th>arrival_date_week_number</th>\n",
              "      <th>arrival_date_day_of_month</th>\n",
              "      <th>stays_in_weekend_nights</th>\n",
              "      <th>stays_in_week_nights</th>\n",
              "      <th>adults</th>\n",
              "      <th>...</th>\n",
              "      <th>deposit_type</th>\n",
              "      <th>agent</th>\n",
              "      <th>company</th>\n",
              "      <th>days_in_waiting_list</th>\n",
              "      <th>customer_type</th>\n",
              "      <th>adr</th>\n",
              "      <th>required_car_parking_spaces</th>\n",
              "      <th>total_of_special_requests</th>\n",
              "      <th>reservation_status</th>\n",
              "      <th>reservation_status_date</th>\n",
              "    </tr>\n",
              "  </thead>\n",
              "  <tbody>\n",
              "    <tr>\n",
              "      <th>0</th>\n",
              "      <td>Resort Hotel</td>\n",
              "      <td>0</td>\n",
              "      <td>342</td>\n",
              "      <td>2015</td>\n",
              "      <td>July</td>\n",
              "      <td>27</td>\n",
              "      <td>1</td>\n",
              "      <td>0</td>\n",
              "      <td>0</td>\n",
              "      <td>2</td>\n",
              "      <td>...</td>\n",
              "      <td>No Deposit</td>\n",
              "      <td>NaN</td>\n",
              "      <td>NaN</td>\n",
              "      <td>0</td>\n",
              "      <td>Transient</td>\n",
              "      <td>0.0</td>\n",
              "      <td>0</td>\n",
              "      <td>0</td>\n",
              "      <td>Check-Out</td>\n",
              "      <td>2015-07-01</td>\n",
              "    </tr>\n",
              "    <tr>\n",
              "      <th>1</th>\n",
              "      <td>Resort Hotel</td>\n",
              "      <td>0</td>\n",
              "      <td>737</td>\n",
              "      <td>2015</td>\n",
              "      <td>July</td>\n",
              "      <td>27</td>\n",
              "      <td>1</td>\n",
              "      <td>0</td>\n",
              "      <td>0</td>\n",
              "      <td>2</td>\n",
              "      <td>...</td>\n",
              "      <td>No Deposit</td>\n",
              "      <td>NaN</td>\n",
              "      <td>NaN</td>\n",
              "      <td>0</td>\n",
              "      <td>Transient</td>\n",
              "      <td>0.0</td>\n",
              "      <td>0</td>\n",
              "      <td>0</td>\n",
              "      <td>Check-Out</td>\n",
              "      <td>2015-07-01</td>\n",
              "    </tr>\n",
              "    <tr>\n",
              "      <th>2</th>\n",
              "      <td>Resort Hotel</td>\n",
              "      <td>0</td>\n",
              "      <td>7</td>\n",
              "      <td>2015</td>\n",
              "      <td>July</td>\n",
              "      <td>27</td>\n",
              "      <td>1</td>\n",
              "      <td>0</td>\n",
              "      <td>1</td>\n",
              "      <td>1</td>\n",
              "      <td>...</td>\n",
              "      <td>No Deposit</td>\n",
              "      <td>NaN</td>\n",
              "      <td>NaN</td>\n",
              "      <td>0</td>\n",
              "      <td>Transient</td>\n",
              "      <td>75.0</td>\n",
              "      <td>0</td>\n",
              "      <td>0</td>\n",
              "      <td>Check-Out</td>\n",
              "      <td>2015-07-02</td>\n",
              "    </tr>\n",
              "    <tr>\n",
              "      <th>3</th>\n",
              "      <td>Resort Hotel</td>\n",
              "      <td>0</td>\n",
              "      <td>13</td>\n",
              "      <td>2015</td>\n",
              "      <td>July</td>\n",
              "      <td>27</td>\n",
              "      <td>1</td>\n",
              "      <td>0</td>\n",
              "      <td>1</td>\n",
              "      <td>1</td>\n",
              "      <td>...</td>\n",
              "      <td>No Deposit</td>\n",
              "      <td>304.0</td>\n",
              "      <td>NaN</td>\n",
              "      <td>0</td>\n",
              "      <td>Transient</td>\n",
              "      <td>75.0</td>\n",
              "      <td>0</td>\n",
              "      <td>0</td>\n",
              "      <td>Check-Out</td>\n",
              "      <td>2015-07-02</td>\n",
              "    </tr>\n",
              "    <tr>\n",
              "      <th>4</th>\n",
              "      <td>Resort Hotel</td>\n",
              "      <td>0</td>\n",
              "      <td>14</td>\n",
              "      <td>2015</td>\n",
              "      <td>July</td>\n",
              "      <td>27</td>\n",
              "      <td>1</td>\n",
              "      <td>0</td>\n",
              "      <td>2</td>\n",
              "      <td>2</td>\n",
              "      <td>...</td>\n",
              "      <td>No Deposit</td>\n",
              "      <td>240.0</td>\n",
              "      <td>NaN</td>\n",
              "      <td>0</td>\n",
              "      <td>Transient</td>\n",
              "      <td>98.0</td>\n",
              "      <td>0</td>\n",
              "      <td>1</td>\n",
              "      <td>Check-Out</td>\n",
              "      <td>2015-07-03</td>\n",
              "    </tr>\n",
              "  </tbody>\n",
              "</table>\n",
              "<p>5 rows × 32 columns</p>\n",
              "</div>\n",
              "      <button class=\"colab-df-convert\" onclick=\"convertToInteractive('df-7013cd8c-d4ae-4955-a01e-61728f0a06dc')\"\n",
              "              title=\"Convert this dataframe to an interactive table.\"\n",
              "              style=\"display:none;\">\n",
              "        \n",
              "  <svg xmlns=\"http://www.w3.org/2000/svg\" height=\"24px\"viewBox=\"0 0 24 24\"\n",
              "       width=\"24px\">\n",
              "    <path d=\"M0 0h24v24H0V0z\" fill=\"none\"/>\n",
              "    <path d=\"M18.56 5.44l.94 2.06.94-2.06 2.06-.94-2.06-.94-.94-2.06-.94 2.06-2.06.94zm-11 1L8.5 8.5l.94-2.06 2.06-.94-2.06-.94L8.5 2.5l-.94 2.06-2.06.94zm10 10l.94 2.06.94-2.06 2.06-.94-2.06-.94-.94-2.06-.94 2.06-2.06.94z\"/><path d=\"M17.41 7.96l-1.37-1.37c-.4-.4-.92-.59-1.43-.59-.52 0-1.04.2-1.43.59L10.3 9.45l-7.72 7.72c-.78.78-.78 2.05 0 2.83L4 21.41c.39.39.9.59 1.41.59.51 0 1.02-.2 1.41-.59l7.78-7.78 2.81-2.81c.8-.78.8-2.07 0-2.86zM5.41 20L4 18.59l7.72-7.72 1.47 1.35L5.41 20z\"/>\n",
              "  </svg>\n",
              "      </button>\n",
              "      \n",
              "  <style>\n",
              "    .colab-df-container {\n",
              "      display:flex;\n",
              "      flex-wrap:wrap;\n",
              "      gap: 12px;\n",
              "    }\n",
              "\n",
              "    .colab-df-convert {\n",
              "      background-color: #E8F0FE;\n",
              "      border: none;\n",
              "      border-radius: 50%;\n",
              "      cursor: pointer;\n",
              "      display: none;\n",
              "      fill: #1967D2;\n",
              "      height: 32px;\n",
              "      padding: 0 0 0 0;\n",
              "      width: 32px;\n",
              "    }\n",
              "\n",
              "    .colab-df-convert:hover {\n",
              "      background-color: #E2EBFA;\n",
              "      box-shadow: 0px 1px 2px rgba(60, 64, 67, 0.3), 0px 1px 3px 1px rgba(60, 64, 67, 0.15);\n",
              "      fill: #174EA6;\n",
              "    }\n",
              "\n",
              "    [theme=dark] .colab-df-convert {\n",
              "      background-color: #3B4455;\n",
              "      fill: #D2E3FC;\n",
              "    }\n",
              "\n",
              "    [theme=dark] .colab-df-convert:hover {\n",
              "      background-color: #434B5C;\n",
              "      box-shadow: 0px 1px 3px 1px rgba(0, 0, 0, 0.15);\n",
              "      filter: drop-shadow(0px 1px 2px rgba(0, 0, 0, 0.3));\n",
              "      fill: #FFFFFF;\n",
              "    }\n",
              "  </style>\n",
              "\n",
              "      <script>\n",
              "        const buttonEl =\n",
              "          document.querySelector('#df-7013cd8c-d4ae-4955-a01e-61728f0a06dc button.colab-df-convert');\n",
              "        buttonEl.style.display =\n",
              "          google.colab.kernel.accessAllowed ? 'block' : 'none';\n",
              "\n",
              "        async function convertToInteractive(key) {\n",
              "          const element = document.querySelector('#df-7013cd8c-d4ae-4955-a01e-61728f0a06dc');\n",
              "          const dataTable =\n",
              "            await google.colab.kernel.invokeFunction('convertToInteractive',\n",
              "                                                     [key], {});\n",
              "          if (!dataTable) return;\n",
              "\n",
              "          const docLinkHtml = 'Like what you see? Visit the ' +\n",
              "            '<a target=\"_blank\" href=https://colab.research.google.com/notebooks/data_table.ipynb>data table notebook</a>'\n",
              "            + ' to learn more about interactive tables.';\n",
              "          element.innerHTML = '';\n",
              "          dataTable['output_type'] = 'display_data';\n",
              "          await google.colab.output.renderOutput(dataTable, element);\n",
              "          const docLink = document.createElement('div');\n",
              "          docLink.innerHTML = docLinkHtml;\n",
              "          element.appendChild(docLink);\n",
              "        }\n",
              "      </script>\n",
              "    </div>\n",
              "  </div>\n",
              "  "
            ]
          },
          "metadata": {},
          "execution_count": 60
        }
      ]
    },
    {
      "cell_type": "markdown",
      "source": [
        "### Variables Description "
      ],
      "metadata": {
        "id": "PBTbrJXOngz2"
      }
    },
    {
      "cell_type": "markdown",
      "source": [
        "\n",
        "*   **Hotel** : Types of hotel (City or Resort)\n",
        "*   **is_canceled** : If the booking is cancelled 1 or else 0\n",
        "\n",
        "*   **lead_time** : The number of days between when a customer makes a reservation and their actual arrival\n",
        "*   **arrival_date_year** : Arrival year\n",
        "\n",
        "\n",
        "*   **arrival_date_month** : Month of arrival\n",
        "\n",
        "*   **arrival_date_week_number** : Week number of year\n",
        "*   **arrival_date_day_of_month** : date of arrival\n",
        "\n",
        "\n",
        "*   **stays_in_weekend_nights** : Number of weekend nights(saturday or sunday) guests stayed at hotel\n",
        "\n",
        "*  **stays_in_week_nights** : Number of week nights guests stayed at hotel\n",
        "*   **adults** : Number of adults stayed at hotel\n",
        "\n",
        "*   **children** : Number of children stayed at hotel\n",
        "*   **babies** : number of babies stayed at hotel\n",
        "\n",
        "*   **meal** : Type of meal plan booked\n",
        "*   **country** : Country of the guest/guests\n",
        "\n",
        "\n",
        "*   **market_segment** : the process of grouping hotel guests into categories based on their booking patterns and travel habits.\n",
        "*   **distribution_channel** : Type of booking distribution channel\n",
        "\n",
        "\n",
        "*   **is_repeated_guest** : If repeated guest(1) or else (0)\n",
        "*   **previous_cancellations** : Number of bookings cancelled by guest\n",
        "\n",
        "\n",
        "*   **previous_bookings_not_canceled** : Number of successful bookings\n",
        "*   **reserved_room_type** : Room type reserved by guest\n",
        "\n",
        "\n",
        "*   **assigned_room_type** : Actual room assigned to guest\n",
        "*   **booking_changes** : Number of changes made to booking\n",
        "\n",
        "*   **deposit_type** : Type of deposit made by guest\n",
        "\n",
        "*   **agent** : ID of Travel agent who made the booking\n",
        "\n",
        "*  **company** : ID of compant that made the booking\n",
        "\n",
        "*   **days_in_waiting_list** : Number of days the booking was in waiting list\n",
        "\n",
        "*   **customer_type** : Type of the customer\n",
        "*   **adr** : Average daily rate\n",
        "\n",
        "\n",
        "*   **required_car_parking_spaces** : Number of car parking spaces required by the guest\n",
        "\n",
        "\n",
        "*   **total_of_special_requests** : Number of special requests made by guest\n",
        "\n",
        "\n",
        "*   **reservation_status** : Status of the Reservation\n",
        "\n",
        "\n",
        "*   **reservation_status_date** : Check-Out Date"
      ],
      "metadata": {
        "id": "aJV4KIxSnxay"
      }
    },
    {
      "cell_type": "markdown",
      "source": [
        "### Check Unique Values for each variable."
      ],
      "metadata": {
        "id": "u3PMJOP6ngxN"
      }
    },
    {
      "cell_type": "code",
      "source": [
        "# Check Unique Values for each variable.\n",
        "for i in df1.columns:\n",
        "  print(f\"unique values of column '{i}': {list(df1[i].unique())}\")"
      ],
      "metadata": {
        "id": "zms12Yq5n-jE",
        "colab": {
          "base_uri": "https://localhost:8080/"
        },
        "outputId": "542e0ddb-59a1-4c16-ce7e-81f22cd81603"
      },
      "execution_count": 61,
      "outputs": [
        {
          "output_type": "stream",
          "name": "stdout",
          "text": [
            "unique values of column 'hotel': ['Resort Hotel', 'City Hotel']\n",
            "unique values of column 'is_canceled': [0, 1]\n",
            "unique values of column 'lead_time': [342, 737, 7, 13, 14, 0, 9, 85, 75, 23, 35, 68, 18, 37, 12, 72, 127, 78, 48, 60, 77, 99, 118, 95, 96, 69, 45, 40, 15, 36, 43, 70, 16, 107, 47, 113, 90, 50, 93, 76, 3, 1, 10, 5, 17, 51, 71, 63, 62, 101, 2, 81, 368, 364, 324, 79, 21, 109, 102, 4, 98, 92, 26, 73, 115, 86, 52, 29, 30, 33, 32, 8, 100, 44, 80, 97, 64, 39, 34, 27, 82, 94, 110, 111, 84, 66, 104, 28, 258, 112, 65, 67, 55, 88, 54, 292, 83, 105, 280, 394, 24, 103, 366, 249, 22, 91, 11, 108, 106, 31, 87, 41, 304, 117, 59, 53, 58, 116, 42, 321, 38, 56, 49, 317, 6, 57, 19, 25, 315, 123, 46, 89, 61, 312, 299, 130, 74, 298, 119, 20, 286, 136, 129, 124, 327, 131, 460, 140, 114, 139, 122, 137, 126, 120, 128, 135, 150, 143, 151, 132, 125, 157, 147, 138, 156, 164, 346, 159, 160, 161, 333, 381, 149, 154, 297, 163, 314, 155, 323, 340, 356, 142, 328, 144, 336, 248, 302, 175, 344, 382, 146, 170, 166, 338, 167, 310, 148, 165, 172, 171, 145, 121, 178, 305, 173, 152, 354, 347, 158, 185, 349, 183, 352, 177, 200, 192, 361, 207, 174, 330, 134, 350, 334, 283, 153, 197, 133, 241, 193, 235, 194, 261, 260, 216, 169, 209, 238, 215, 141, 189, 187, 223, 284, 214, 202, 211, 168, 230, 203, 188, 232, 709, 219, 162, 196, 190, 259, 228, 176, 250, 201, 186, 199, 180, 206, 205, 224, 222, 182, 210, 275, 212, 229, 218, 208, 191, 181, 179, 246, 255, 226, 288, 253, 252, 262, 236, 256, 234, 254, 468, 213, 237, 198, 195, 239, 263, 265, 274, 217, 220, 307, 221, 233, 257, 227, 276, 225, 264, 311, 277, 204, 290, 266, 270, 294, 319, 282, 251, 322, 291, 269, 240, 271, 184, 231, 268, 247, 273, 300, 301, 267, 244, 306, 293, 309, 272, 242, 295, 285, 243, 308, 398, 303, 245, 424, 279, 331, 281, 339, 434, 357, 325, 329, 278, 332, 343, 345, 360, 348, 367, 353, 373, 374, 406, 400, 326, 379, 399, 316, 341, 320, 385, 355, 363, 358, 296, 422, 390, 335, 370, 376, 375, 397, 289, 542, 403, 383, 384, 359, 393, 337, 362, 365, 435, 386, 378, 313, 351, 287, 471, 462, 411, 450, 318, 372, 371, 454, 532, 445, 389, 388, 407, 443, 437, 451, 391, 405, 412, 419, 420, 426, 433, 440, 429, 418, 447, 461, 605, 457, 475, 464, 482, 626, 489, 496, 503, 510, 517, 524, 531, 538, 545, 552, 559, 566, 573, 580, 587, 594, 601, 608, 615, 622, 629, 396, 410, 395, 423, 408, 409, 448, 465, 387, 414, 476, 479, 467, 490, 493, 478, 504, 507, 458, 518, 521, 377, 444, 380, 463]\n",
            "unique values of column 'arrival_date_year': [2015, 2016, 2017]\n",
            "unique values of column 'arrival_date_month': ['July', 'August', 'September', 'October', 'November', 'December', 'January', 'February', 'March', 'April', 'May', 'June']\n",
            "unique values of column 'arrival_date_week_number': [27, 28, 29, 30, 31, 32, 33, 34, 35, 36, 37, 38, 39, 40, 41, 42, 43, 44, 45, 46, 47, 48, 49, 50, 51, 52, 53, 1, 2, 3, 4, 5, 6, 7, 8, 9, 10, 11, 12, 13, 14, 15, 16, 17, 18, 19, 20, 21, 22, 23, 24, 25, 26]\n",
            "unique values of column 'arrival_date_day_of_month': [1, 2, 3, 4, 5, 6, 7, 8, 9, 10, 11, 12, 13, 14, 15, 16, 17, 18, 19, 20, 21, 22, 23, 24, 25, 26, 27, 28, 29, 30, 31]\n",
            "unique values of column 'stays_in_weekend_nights': [0, 1, 2, 4, 3, 6, 13, 8, 5, 7, 12, 9, 16, 18, 19, 10, 14]\n",
            "unique values of column 'stays_in_week_nights': [0, 1, 2, 3, 4, 5, 10, 11, 8, 6, 7, 15, 9, 12, 33, 20, 14, 16, 21, 13, 30, 19, 24, 40, 22, 42, 50, 25, 17, 32, 26, 18, 34, 35, 41]\n",
            "unique values of column 'adults': [2, 1, 3, 4, 40, 26, 50, 27, 55, 0, 20, 6, 5, 10]\n",
            "unique values of column 'children': [0.0, 1.0, 2.0, 10.0, 3.0, nan]\n",
            "unique values of column 'babies': [0, 1, 2, 10, 9]\n",
            "unique values of column 'meal': ['BB', 'FB', 'HB', 'SC', 'Undefined']\n",
            "unique values of column 'country': ['PRT', 'GBR', 'USA', 'ESP', 'IRL', 'FRA', nan, 'ROU', 'NOR', 'OMN', 'ARG', 'POL', 'DEU', 'BEL', 'CHE', 'CN', 'GRC', 'ITA', 'NLD', 'DNK', 'RUS', 'SWE', 'AUS', 'EST', 'CZE', 'BRA', 'FIN', 'MOZ', 'BWA', 'LUX', 'SVN', 'ALB', 'IND', 'CHN', 'MEX', 'MAR', 'UKR', 'SMR', 'LVA', 'PRI', 'SRB', 'CHL', 'AUT', 'BLR', 'LTU', 'TUR', 'ZAF', 'AGO', 'ISR', 'CYM', 'ZMB', 'CPV', 'ZWE', 'DZA', 'KOR', 'CRI', 'HUN', 'ARE', 'TUN', 'JAM', 'HRV', 'HKG', 'IRN', 'GEO', 'AND', 'GIB', 'URY', 'JEY', 'CAF', 'CYP', 'COL', 'GGY', 'KWT', 'NGA', 'MDV', 'VEN', 'SVK', 'FJI', 'KAZ', 'PAK', 'IDN', 'LBN', 'PHL', 'SEN', 'SYC', 'AZE', 'BHR', 'NZL', 'THA', 'DOM', 'MKD', 'MYS', 'ARM', 'JPN', 'LKA', 'CUB', 'CMR', 'BIH', 'MUS', 'COM', 'SUR', 'UGA', 'BGR', 'CIV', 'JOR', 'SYR', 'SGP', 'BDI', 'SAU', 'VNM', 'PLW', 'QAT', 'EGY', 'PER', 'MLT', 'MWI', 'ECU', 'MDG', 'ISL', 'UZB', 'NPL', 'BHS', 'MAC', 'TGO', 'TWN', 'DJI', 'STP', 'KNA', 'ETH', 'IRQ', 'HND', 'RWA', 'KHM', 'MCO', 'BGD', 'IMN', 'TJK', 'NIC', 'BEN', 'VGB', 'TZA', 'GAB', 'GHA', 'TMP', 'GLP', 'KEN', 'LIE', 'GNB', 'MNE', 'UMI', 'MYT', 'FRO', 'MMR', 'PAN', 'BFA', 'LBY', 'MLI', 'NAM', 'BOL', 'PRY', 'BRB', 'ABW', 'AIA', 'SLV', 'DMA', 'PYF', 'GUY', 'LCA', 'ATA', 'GTM', 'ASM', 'MRT', 'NCL', 'KIR', 'SDN', 'ATF', 'SLE', 'LAO']\n",
            "unique values of column 'market_segment': ['Direct', 'Corporate', 'Online TA', 'Offline TA/TO', 'Complementary', 'Groups', 'Undefined', 'Aviation']\n",
            "unique values of column 'distribution_channel': ['Direct', 'Corporate', 'TA/TO', 'Undefined', 'GDS']\n",
            "unique values of column 'is_repeated_guest': [0, 1]\n",
            "unique values of column 'previous_cancellations': [0, 1, 2, 3, 26, 25, 14, 4, 24, 19, 5, 21, 6, 13, 11]\n",
            "unique values of column 'previous_bookings_not_canceled': [0, 1, 2, 3, 4, 5, 6, 7, 8, 9, 10, 11, 12, 13, 14, 15, 16, 17, 18, 20, 21, 22, 23, 24, 25, 27, 28, 29, 30, 19, 26, 31, 32, 33, 34, 35, 36, 37, 38, 39, 40, 41, 42, 43, 44, 45, 46, 47, 48, 49, 50, 51, 52, 53, 54, 55, 56, 57, 58, 59, 60, 61, 62, 63, 64, 65, 66, 67, 68, 69, 70, 71, 72]\n",
            "unique values of column 'reserved_room_type': ['C', 'A', 'D', 'E', 'G', 'F', 'H', 'L', 'P', 'B']\n",
            "unique values of column 'assigned_room_type': ['C', 'A', 'D', 'E', 'G', 'F', 'I', 'B', 'H', 'P', 'L', 'K']\n",
            "unique values of column 'booking_changes': [3, 4, 0, 1, 2, 5, 17, 6, 8, 7, 10, 16, 9, 13, 12, 20, 14, 15, 11, 21, 18]\n",
            "unique values of column 'deposit_type': ['No Deposit', 'Refundable', 'Non Refund']\n",
            "unique values of column 'agent': [nan, 304.0, 240.0, 303.0, 15.0, 241.0, 8.0, 250.0, 115.0, 5.0, 175.0, 134.0, 156.0, 243.0, 242.0, 3.0, 105.0, 40.0, 147.0, 306.0, 184.0, 96.0, 2.0, 127.0, 95.0, 146.0, 9.0, 177.0, 6.0, 143.0, 244.0, 149.0, 167.0, 300.0, 171.0, 305.0, 67.0, 196.0, 152.0, 142.0, 261.0, 104.0, 36.0, 26.0, 29.0, 258.0, 110.0, 71.0, 181.0, 88.0, 251.0, 275.0, 69.0, 248.0, 208.0, 256.0, 314.0, 126.0, 281.0, 273.0, 253.0, 185.0, 330.0, 334.0, 328.0, 326.0, 321.0, 324.0, 313.0, 38.0, 155.0, 68.0, 335.0, 308.0, 332.0, 94.0, 348.0, 310.0, 339.0, 375.0, 66.0, 327.0, 387.0, 298.0, 91.0, 245.0, 385.0, 257.0, 393.0, 168.0, 405.0, 249.0, 315.0, 75.0, 128.0, 307.0, 11.0, 436.0, 1.0, 201.0, 183.0, 223.0, 368.0, 336.0, 291.0, 464.0, 411.0, 481.0, 10.0, 154.0, 468.0, 410.0, 390.0, 440.0, 495.0, 492.0, 493.0, 434.0, 57.0, 531.0, 420.0, 483.0, 526.0, 472.0, 429.0, 16.0, 446.0, 34.0, 78.0, 139.0, 252.0, 270.0, 47.0, 114.0, 301.0, 193.0, 182.0, 135.0, 350.0, 195.0, 352.0, 355.0, 159.0, 363.0, 384.0, 360.0, 331.0, 367.0, 64.0, 406.0, 163.0, 414.0, 333.0, 427.0, 431.0, 430.0, 426.0, 438.0, 433.0, 418.0, 441.0, 282.0, 432.0, 72.0, 450.0, 180.0, 454.0, 455.0, 59.0, 451.0, 254.0, 358.0, 469.0, 165.0, 467.0, 510.0, 337.0, 476.0, 502.0, 527.0, 479.0, 508.0, 535.0, 302.0, 497.0, 187.0, 13.0, 7.0, 27.0, 14.0, 22.0, 17.0, 28.0, 42.0, 20.0, 19.0, 45.0, 37.0, 61.0, 39.0, 21.0, 24.0, 41.0, 50.0, 30.0, 54.0, 52.0, 12.0, 44.0, 31.0, 83.0, 32.0, 63.0, 60.0, 55.0, 56.0, 89.0, 87.0, 118.0, 86.0, 85.0, 210.0, 214.0, 129.0, 179.0, 138.0, 174.0, 170.0, 153.0, 93.0, 151.0, 119.0, 35.0, 173.0, 58.0, 53.0, 133.0, 79.0, 235.0, 192.0, 191.0, 236.0, 162.0, 215.0, 157.0, 287.0, 132.0, 234.0, 98.0, 77.0, 103.0, 107.0, 262.0, 220.0, 121.0, 205.0, 378.0, 23.0, 296.0, 290.0, 229.0, 33.0, 286.0, 276.0, 425.0, 484.0, 323.0, 403.0, 219.0, 394.0, 509.0, 111.0, 423.0, 4.0, 70.0, 82.0, 81.0, 74.0, 92.0, 99.0, 90.0, 112.0, 117.0, 106.0, 148.0, 158.0, 144.0, 211.0, 213.0, 216.0, 232.0, 150.0, 267.0, 227.0, 247.0, 278.0, 280.0, 285.0, 289.0, 269.0, 295.0, 265.0, 288.0, 122.0, 294.0, 325.0, 341.0, 344.0, 346.0, 359.0, 283.0, 364.0, 370.0, 371.0, 25.0, 141.0, 391.0, 397.0, 416.0, 404.0, 299.0, 197.0, 73.0, 354.0, 444.0, 408.0, 461.0, 388.0, 453.0, 459.0, 474.0, 475.0, 480.0, 449.0]\n",
            "unique values of column 'company': [nan, 110.0, 113.0, 270.0, 178.0, 240.0, 154.0, 144.0, 307.0, 268.0, 59.0, 204.0, 312.0, 318.0, 94.0, 174.0, 274.0, 195.0, 223.0, 317.0, 281.0, 118.0, 53.0, 286.0, 12.0, 47.0, 324.0, 342.0, 373.0, 371.0, 383.0, 86.0, 82.0, 218.0, 88.0, 31.0, 397.0, 392.0, 405.0, 331.0, 367.0, 20.0, 83.0, 416.0, 51.0, 395.0, 102.0, 34.0, 84.0, 360.0, 394.0, 457.0, 382.0, 461.0, 478.0, 386.0, 112.0, 486.0, 421.0, 9.0, 308.0, 135.0, 224.0, 504.0, 269.0, 356.0, 498.0, 390.0, 513.0, 203.0, 263.0, 477.0, 521.0, 169.0, 515.0, 445.0, 337.0, 251.0, 428.0, 292.0, 388.0, 130.0, 250.0, 355.0, 254.0, 543.0, 531.0, 528.0, 62.0, 120.0, 42.0, 81.0, 116.0, 530.0, 103.0, 39.0, 16.0, 92.0, 61.0, 501.0, 165.0, 291.0, 290.0, 43.0, 325.0, 192.0, 108.0, 200.0, 465.0, 287.0, 297.0, 490.0, 482.0, 207.0, 282.0, 437.0, 225.0, 329.0, 272.0, 28.0, 77.0, 338.0, 72.0, 246.0, 319.0, 146.0, 159.0, 380.0, 323.0, 511.0, 407.0, 278.0, 80.0, 403.0, 399.0, 14.0, 137.0, 343.0, 346.0, 347.0, 349.0, 289.0, 351.0, 353.0, 54.0, 99.0, 358.0, 361.0, 362.0, 366.0, 372.0, 365.0, 277.0, 109.0, 377.0, 379.0, 22.0, 378.0, 330.0, 364.0, 401.0, 232.0, 255.0, 384.0, 167.0, 212.0, 514.0, 391.0, 400.0, 376.0, 402.0, 396.0, 302.0, 398.0, 6.0, 370.0, 369.0, 409.0, 168.0, 104.0, 408.0, 413.0, 148.0, 10.0, 333.0, 419.0, 415.0, 424.0, 425.0, 423.0, 422.0, 435.0, 439.0, 442.0, 448.0, 443.0, 454.0, 444.0, 52.0, 459.0, 458.0, 456.0, 460.0, 447.0, 470.0, 466.0, 484.0, 184.0, 485.0, 32.0, 487.0, 491.0, 494.0, 193.0, 516.0, 496.0, 499.0, 29.0, 78.0, 520.0, 507.0, 506.0, 512.0, 126.0, 64.0, 242.0, 518.0, 523.0, 539.0, 534.0, 436.0, 525.0, 541.0, 40.0, 455.0, 410.0, 45.0, 38.0, 49.0, 48.0, 67.0, 68.0, 65.0, 91.0, 37.0, 8.0, 179.0, 209.0, 219.0, 221.0, 227.0, 153.0, 186.0, 253.0, 202.0, 216.0, 275.0, 233.0, 280.0, 309.0, 321.0, 93.0, 316.0, 85.0, 107.0, 350.0, 279.0, 334.0, 348.0, 150.0, 73.0, 385.0, 418.0, 197.0, 450.0, 452.0, 115.0, 46.0, 76.0, 96.0, 100.0, 105.0, 101.0, 122.0, 11.0, 139.0, 142.0, 127.0, 143.0, 140.0, 149.0, 163.0, 160.0, 180.0, 238.0, 183.0, 222.0, 185.0, 217.0, 215.0, 213.0, 237.0, 230.0, 234.0, 35.0, 245.0, 158.0, 258.0, 259.0, 260.0, 411.0, 257.0, 271.0, 18.0, 106.0, 210.0, 273.0, 71.0, 284.0, 301.0, 305.0, 293.0, 264.0, 311.0, 304.0, 313.0, 288.0, 320.0, 314.0, 332.0, 341.0, 352.0, 243.0, 368.0, 393.0, 132.0, 220.0, 412.0, 420.0, 426.0, 417.0, 429.0, 433.0, 446.0, 357.0, 479.0, 483.0, 489.0, 229.0, 481.0, 497.0, 451.0, 492.0]\n",
            "unique values of column 'days_in_waiting_list': [0, 50, 47, 65, 122, 75, 101, 150, 125, 14, 60, 34, 100, 22, 121, 61, 39, 5, 1, 8, 107, 43, 52, 2, 11, 142, 116, 13, 44, 97, 83, 4, 113, 18, 20, 185, 93, 109, 6, 37, 105, 154, 64, 99, 38, 48, 33, 77, 21, 80, 59, 40, 58, 89, 53, 49, 69, 87, 91, 57, 111, 79, 98, 85, 63, 15, 3, 41, 224, 31, 56, 187, 176, 71, 55, 96, 236, 259, 207, 215, 160, 120, 30, 32, 27, 62, 24, 108, 147, 379, 70, 35, 178, 330, 223, 174, 162, 391, 68, 193, 10, 76, 16, 28, 9, 165, 17, 25, 46, 7, 84, 175, 183, 23, 117, 12, 54, 26, 73, 45, 19, 42, 72, 81, 92, 74, 167, 36]\n",
            "unique values of column 'customer_type': ['Transient', 'Contract', 'Transient-Party', 'Group']\n",
            "unique values of column 'adr': [0.0, 75.0, 98.0, 107.0, 103.0, 82.0, 105.5, 123.0, 145.0, 97.0, 154.77, 94.71, 97.5, 88.2, 107.42, 153.0, 97.29, 84.67, 99.67, 94.95, 63.6, 79.5, 94.0, 87.3, 62.0, 63.86, 108.3, 65.5, 108.8, 137.0, 117.81, 110.7, 58.95, 82.88, 82.35, 119.35, 67.58, 56.01, 147.0, 117.9, 135.0, 133.0, 136.33, 110.5, 110.3, 73.8, 91.5, 114.5, 90.9, 122.0, 85.86, 55.68, 124.0, 111.15, 134.73, 92.45, 108.73, 131.0, 117.0, 196.54, 99.3, 90.95, 92.67, 71.55, 96.49, 85.8, 96.3, 163.0, 172.0, 139.0, 67.24, 116.5, 149.0, 105.0, 113.0, 85.1, 89.0, 80.1, 101.0, 167.0, 225.0, 85.59, 164.2, 114.0, 98.4, 175.0, 124.45, 74.07, 134.1, 171.32, 210.0, 117.8, 117.63, 185.0, 71.0, 47.25, 151.0, 120.6, 157.1, 91.37, 73.0, 93.6, 83.5, 185.5, 109.8, 195.0, 193.0, 150.0, 126.65, 146.0, 61.0, 104.72, 66.42, 77.96, 112.0, 89.68, 155.0, 130.1, 100.1, 105.08, 65.42, 75.46, 119.25, 118.13, 120.0, 197.0, 165.0, 149.4, 106.84, 161.0, 134.43, 144.43, 152.0, 125.54, 133.83, 159.75, 112.2, 110.6, 105.9, 95.27, 108.83, 153.96, 90.67, 126.67, 144.4, 99.5, 139.4, 89.97, 144.9, 100.0, 104.68, 166.0, 111.25, 213.75, 178.0, 113.9, 129.29, 169.0, 93.0, 132.29, 117.22, 164.57, 105.71, 126.0, 148.3, 125.22, 130.0, 133.16, 78.84, 90.71, 120.2, 128.0, 130.05, 103.8, 196.0, 175.71, 119.7, 100.86, 64.0, 110.0, 132.8, 144.2, 107.2, 163.8, 98.5, 130.5, 184.6, 181.22, 100.2, 134.25, 83.09, 134.0, 8.0, 136.2, 101.8, 127.0, 161.5, 230.67, 65.7, 180.0, 168.57, 107.67, 96.9, 73.41, 109.9, 187.5, 132.44, 106.9, 131.86, 216.13, 190.33, 98.75, 148.23, 123.2, 198.0, 103.5, 135.6, 184.0, 151.33, 121.33, 150.2, 75.44, 160.0, 127.25, 164.0, 144.5, 155.5, 107.6, 133.75, 84.8, 125.0, 132.3, 92.0, 194.9, 118.5, 192.0, 128.27, 126.3, 154.0, 136.0, 116.33, 147.67, 168.3, 137.75, 132.6, 157.0, 132.5, 98.02, 173.0, 249.0, 186.5, 95.0, 241.5, 177.0, 153.73, 115.0, 127.03, 128.25, 124.5, 154.5, 110.53, 158.5, 131.37, 117.71, 117.84, 116.85, 129.16, 214.0, 135.2, 179.1, 111.65, 104.0, 133.17, 141.33, 121.01, 240.64, 167.5, 152.43, 148.34, 172.93, 192.5, 111.2, 141.6, 200.0, 207.0, 163.33, 151.86, 95.57, 112.05, 103.18, 119.75, 167.69, 178.4, 194.0, 101.46, 217.05, 112.5, 233.0, 222.67, 149.7, 161.25, 159.2, 163.29, 121.98, 118.0, 158.77, 142.03, 240.0, 176.0, 131.63, 233.05, 90.12, 114.25, 88.55, 95.02, 209.0, 174.01, 124.2, 162.0, 133.2, 167.2, 183.45, 159.6, 219.43, 102.72, 114.85, 138.8, 115.5, 108.54, 165.4, 188.0, 186.0, 141.65, 99.24, 108.06, 148.63, 250.33, 146.67, 280.74, 137.8, 125.89, 126.71, 154.8, 219.5, 111.92, 57.6, 157.8, 170.33, 118.06, 202.0, 252.0, 211.0, 237.0, 188.29, 177.14, 222.14, 127.82, 194.14, 144.53, 193.13, 210.78, 174.7, 135.53, 144.0, 162.5, 209.6, 195.5, 163.5, 180.28, 174.76, 159.0, 104.55, 144.76, 205.0, 220.55, 162.14, 77.54, 221.0, 230.5, 241.0, 187.8, 171.9, 148.25, 183.0, 242.6, 168.71, 268.0, 149.2, 217.2, 239.3, 181.5, 181.9, 267.0, 226.0, 191.0, 277.5, 133.5, 154.38, 121.39, 250.0, 208.0, 181.0, 157.59, 211.75, 246.0, 200.71, 276.43, 228.0, 138.0, 165.69, 127.31, 211.5, 210.33, 145.4, 101.25, 179.38, 277.0, 106.4, 254.0, 147.6, 129.0, 147.07, 164.65, 190.0, 185.57, 162.3, 274.93, 156.73, 200.7, 142.26, 129.41, 157.08, 258.33, 133.21, 173.5, 184.45, 158.0, 114.14, 168.8, 178.33, 255.0, 87.91, 187.2, 243.0, 222.2, 178.2, 203.0, 266.4, 236.0, 271.0, 232.0, 223.0, 178.67, 167.25, 195.8, 229.0, 266.0, 262.0, 182.5, 234.0, 242.5, 158.4, 131.2, 248.0, 209.2, 299.33, 156.45, 145.75, 198.71, 218.0, 101.65, 188.71, 181.94, 150.53, 223.99, 175.79, 165.11, 209.4, 225.9, 131.1, 187.0, 87.9, 213.0, 172.55, 179.0, 229.67, 121.5, 176.64, 179.86, 239.5, 186.25, 220.4, 163.23, 222.07, 176.8, 163.35, 213.5, 176.75, 123.04, 260.71, 222.0, 174.71, 118.7, 129.55, 179.83, 160.43, 146.3, 161.26, 195.45, 162.29, 221.43, 177.57, 218.5, 151.89, 151.95, 191.67, 201.0, 259.0, 164.4, 199.0, 155.77, 131.7, 206.0, 201.5, 138.79, 113.47, 231.6, 261.4, 199.4, 150.83, 129.27, 133.76, 197.7, 219.33, 200.8, 130.2, 189.67, 186.13, 158.38, 206.6, 137.7, 129.15, 192.2, 202.77, 111.27, 157.67, 112.34, 172.6, 120.27, 118.29, 75.53, 90.39, 155.86, 120.38, 180.55, 127.67, 114.13, 113.7, 166.5, 101.16, 130.6, 109.83, 141.67, 98.63, 166.14, 150.71, 97.74, 189.86, 123.11, 104.8, 142.5, 77.5, 140.4, 173.25, 122.86, 130.9, 129.33, 115.2, 71.72, 106.8, 71.69, 112.33, 113.43, 161.29, 167.86, 103.07, 92.86, 80.55, 120.33, 130.33, 96.33, 117.83, 122.6, 101.44, 120.5, 126.29, 87.75, 113.55, 134.67, 137.67, 111.0, 119.0, 109.0, 93.12, 101.03, 120.71, 82.72, 110.71, 114.19, 86.95, 154.25, 57.0, 131.4, 90.4, 80.0, 109.5, 91.46, 62.48, 124.1, 143.0, 116.8, 151.25, 168.0, 151.88, 143.5, 171.0, 156.0, 139.5, 154.14, 107.5, 124.8, 111.5, 83.7, 91.77, 208.14, 103.85, 66.15, 99.8, 111.96, 139.18, 83.15, 77.6, 64.29, 117.29, 75.96, 84.47, 101.53, 97.54, 76.5, 68.5, 86.69, 124.4, 77.7, 59.0, 115.4, 108.0, 87.05, 70.98, 82.44, 57.54, 120.43, 106.25, 70.48, 85.0, 48.88, 73.5, 101.5, 118.2, 50.15, 112.42, 138.5, 57.5, 77.11, 97.99, 51.75, 141.5, 36.0, 59.13, 66.6, 58.05, 95.86, 68.45, 131.14, 72.25, 53.1, 127.75, 110.75, 91.0, 122.75, 138.6, 70.2, 93.21, 58.5, 132.0, 212.83, 120.08, 77.2, 160.8, 76.67, 100.5, 103.51, 68.4, 55.79, 99.0, 122.14, 90.14, 68.88, 74.53, 71.66, 74.0, 79.0, 65.0, 55.0, 86.0, 83.0, 77.75, 150.25, 85.5, 71.2, 81.5, 106.2, 84.71, 59.2, 109.71, 90.43, 80.63, 45.9, 81.6, 81.2, 87.33, 75.1, 69.83, 102.93, 65.1, 96.26, 124.74, 138.29, 125.71, 116.0, 95.4, 100.93, 74.93, 58.98, 58.93, 103.22, 42.5, 55.64, 26.0, 90.0, 72.0, 59.02, 89.14, 53.69, 114.48, 73.98, 65.64, 75.43, 77.73, 140.63, 108.65, 75.65, 108.85, 56.98, 74.8, 87.86, 75.5, 97.2, 76.3, 74.7, 55.43, 48.54, 83.8, 43.93, 108.5, 136.5, 96.5, 89.06, 72.14, 90.49, 53.68, 80.08, 73.35, 82.8, 128.42, 55.09, 93.86, 69.13, 88.4, 94.5, 78.6, 85.08, 93.43, 36.13, 66.29, 90.74, 38.25, 106.31, 74.2, 93.2, 83.67, 42.23, 68.53, 86.1, 63.14, 74.6, 60.5, 69.5, 55.44, 44.5, 108.09, 68.0, 78.1, 70.5, 66.8, 39.24, 48.78, 54.4, 56.59, 59.03, 148.12, 81.45, 81.75, 48.8, 106.0, 90.1, 55.5, 55.8, 67.5, 13.0, 64.33, 79.83, 100.33, 71.93, 52.73, 58.57, 48.0, 62.43, 44.27, 87.0, 48.3, 56.0, 66.0, 74.4, 74.23, 77.0, 69.93, 57.43, 36.74, 63.08, 47.0, 50.4, 76.0, 78.0, 59.4, 60.9, 67.25, 63.9, 36.05, 42.3, 67.0, 58.0, 38.07, 40.07, 59.29, 74.14, 40.96, 44.8, 47.33, 83.05, 87.43, 68.16, 136.71, 51.3, 92.6, 63.66, 68.43, 60.4, 78.2, 41.25, 40.05, 107.43, 57.67, 63.47, 60.3, 61.5, 88.0, 56.95, 54.5, 54.72, 83.6, 65.45, 71.67, 37.0, 52.2, 43.12, 62.8, 96.67, 43.3, 66.3, 49.01, 41.6, 48.74, 68.86, 40.0, 73.67, 50.0, 73.66, 45.0, 41.37, 53.37, 48.57, 77.43, 123.56, 62.47, 42.0, 104.67, 113.33, 72.8, 54.02, 63.33, 83.33, 78.8, 55.73, 71.5, 70.4, 73.68, 76.35, 49.2, 102.5, 61.35, 4.0, 79.22, 46.5, 37.6, 56.4, 56.52, 58.24, 69.85, 92.71, 53.0, 61.28, 74.28, 73.38, 64.5, 43.0, 33.3, 70.0, 57.83, 68.57, 54.77, 45.56, 50.05, 86.5, 67.92, 55.14, 81.34, 40.5, 39.0, 40.23, 76.8, 58.4, 79.63, 37.56, 36.9, 67.56, 67.15, 88.67, 60.0, 34.65, 41.98, 45.55, 66.43, 112.29, 61.6, 81.0, 70.31, 38.92, 119.43, 52.51, 49.8, 96.0, 54.0, 42.05, 52.0, 34.56, 63.82, 48.6, 43.2, 72.5, 77.4, 63.76, 69.76, 65.19, 35.1, 41.1, 56.02, 41.45, 47.45, 47.12, 45.66, 37.4, 49.74, 49.0, 38.81, 39.2, 46.0, 69.0, 34.43, 51.84, 46.65, 37.29, 47.6, 34.97, 46.76, 25.0, 44.1, 55.04, 56.16, 61.87, 24.8, 50.5, 29.0, 69.43, 41.4, 26.1, 35.0, 22.5, 48.9, 24.79, 42.55, 54.99, 77.3, 62.5, 52.4, 30.0, 32.62, 62.16, 38.47, 32.4, 36.75, 54.88, 71.33, 72.29, 63.92, 77.23, 61.2, 47.7, 73.2, 27.9, 63.0, 66.64, 49.59, 77.1, 65.25, 51.0, 58.2, 40.93, 67.99, 62.83, 55.1, 65.23, 45.64, 29.16, 47.4, 34.51, 28.1, 18.5, 26.33, 31.0, 66.32, 36.45, 58.32, 32.0, 44.0, 54.05, 147.1, 38.4, 49.4, 46.4, 108.15, 32.1, 68.2, 55.95, 87.53, 49.5, 84.0, 92.1, 35.7, 39.1, 86.4, 48.4, 55.92, 91.8, 63.72, 39.96, 44.49, 50.93, 24.95, 58.7, 56.7, 28.33, 31.12, 21.37, 26.95, 38.7, 46.16, 37.3, 45.33, 51.99, 50.33, 33.58, 40.29, 36.26, 44.77, 47.54, 58.52, 46.27, 31.88, 31.18, 50.77, 54.68, 64.14, 25.11, 65.57, 34.79, 75.57, 81.29, 42.57, 43.57, 85.2, 75.2, 38.29, 31.64, 73.4, 37.67, 82.17, 27.0, 73.1, 34.33, 94.36, 90.07, 29.96, 57.29, 40.95, 68.55, 93.3, 35.64, 61.39, 89.25, 48.42, 92.55, 63.68, 41.33, 79.86, 47.06, 65.18, 71.88, 33.26, 39.26, 71.28, 39.42, 125.51, 106.92, 49.92, 51.92, 99.51, 46.64, 72.63, 89.5, 81.9, 66.83, 73.7, 62.88, 204.33, 102.6, 84.5, 107.75, 192.25, 129.2, 221.2, 94.25, 146.5, 86.29, 332.0, 270.0, 95.85, 66.02, 136.1, 148.1, 103.35, 154.98, 92.43, 95.07, 276.6, 160.98, 145.87, 169.48, 199.73, 59.18, 59.94, 116.1, 73.46, 57.9, 90.17, 46.93, 32.3, 52.8, 33.08, 25.92, 22.11, 38.0, 66.98, 36.86, 35.16, 31.45, 24.94, 56.1, 50.54, 54.67, 38.88, 36.25, 69.67, 56.57, 72.55, 73.33, 43.4, 67.88, 53.44, 67.2, 46.8, 40.32, 49.95, 23.7, 59.6, 23.93, 83.9, 52.36, 38.32, 68.8, 36.96, 65.9, 24.5, 80.44, 31.59, 79.33, 86.57, 55.2, 40.8, 34.2, 27.81, 65.31, 42.45, 60.74, 60.64, 40.68, 102.33, 20.0, 65.65, 25.65, 37.54, 43.33, 37.8, 32.01, 62.86, 82.73, 70.17, 67.4, 43.25, 70.91, 40.11, 77.25, 55.63, 96.8, 39.27, 42.69, 61.67, 110.2, 83.4, 52.68, 54.9, 85.72, 42.67, 85.75, 113.4, 21.0, 102.75, 70.8, 108.75, 49.22, 99.7, 45.36, 51.36, 76.75, 43.7, 70.11, 47.97, 95.67, 73.29, 50.63, 141.0, 50.67, 45.6, 69.33, 80.16, 35.14, 88.84, 60.84, 105.22, 53.94, 51.69, 51.87, 94.16, 60.2, 68.56, 75.8, 42.19, 112.71, 74.75, 66.67, 71.83, 63.5, 86.3, 47.9, 74.45, 68.66, 72.45, 11.53, 67.05, 76.05, 62.05, 53.28, 56.89, 50.85, 68.42, 78.56, 69.36, 44.36, 121.0, 52.98, 46.98, 85.33, 19.0, 49.3, 101.7, 40.76, 52.56, 73.57, 113.57, 82.95, 125.67, 79.2, 39.33, 67.75, 23.0, 88.33, 62.4, 74.33, 108.67, 82.67, 82.5, 48.06, 93.57, 64.83, 63.4, 84.96, 46.75, 74.76, 55.83, 56.11, 115.55, 65.6, 71.7, 48.98, 100.3, 65.4, 50.59, 41.62, 48.75, 55.89, 53.87, 82.96, 39.95, 64.09, 73.15, 63.36, 43.19, 43.76, 39.69, 46.18, 59.93, 113.19, 56.5, 44.45, 140.0, 48.08, 41.75, 5.25, 110.25, 39.83, 125.5, 17.5, 50.02, 57.11, 82.03, 89.3, 75.33, 76.76, 50.88, 34.85, 79.3, 48.72, 67.6, 67.67, 70.29, 71.14, 66.75, 79.13, 80.85, 109.75, 130.4, 109.4, 71.96, 6.0, 43.78, 87.46, 100.55, 57.8, 62.2, 59.28, 57.28, 83.16, 59.3, 59.24, 66.63, 76.86, 128.28, 82.83, 79.84, 65.2, 105.81, 52.58, 89.67, 79.26, 66.34, 73.71, 68.06, 116.43, 95.95, 56.72, 105.8, 95.04, 48.71, 131.5, 67.79, 87.49, 123.71, 57.34, 72.9, 116.11, 162.71, 64.9, 88.5, 148.0, 58.1, 137.89, 97.3, 77.85, 118.71, 92.7, 77.84, 53.55, 72.98, 100.8, 64.8, 138.71, 75.34, 148.71, 51.85, 102.43, 95.73, 99.9, 129.9, 78.5, 115.67, 94.86, 118.86, 109.86, 102.3, 87.5, 122.33, 125.6, 120.3, 105.56, 60.35, 53.85, 131.67, 189.0, 108.9, 114.75, 107.1, 103.05, 65.83, 53.12, 67.54, 89.1, 138.47, 88.9, 57.15, 59.31, 102.35, 69.71, 96.43, 98.6, 99.64, 183.5, 77.64, 103.2, 128.8, 65.75, 189.19, 115.75, 103.75, 150.57, 156.75, 62.9, 108.17, 92.36, 57.51, 174.0, 53.84, 85.3, 191.43, 100.29, 141.01, 118.15, 196.5, 126.64, 123.33, 220.0, 145.25, 74.57, 143.57, 145.88, 155.57, 155.33, 130.67, 90.64, 73.49, 61.92, 93.96, 120.16, 57.25, 77.14, 185.33, 60.29, 151.8, 59.8, 73.95, 80.2, 105.54, 206.33, 130.75, 208.56, 142.0, 64.85, 135.25, 105.4, 103.26, 114.65, 36.5, 103.76, 1.8, 121.6, 79.06, 111.3, 272.0, 178.64, 163.2, 75.6, 128.35, 105.2, 113.3, 55.65, 91.81, 170.0, 219.0, 131.75, 162.24, 178.5, 146.1, 120.8, 147.2, 224.0, 160.71, 159.5, 84.15, 93.77, 92.25, 107.63, 85.05, 136.73, 260.0, 165.75, 151.43, 112.63, 238.63, 115.93, 160.56, 84.9, 225.8, 235.0, 92.57, 127.5, 204.0, 169.67, 161.1, 176.25, 231.43, 123.43, 237.33, 280.0, 215.33, 184.5, 177.5, 212.14, 127.71, 123.64, 197.1, 193.83, 236.67, 145.71, 12.0, 141.56, 142.88, 212.0, 161.4, 150.8, 149.45, 239.0, 227.0, 115.92, 204.44, 242.0, 190.2, 81.98, 152.86, 116.18, 172.71, 172.86, 154.3, 287.0, 118.57, 169.43, 116.57, 247.0, 143.2, 137.43, 216.0, 180.25, 182.0, 160.93, 195.75, 156.6, 224.43, 169.5, 193.43, 167.14, 288.0, 161.67, 195.33, 222.33, 173.67, 162.86, 174.86, 209.71, 157.5, 175.33, 201.33, 198.29, 243.32, 219.8, 113.05, 132.17, 209.1, 189.6, 188.33, 173.79, 210.43, 199.2, 176.43, 200.43, 292.0, 162.94, 177.62, 266.5, 253.57, 167.4, 197.71, 204.5, 172.8, 153.25, 165.25, 146.8, 130.55, 140.76, 143.3, 176.44, 256.5, 244.5, 282.0, 160.5, 141.1, 283.32, 231.0, 272.7, 125.4, 230.0, 186.88, 299.0, 245.67, 187.7, 182.2, 248.75, 188.75, 248.89, 188.89, 298.0, 289.0, 251.0, 202.33, 274.0, 165.55, 273.0, 269.0, 236.71, 243.63, 202.28, 369.0, 278.6, 246.5, 206.78, 222.5, 135.15, 196.7, 205.67, 187.33, 169.36, 254.31, 261.5, 132.56, 202.57, 225.67, 231.5, 226.5, 210.86, 103.7, 256.0, 291.0, 251.5, 234.6, 195.3, 279.0, 277.67, 197.67, 195.6, 227.92, 258.0, 247.67, 263.0, 235.57, 201.86, 154.64, 309.0, 289.9, 248.16, 261.0, 195.86, 214.99, 217.14, 236.5, 140.16, 216.5, 157.25, 144.61, 161.55, 110.32, 188.14, 201.25, 217.33, 314.5, 168.63, 286.79, 177.79, 281.0, 143.1, 275.0, 200.1, 247.33, 256.75, 251.86, 238.16, 208.48, 226.14, 210.67, 120.1, 188.78, 203.89, 117.19, 304.0, 286.0, 194.5, 329.0, 235.67, 189.42, 122.4, 226.73, 251.73, 91.55, 206.5, 184.8, 180.57, 322.0, 200.67, 200.57, 149.18, 192.73, 175.34, 170.56, 239.1, 220.49, 195.43, 214.6, 193.29, 179.2, 265.67, 182.33, 249.5, 253.0, 190.67, 206.71, 209.86, 207.25, 232.25, 209.5, 82.29, 185.43, 114.29, 178.28, 99.63, 202.13, 102.0, 243.8, 213.8, 181.8, 189.8, 86.79, 204.75, 241.75, 188.5, 171.5, 163.6, 109.3, 196.71, 197.14, 247.57, 121.47, 142.1, 68.61, 85.88, 174.38, 246.67, 149.5, 231.8, 191.5, 201.8, 149.33, 223.29, 145.8, 57.68, 71.4, 154.4, 111.94, 86.46, 117.48, 90.06, 227.1, 90.8, 101.43, 65.61, 156.54, 87.8, 101.68, 175.5, 95.16, 52.7, 240.6, 105.02, 108.91, 83.3, 161.75, 264.0, 150.6, 142.55, 99.17, 149.1, 78.36, 92.9, 88.29, 112.48, 85.11, 145.67, 75.95, 85.62, 130.43, 74.72, 148.4, 117.73, 146.78, 102.25, 114.9, 158.78, 119.65, 143.33, 88.71, 148.29, 101.4, 61.4, 76.4, 189.25, 96.4, 64.98, 221.07, 106.43, 104.75, 111.75, 142.2, 68.35, 292.4, 92.33, 71.9, 68.6, 60.25, 114.73, 70.85, 123.1, 62.25, 146.2, 142.53, 124.55, 182.25, 111.14, 85.6, 212.86, 156.14, 156.25, 164.17, 90.33, 92.75, 162.1, 91.86, 217.0, 108.26, 79.42, 119.71, 74.62, 22.4, 94.1, 189.5, 86.14, 92.14, 110.36, 120.25, 71.04, 126.9, 92.89, 64.64, 52.6, 53.13, 139.3, 79.8, 65.37, 62.56, 161.86, 88.61, 80.4, 52.27, 127.14, 67.78, 163.75, 106.5, 126.4, 66.28, 42.81, 44.81, 63.45, 80.81, 46.36, 246.02, 71.56, 60.36, 78.81, 71.36, 41.85, 124.14, 140.71, 60.83, 59.5, 141.7, 93.15, 49.25, 62.29, 44.66, 63.67, 67.8, 45.14, 92.4, 65.33, 78.31, 70.75, 49.57, 85.74, 76.2, 92.5, 59.16, 45.86, 59.66, 46.51, 37.2, 74.04, 53.79, 55.25, 68.49, 46.88, 65.43, 57.55, 48.95, 84.4, 59.75, 42.56, 63.03, 41.27, 71.23, 85.73, 65.27, 61.52, 103.57, 95.71, 48.86, 41.29, 42.29, 50.1, 44.53, 64.1, 49.17, 94.8, 30.86, 80.57, 38.03, 32.23, 42.1, 95.91, 84.6, 54.98, 88.96, 55.13, 40.66, 26.93, 30.24, 49.9, 44.64, 40.81, 36.84, 37.7, 41.18, 34.0, 46.96, 56.83, 42.4, 59.64, 43.65, 69.66, 33.6, 49.75, 36.04, 39.9, 76.95, 116.6, 43.92, 30.6, 44.33, 39.38, 39.06, 50.2, 26.64, 70.07, 47.57, 35.12, 86.22, 38.67, 34.8, 83.06, 144.57, 64.4, 116.53, 50.22, 57.23, 56.42, 57.53, 39.6, 137.5, 25.64, 104.73, 90.5, 52.33, 46.35, 110.11, 91.44, 51.22, 109.03, 52.46, 81.01, 56.88, 148.11, 116.4, 97.67, 60.6, 59.48, 340.0, 384.0, 86.16, 302.11, 198.33, 173.1, 165.33, 100.25, 71.25, 165.08, 382.0, 229.4, 67.95, 94.29, 51.5, 32.22, 42.43, 34.02, 47.8, 78.3, 53.5, 38.86, 25.5, 41.0, 33.31, 54.27, 69.35, 46.43, 29.11, 37.83, 61.8, 56.24, 34.4, 67.33, 74.1, 34.11, 84.57, 36.43, 45.5, 37.44, 64.68, 58.67, 47.14, 71.46, 58.6, 101.3, 28.8, 40.14, 97.33, 53.2, 69.04, 61.86, 63.3, 57.33, 66.21, 28.0, 96.2, 44.7, 43.03, 49.71, 37.95, 37.5, 80.07, 70.33, 53.7, 146.57, 69.25, 113.6, 67.43, 86.88, 176.4, 129.57, 71.57, 93.88, 87.48, 195.98, 81.18, 83.25, 63.75, 93.75, 125.29, 72.86, 103.33, 137.71, 159.29, 187.71, 138.4, 153.57, 147.86, 62.34, 77.86, 74.46, 149.29, 187.64, 121.25, 184.25, 103.68, 76.9, 135.5, 81.67, 102.34, 74.25, 116.75, 111.83, 195.25, 78.75, 93.94, 65.04, 106.67, 91.67, 98.33, 70.25, 91.35, 97.14, 59.79, 68.81, 80.56, 68.33, 82.49, 85.14, 75.36, 203.21, 78.57, 123.57, 108.36, 83.84, 84.21, 131.29, 79.67, 35.34, 165.71, 51.97, 68.95, 52.5, 41.58, 78.33, 97.71, 62.37, 86.91, 120.14, 105.61, 131.16, 83.43, 71.43, 54.86, 139.51, 107.17, 66.24, 168.13, 127.83, 96.14, 87.67, 119.5, 119.08, 74.03, 78.85, 67.32, 114.15, 105.6, 76.03, 89.7, 195.4, 183.57, 147.36, 119.16, 10.0, 133.1, 118.8, 93.29, 71.76, 122.5, 102.21, 143.43, 81.57, 67.41, 96.21, 146.25, 155.8, 77.22, 118.67, 89.87, 129.86, 111.44, 91.2, 225.5, 158.33, 62.1, 108.33, 134.44, 135.33, 71.1, 140.44, 262.5, 79.66, 93.5, 135.9, 98.06, 213.33, 215.0, 68.08, 193.67, 102.85, 113.52, 78.4, 184.16, 171.39, 177.71, 117.04, 107.95, 80.19, 183.43, 133.13, 86.7, 238.0, 72.09, 311.0, 104.66, 203.67, 117.5, 153.71, 71.6, 77.61, 178.46, 123.97, 150.92, 127.8, 102.38, 82.76, 153.6, 68.47, 98.09, 162.12, 81.76, 105.66, 84.42, 84.93, 170.7, 151.14, 265.0, 105.78, 84.7, 114.3, 89.08, 118.4, 113.01, 71.29, 100.91, 162.57, 187.53, 97.46, 105.13, 104.1, 155.43, 112.22, 111.6, 102.24, 106.56, 160.17, 76.24, 130.25, 115.74, 131.25, 118.62, 110.74, 93.38, 138.64, 141.12, 178.31, 146.93, 217.5, 108.1, 136.82, 130.36, 138.25, 204.29, 122.53, 182.86, 176.86, 300.86, 203.11, 150.22, 162.68, 155.83, 206.57, 158.57, 178.13, 138.09, 112.8, 238.71, 137.57, 185.71, 243.71, 166.92, 180.67, 208.73, 259.86, 204.7, 163.43, 211.03, 171.14, 223.57, 99.81, 219.14, 199.86, 105.47, 192.57, 145.14, 123.38, 193.5, 179.71, 148.5, 165.6, 142.67, 156.67, 169.89, 125.52, 188.42, 159.33, 173.75, 132.86, 274.67, 127.24, 152.71, 197.5, 129.7, 176.18, 303.0, 178.75, 164.29, 242.75, 146.98, 293.0, 138.38, 183.83, 169.6, 137.14, 186.84, 230.86, 192.38, 207.5, 168.75, 196.25, 198.75, 104.85, 230.3, 113.14, 293.33, 253.25, 163.53, 217.71, 233.1, 289.6, 205.33, 234.67, 184.44, 194.4, 190.18, 169.2, 188.65, 152.1, 181.54, 212.54, 171.71, 154.54, 154.29, 203.71, 216.93, 338.0, 302.0, 174.25, 243.16, 151.5, 201.4, 181.88, 167.18, 342.29, 274.45, 244.0, 216.25, 234.56, 152.5, 290.67, 183.59, 183.05, 182.92, 186.74, 188.57, 201.6, 183.2, 306.0, 183.28, 183.33, 232.91, 139.2, 209.58, 153.75, 158.63, 147.9, 237.34, 179.34, 245.0, 165.38, 278.0, 172.2, 289.5, 317.0, 353.0, 183.75, 257.0, 315.0, 187.52, 208.05, 139.68, 278.57, 166.7, 270.71, 305.0, 211.3, 190.23, 206.62, 221.6, 212.16, 186.2, 224.16, 206.12, 267.86, 156.34, 192.6, 125.28, 229.5, 279.5, 310.0, 193.6, 224.44, 237.5, 363.0, 155.79, 178.29, 219.29, 204.62, 242.1, 229.33, 266.6, 171.34, 206.9, 183.6, 311.7, 294.86, 212.17, 309.1, 170.6, 229.17, 266.3, 172.49, 228.57, 129.48, 227.8, 188.6, 157.31, 218.18, 166.67, 150.17, 301.43, 258.27, 215.71, 145.44, 134.86, 242.25, 315.71, 244.72, 190.96, 450.0, 202.92, 300.4, 253.33, 179.77, 148.74, 241.6, 193.1, 257.34, 165.15, 215.67, 282.29, 269.5, 212.5, 185.4, 193.33, 283.6, 223.75, 378.0, 358.75, 203.13, 328.0, 144.97, 330.0, 204.18, 160.2, 259.33, 139.54, 323.0, 297.0, 225.6, 207.3, 303.7, 156.96, 133.74, 178.56, 294.5, 248.33, 207.18, 181.2, 197.4, 178.1, 188.38, 195.95, 231.84, 134.85, 196.2, 392.0, 273.25, 264.29, 259.43, 229.52, 297.38, 300.0, 155.7, 232.33, 303.2, 256.57, 208.57, 179.66, 225.33, 164.44, 437.0, 219.6, 180.5, 117.3, 207.23, 388.0, 204.67, 177.41, 274.5, 208.67, 308.0, 246.8, 224.33, 174.6, 154.85, 208.8, 144.88, 289.8, 311.5, 318.0, 185.75, 217.6, 290.0, 154.08, 238.57, 257.6, 126.8, 227.22, 214.84, 203.75, 205.6, 192.8, 235.71, 174.24, 247.2, 190.88, 343.0, 140.94, 165.37, 174.04, 255.45, 234.62, 204.74, 199.12, 295.5, 240.91, 278.14, 206.51, 191.14, 187.4, 125.46, 319.0, 216.67, 225.71, 174.54, 205.71, 181.11, 239.14, 188.03, 229.43, 331.33, 251.43, 243.33, 303.33, 295.67, 342.17, 262.38, 284.86, 340.86, 201.43, 299.43, 294.29, 183.13, 194.29, 179.89, 293.86, 245.3, 205.14, 128.7, 244.16, 295.0, 253.8, 198.05, 218.25, 286.25, 341.0, 312.0, 232.5, 180.38, 293.6, 171.25, 233.33, 284.0, 152.33, 196.67, 200.86, 219.45, 28.5, 38.5, 126.6, 48.5, 248.1, 129.5, 70.15, 93.67, 223.5, 33.0, 5.0, 171.2, 80.8, 184.67, 69.3, 78.42, 172.38, 214.92, 148.14, 42.08, 107.25, 39.5, 182.6, 129.3, 205.03, 178.15, 212.31, 69.58, 55.3, 27.54, 35.11, 124.38, 108.4, 34.5, 169.93, 203.4, 130.34, 97.85, 44.88, 53.63, 29.3, 39.67, 140.7, 21.5, 29.6, 185.6, 127.3, 233.92, 170.95, 113.63, 174.8, 102.86, 335.0, 14.0, 202.5, 47.55, 230.84, 245.5, 112.7, 288.1, 175.4, 275.25, 367.0, 66.4, 153.67, 72.16, 69.86, 160.4, 55.53, 45.45, 35.67, 81.82, 68.15, 59.91, 79.74, 188.96, 118.35, 126.86, 89.2, 49.02, 88.98, 211.2, 210.5, 39.7, 227.86, 73.75, 125.9, -6.38, 61.65, 120.02, 171.33, 134.51, 121.7, 80.86, 126.1, 508.0, 173.21, 126.5, 30.5, 164.15, 119.76, 42.14, 90.25, 149.06, 2.4, 7.0, 43.8, 49.67, 73.92, 79.59, 69.6, 122.7, 88.95, 77.78, 141.2, 96.95, 114.69, 58.23, 199.5, 318.82, 107.57, 97.25, 159.74, 123.3, 149.63, 106.15, 102.65, 139.75, 126.28, 142.63, 83.79, 156.22, 103.95, 97.1, 174.95, 193.81, 134.75, 206.22, 84.12, 115.85, 146.95, 142.48, 187.11, 134.5, 201.05, 163.3, 118.17, 199.75, 129.45, 142.86, 153.1, 182.8, 122.34, 125.34, 166.6, 156.5, 157.37, 97.7, 114.63, 133.95, 109.65, 118.19, 144.45, 145.23, 114.51, 149.25, 190.4, 168.7, 175.43, 146.61, 189.75, 154.6, 158.1, 99.45, 198.8, 102.45, 178.88, 128.2, 119.81, 118.99, 146.56, 144.6, 140.33, 142.71, 121.35, 140.91, 179.88, 137.9, 143.34, 112.36, 156.4, 154.35, 148.16, 165.32, 191.1, 227.4, 209.17, 168.25, 161.45, 125.1, 119.9, 219.9, 187.14, 167.8, 172.63, 131.13, 148.75, 188.46, 189.9, 194.64, 98.1, 119.49, 140.37, 16.0, 130.01, 166.05, 142.3, 225.08, 119.2, 191.7, 208.2, 180.8, 217.83, 179.6, 190.5, 123.68, 167.09, 134.17, 207.85, 167.17, 186.9, 132.05, 297.5, 136.35, 166.25, 242.67, 125.82, 196.34, 179.63, 237.45, 225.45, 108.92, 203.24, 140.9, 152.6, 212.4, 124.58, 179.41, 197.25, 194.2, 162.47, 118.58, 122.85, 123.6, 141.4, 163.05, 118.02, 127.26, 168.28, 236.93, 153.42, 199.29, 218.6, 130.13, 198.2, 219.3, 194.71, 157.2, 234.29, 218.83, 169.15, 191.6, 148.05, 158.3, 196.75, 199.63, 151.23, 213.4, 132.87, 206.34, 119.97, 161.6, 162.2, 153.3, 161.71, 110.05, 175.17, 171.08, 127.59, 187.15, 169.83, 225.28, 177.47, 114.71, 154.71, 143.29, 131.55, 175.26, 258.43, 122.88, 180.53, 160.48, 235.07, 158.9, 147.09, 123.74, 229.6, 186.57, 170.5, 103.28, 144.65, 110.88, 239.65, 189.33, 135.14, 104.97, 176.67, 174.14, 142.65, 129.6, 264.5, 104.16, 208.43, 97.8, 104.98, 123.5, 108.34, 121.67, 104.5, 133.43, 120.79, 143.25, 126.57, 132.33, 137.65, 142.7, 90.38, 92.63, 218.3, 93.4, 106.21, 123.12, 110.58, 150.5, 143.4, 77.79, 160.57, 124.25, 135.13, 158.6, 161.8, 122.43, 121.8, 98.29, 100.7, 74.5, 138.86, 219.25, 171.06, 168.4, 139.35, 129.58, 186.6, 157.82, 77.58, 150.86, 167.75, 59.1, 80.33, 132.19, 100.87, 179.4, 135.31, 129.4, 60.51, 94.37, 106.06, 112.88, 135.67, 69.7, 8.43, 60.61, 89.96, 99.18, 150.82, 54.84, 66.16, 89.55, 110.64, 107.82, 63.21, 59.85, 84.58, 93.17, 72.68, 112.6, 79.09, 52.15, 59.72, 81.62, 60.15, 132.75, 78.87, 140.25, 52.14, 87.78, 117.2, 86.28, 78.88, 91.25, 63.91, 86.86, 87.07, 172.33, 58.41, 67.31, 100.9, 72.41, 102.1, 69.91, 82.23, 60.43, 104.2, 115.3, 50.48, 91.6, 77.93, 72.6, 82.57, 81.43, 95.82, 43.74, 101.33, 51.7, 64.35, 52.67, 70.84, 72.43, 92.35, 74.43, 89.84, 55.6, 37.73, 110.43, 67.38, 19.35, 41.84, 29.75, 65.12, 98.8, 105.67, 63.79, 90.86, 90.63, 63.29, 65.35, 98.74, 39.68, 72.1, 111.8, 31.5, 71.26, 73.43, 50.03, 61.7, 145.02, 42.28, 40.7, 59.89, 116.71, 67.14, 47.46, 74.82, 71.3, 80.25, 75.86, 121.17, 77.29, 68.74, 50.16, 43.41, 80.54, 55.46, 38.12, 36.12, 58.8, 62.04, 70.6, 83.62, 69.02, 40.75, 70.16, 77.57, 48.2, 43.08, 46.17, 9.67, 74.91, 45.93, 76.13, 80.23, 187.6, 73.08, 38.04, 75.08, 71.39, 35.6, 76.84, 44.18, 64.88, 76.43, 48.43, 31.2, 76.93, 44.14, 56.48, 76.12, 130.07, 87.64, 50.8, 81.79, 61.73, 72.75, 39.99, 47.74, 42.6, 85.25, 67.71, 55.08, 58.13, 31.63, 68.7, 29.06, 26.23, 41.48, 65.73, 37.43, 49.11, 53.45, 50.66, 151.2, 106.57, 36.4, 35.46, 29.34, 32.83, 31.4, 57.04, 45.2, 72.49, 88.15, 94.63, 38.13, 82.69, 41.3, 34.63, 26.5, 34.19, 46.2, 39.91, 39.15, 55.4, 82.86, 55.32, 31.05, 29.78, 62.69, 43.73, 71.81, 49.07, 50.19, 64.67, 77.01, 108.02, 51.67, 97.02, 86.33, 60.56, 32.5, 57.06, 99.1, 67.89, 62.67, 47.2, 46.24, 24.0, 91.3, 37.25, 44.4, 42.75, 66.5, 42.9, 27.53, 43.26, 75.07, 56.33, 26.26, 91.9, 53.67, 57.2, 60.87, 44.16, 74.61, 57.75, 59.33, 53.9, 42.35, 37.53, 51.2, 53.71, 40.85, 58.63, 79.43, 38.11, 39.93, 55.48, 54.33, 65.16, 91.92, 36.8, 54.41, 43.38, 90.6, 105.11, 139.33, 59.73, 2.0, 107.05, 126.01, 164.67, 139.48, 135.28, 192.33, 192.54, 158.67, 224.67, 155.67, 245.33, 168.67, 203.95, 163.48, 151.87, 71.18, 110.67, 127.27, 72.93, 41.53, 104.33, 109.2, 84.37, 106.33, 64.25, 66.2, 86.83, 77.45, 73.25, 40.65, 50.83, 35.25, 69.2, 29.01, 31.65, 56.17, 48.19, 46.07, 51.21, 38.33, 114.33, 52.23, 88.75, 49.43, 39.79, 38.96, 60.8, 39.13, 38.1, 27.5, 36.14, 226.67, 41.89, 159.38, 32.77, 53.6, 29.73, 35.47, 74.67, 54.21, 61.88, 47.83, 56.67, 76.33, 68.75, 51.71, 36.93, 126.74, 154.32, 30.43, 62.17, 68.17, 27.35, 41.04, 34.73, 31.16, 47.36, 213.6, 46.66, 45.37, 96.25, 71.61, 27.36, 66.06, 66.38, 42.11, 37.86, 72.13, 87.6, 69.01, 48.96, 57.64, 76.38, 36.1, 75.26, 31.67, 98.67, 43.43, 40.79, 27.56, 75.81, 109.33, 51.33, 76.47, 62.53, 34.57, 27.43, 72.21, 69.21, 53.33, 46.44, 51.49, 61.06, 55.35, 163.25, 72.83, 27.6, 46.1, 62.63, 44.04, 36.61, 45.65, 86.55, 35.15, 77.33, 35.65, 68.14, 54.71, 48.7, 10.8, 113.5, 41.09, 83.23, 37.05, 33.71, 12.5, 61.33, 83.2, 95.5, 41.93, 59.14, 48.38, 42.36, 54.25, 22.0, 40.83, 47.53, 35.45, 50.51, 35.24, 44.87, 51.59, 87.55, 48.05, 59.67, 60.13, 89.6, 36.6, 123.4, 38.77, 37.15, 49.18, 46.33, 52.25, 48.14, 55.41, 50.13, 73.18, 55.33, 118.25, 94.73, 138.83, 82.15, 107.33, 72.89, 101.67, 245.2, 96.13, 111.67, 86.2, 88.73, 80.6, 50.24, 60.21, 40.25, 59.07, 95.14, 110.33, 39.3, 63.84, 75.3, 30.67, 170.29, 50.91, 62.38, 55.56, 85.4, 83.61, 75.89, 76.97, 82.4, 60.92, 52.65, 47.56, 146.4, 65.32, 50.6, 50.17, 68.18, 50.97, 56.58, 66.84, 73.22, 51.4, 83.47, 33.35, 44.46, 95.53, 75.75, 69.92, 134.06, 79.05, 101.75, 156.43, 86.67, 82.74, 72.67, 54.6, 71.11, 78.66, 57.4, 101.27, 54.2, 43.11, 73.69, 43.47, 61.56, 146.38, 81.51, 71.73, 64.78, 62.64, 48.76, 42.83, 81.16, 62.75, 41.76, 56.21, 36.53, 54.56, 59.65, 36.22, 70.05, 45.51, 90.09, 55.78, 56.05, 109.36, 53.4, 53.8, 60.96, 66.23, 62.18, 17.6, 41.65, 84.95, 73.76, 51.76, 48.18, 44.3, 58.56, 97.79, 60.06, 71.45, 69.49, 84.25, 68.85, 74.37, 82.2, 82.24, 38.22, 65.3, 35.05, 43.97, 94.75, 59.22, 80.45, 57.96, 108.24, 23.5, 71.82, 53.01, 35.63, 39.4, 37.1, 75.15, 179.33, 76.61, 145.6, 86.38, 78.18, 47.05, 99.29, 33.15, 48.1, 71.89, 99.22, 58.55, 33.45, 58.38, 67.13, 66.45, 76.89, 176.9, 69.4, 64.6, 72.4, 44.07, 74.18, 62.45, 39.04, 75.83, 41.35, 62.73, 91.75, 75.25, 75.52, 82.31, 81.33, 124.33, 55.87, 50.06, 60.44, 38.83, 65.07, 78.25, 53.82, 78.94, 64.79, 91.36, 43.16, 48.61, 53.99, 83.13, 5.2, 45.1, 75.9, 95.6, 56.96, 125.33, 65.36, 95.93, 66.51, 45.05, 70.92, 41.71, 81.05, 79.9, 74.39, 78.93, 52.85, 85.16, 106.7, 133.14, 43.66, 52.59, 83.93, 58.75, 54.06, 47.13, 135.49, 134.4, 91.1, 150.43, 100.42, 106.3, 42.51, 62.82, 47.23, 61.61, 73.14, 94.14, 63.2, 55.28, 81.69, 100.67, 77.9, 56.82, 64.94, 83.94, 77.83, 106.38, 84.2, 215.6, 76.19, 101.2, 130.29, 168.33, 63.61, 146.11, 206.1, 135.57, 50.36, 100.4, 56.29, 148.07, 129.44, 73.28, 109.45, 132.67, 81.85, 69.17, 71.17, 87.68, 73.6, 121.4, 162.33, 77.65, 138.17, 94.9, 64.76, 88.7, 106.85, 90.68, 202.67, 72.18, 139.05, 110.4, 129.77, 56.9, 182.1, 79.85, 165.9, 188.4, 107.69, 153.03, 74.9, 113.1, 58.9, 57.72, 98.72, 135.1, 100.44, 98.76, 147.25, 104.14, 168.6, 84.39, 93.62, 104.06, 108.71, 149.52, 90.08, 112.16, 53.56, 135.83, 93.8, 124.82, 93.06, 145.2, 183.88, 218.1, 130.87, 115.8, 59.9, 86.92, 74.12, 149.6, 128.05, 51.12, 96.36, 156.83, 52.83, 184.33, 100.6, 183.86, 158.58, 116.31, 136.8, 89.12, 87.12, 97.92, 232.4, 193.9, 107.71, 70.26, 83.85, 123.62, 81.02, 94.89, 77.76, 117.76, 167.68, 151.56, 152.16, 185.1, 145.53, 122.23, 142.36, 133.4, 95.69, 64.24, 108.2, 78.95, 106.36, 99.85, 116.9, 100.85, 159.9, 148.17, 166.45, 150.69, 86.17, 158.43, 122.29, 109.1, 70.86, 54.7, 80.99, 146.33, 218.33, 87.71, 89.91, 76.57, 119.1, 153.24, 140.14, 152.25, 69.53, 95.64, 128.1, 194.1, 90.2, 70.88, 133.67, 83.26, 104.02, 138.2, 252.17, 133.29, 106.71, 68.54, 131.72, 72.97, 145.5, 60.82, 81.08, 168.48, 90.03, 159.07, 94.94, 96.94, 103.77, 135.3, 196.33, 146.7, 155.65, 204.6, 77.8, 177.67, 132.16, 59.51, 101.47, 167.23, 208.5, 163.78, 198.5, 137.96, 88.11, 82.71, 99.46, 97.75, 169.95, 211.8, 66.7, 150.79, 102.71, 104.6, 85.67, 181.3, 311.33, 80.03, 209.57, 94.6, 100.89, 60.18, 123.25, 102.9, 157.86, 91.4, 24.7, 155.1, 214.87, 73.86, 106.55, 181.33, 158.86, 162.22, 163.65, 152.8, 177.25, 106.26, 158.2, 131.6, 240.86, 206.36, 135.64, 263.57, 165.8, 125.25, 217.67, 91.96, 164.71, 224.4, 124.22, 135.91, 213.7, 76.22, 104.4, 287.5, 170.93, 120.03, 74.06, 75.77, 114.2, 159.34, 95.2, 296.0, 167.21, 217.08, 128.65, 154.79, 157.27, 219.1, 206.17, 203.33, 102.8, 208.34, 103.11, 224.5, 151.4, 231.88, 205.5, 174.92, 141.05, 203.5, 145.1, 77.03, 75.03, 187.57, 170.2, 112.57, 203.86, 128.57, 181.18, 210.71, 110.79, 194.33, 140.8, 127.2, 102.41, 157.87, 252.6, 180.34, 138.01, 144.8, 205.7, 110.8, 130.82, 188.1, 155.11, 51.29, 142.94, 139.52, 97.76, 104.81, 152.2, 121.77, 142.64, 119.85, 165.56, 194.49, 151.37, 155.64, 126.2, 171.18, 149.38, 157.85, 136.29, 214.33, 143.05, 210.42, 202.51, 213.55, 155.6, 276.0, 194.73, 160.68, 182.75, 308.4, 114.41, 113.31, 220.5, 162.15, 175.24, 128.18, 136.6, 237.75, 118.1, 186.83, 301.0, 155.2, 221.1, 218.11, 260.33, 151.76, 226.33, 186.1, 192.67, 165.04, 237.67, 115.76, 207.05, 302.86, 217.43, 196.52, 307.0, 215.1, 155.52, 102.49, 221.5, 102.66, 126.66, 132.36, 193.8, 240.5, 115.05, 215.5, 102.51, 173.05, 200.29, 265.83, 175.56, 185.25, 168.98, 151.64, 216.57, 195.26, 192.66, 150.35, 165.23, 216.98, 191.55, 221.38, 194.25, 340.71, 176.53, 210.51, 240.57, 203.59, 167.54, 160.53, 186.26, 157.53, 184.55, 283.0, 283.2, 273.5, 146.94, 196.42, 336.5, 251.83, 318.71, 234.17, 195.58, 268.33, 352.0, 175.2, 175.23, 212.05, 359.0, 214.86, 200.05, 253.5, 239.08, 353.67, 210.6, 218.51, 313.71, 209.75, 207.33, 262.6, 160.75, 185.96, 234.7, 166.66, 176.78, 156.48, 148.8, 159.27, 231.17, 243.5, 137.83, 167.9, 218.67, 211.25, 132.96, 207.76, 229.71, 246.2, 97.4, 242.33, 132.9, 357.0, 195.2, 327.4, 251.07, 327.6, 235.29, 203.29, 213.57, 268.5, 244.67, 187.88, 117.21, 155.71, 272.67, 113.35, 127.9, 249.67, 198.23, 243.17, 239.67, 164.8, 181.6, 178.43, 227.67, 180.1, 212.8, 203.1, 315.38, 138.7, 216.66, 278.5, 142.76, 204.1, 253.16, 139.99, 10.5, 231.76, 153.23, 270.5, 153.39, 134.55, 199.26, 257.67, 155.54, 228.6, 171.6, 216.33, 105.34, 151.3, 142.68, 190.1, 151.83, 301.2, 197.97, 190.75, 230.6, 197.8, 209.8, 232.8, 310.2, 153.5, 158.73, 264.16, 199.43, 116.7, 197.9, 185.9, 317.67, 214.71, 190.34, 237.9, 190.7, 165.5, 185.37, 212.1, 165.2, 199.1, 220.87, 286.6, 232.67, 285.0, 167.6, 191.32, 211.67, 185.44, 270.1, 235.6, 139.72, 171.17, 184.64, 195.67, 300.6, 297.29, 224.1, 254.1, 268.75, 200.88, 169.91, 118.24, 216.43, 254.62, 213.86, 234.54, 193.87, 202.7, 296.33, 221.62, 209.29, 293.1, 261.25, 135.63, 99.02, 211.91, 176.33, 179.53, 148.79, 286.1, 279.36, 230.64, 125.55, 252.67, 205.2, 248.2, 164.13, 169.08, 160.6, 206.2, 245.1, 180.47, 248.8, 209.83, 266.1, 193.77, 222.38, 237.6, 200.96, 153.29, 160.7, 197.2, 157.28, 214.5, 202.83, 145.11, 143.28, 261.33, 250.5, 224.07, 178.08, 146.75, 153.37, 243.67, 349.0, 170.43, 246.43, 126.33, 190.43, 308.14, 171.47, 245.43, 238.1, 203.8, 236.14, 292.71, 270.38, 119.29, 122.89, 308.57, 211.16, 251.14, 219.67, 207.67, 239.43, 238.14, 179.59, 141.91, 193.12, 118.08, 243.86, 244.09, 198.86, 168.46, 199.6, 174.5, 140.31, 263.09, 152.3, 193.16, 147.94, 173.94, 212.67, 128.9, 164.1, 175.8, 176.1, 170.25, 212.53, 273.9, 213.43, 186.71, 220.33, 214.67, 177.17, 143.48, 121.85, 107.29, 149.94, 229.2, 95.66, 152.28, 113.91, 297.57, 226.57, 213.14, 225.14, 156.85, 142.22, 164.78, 123.47, 123.02, 139.02, 200.73, 101.6, 103.31, 94.4, 95.94, 170.1, 78.23, 107.22, 189.1, 151.71, 72.72, 65.66, 168.5, 148.6, 134.3, 93.93, 75.54, 163.1, 109.51, 150.58, 130.8, 172.67, 212.6, 188.43, 172.1, 87.59, 86.71, 119.34, 99.32, 185.67, 113.2, 79.49, 92.09, 139.7, 143.54, 154.1, 146.22, 161.2, 77.38, 125.97, 144.14, 107.18, 187.25, 146.46, 136.14, 109.63, 88.74, 58.47, 89.4, 107.3, 203.43, 82.19, 83.81, 307.5, 159.67, 51.94, 121.28, 125.83, 131.83, 102.67, 143.6, 95.25, 108.88, 173.6, 143.86, 98.05, 99.33, 73.47, 90.76, 104.23, 107.4, 90.61, 53.54, 136.08, 117.6, 135.29, 101.29, 64.54, 113.8, 131.43, 164.86, 89.78, 175.57, 85.7, 179.14, 65.11, 92.8, 116.07, 242.57, 48.32, 79.41, 97.41, 127.19, 89.49, 91.49, 60.07, 88.14, 99.43, 183.69, 117.25, 72.42, 86.43, 81.8, 50.46, 91.58, 47.5, 105.77, 82.1, 96.83, 108.99, 82.63, 88.57, 92.78, 96.23, 79.73, 60.7, 73.39, 97.63, 89.34, 4.5, 158.75, 147.5, 115.33, 51.68, 81.24, 67.57, 54.97, 56.86, 65.86, 69.54, 139.67, 71.71, 84.29, 110.72, 91.93, 88.3, 84.76, 83.52, 85.52, 93.33, 95.33, 1.56, 72.05, 42.65, 45.89, 43.89, 113.75, 51.9, 47.79, 76.6, 58.25, 54.43, 110.83, 146.71, 57.76, 331.0, 9.71, 144.75, 58.71, 72.56, 53.57, 62.3, 75.76, 37.31, 60.46, 98.14, 104.71, 123.41, 73.44, 52.71, 50.18, 40.19, 41.5, 105.75, 42.86, 128.14, 82.28, 122.67, 94.64, 69.68, 136.67, 58.22, 138.33, 80.5, 32.34, 79.4, 57.97, 56.73, 41.57, 81.66, 43.9, 38.46, 49.94, 70.45, 114.6, 69.12, 50.84, 118.84, 53.41, 57.92, 77.36, 91.85, 54.08, 100.27, 60.71, 62.71, 40.54, 65.44, 52.18, 89.59, 66.44, 67.35, 67.22, 30.4, 59.04, 52.86, 50.57, 51.43, 67.19, 61.19, 74.49, 33.68, 46.69, 66.48, 49.7, 51.04, 78.43, 37.14, 90.96, 39.21, 44.28, 59.26, 40.03, 51.47, 32.8, 28.71, 32.31, 58.65, 65.14, 53.46, 88.8, 84.3, 69.94, 71.94, 60.24, 87.65, 45.77, 47.24, 76.96, 48.47, 60.48, 54.8, 32.24, 70.56, 30.71, 44.15, 55.71, 91.06, 80.22, 30.03, 39.51, 68.04, 57.47, 36.24, 31.95, 143.97, 40.1, 61.58, 74.17, 114.4, 65.8, 77.18, 53.32, 60.65, 89.77, 46.7, 63.28, 59.12, 88.68, 42.97, 62.7, 34.86, 89.71, 37.37, 83.71, 43.88, 63.1, 42.04, 36.29, 50.68, 54.47, 29.41, 57.39, 37.71, 63.26, 74.05, 65.77, 50.44, 26.99, 82.51, 42.12, 64.52, 62.12, 38.68, 68.72, 74.38, 34.24, 39.8, 48.25, 83.76, 40.4, 58.91, 56.62, 62.57, 94.2, 50.98, 28.3, 30.3, 53.39, 34.3, 70.97, 56.6, 67.44, 47.86, 67.86, 68.03, 57.65, 36.64, 73.3, 63.8, 74.88, 39.14, 33.05, 58.33, 35.99, 73.89, 137.2, 51.8, 58.74, 65.85, 37.01, 51.6, 38.62, 35.4, 32.02, 72.31, 29.72, 44.99, 52.75, 57.1, 47.07, 72.06, 25.42, 86.6, 48.12, 47.85, 114.07, 64.71, 70.71, 32.95, 41.11, 41.96, 29.8, 80.09, 60.98, 58.43, 53.86, 49.66, 88.22, 57.93, 31.8, 31.41, 33.65, 55.11, 31.6, 46.57, 130.35, 84.02, 55.57, 43.67, 51.13, 68.67, 29.97, 77.44, 57.44, 112.4, 70.22, 57.22, 64.22, 108.7, 89.31, 81.31, 43.5, 56.63, 66.22, 63.46, 101.31, 86.24, 54.64, 49.51, 55.69, 28.64, 69.64, 30.96, 104.76, 39.44, 63.07, 64.44, 89.43, 48.03, 96.09, 58.04, 103.59, 92.19, 61.64, 46.22, 140.43, 76.11, 61.02, 79.97, 273.13, 325.0, 88.41, 114.78, 78.98, 208.33, 55.06, 171.94, 101.87, 84.83, 154.69, 137.33, 157.6, 51.02, 326.33, 78.19, 126.27, 87.45, 134.14, 45.69, 119.4, 107.08, 141.57, 44.97, 98.64, 97.88, 37.45, 68.25, 76.25, 52.66, 215.25, 88.53, 64.21, 38.57, 108.86, 47.98, 50.43, 37.94, 33.94, 34.44, 30.99, 40.24, 50.95, 65.84, 59.08, 39.76, 80.14, 70.64, 67.82, 44.41, 35.95, 53.06, 59.71, 51.89, 45.8, 47.76, 34.82, 88.86, 44.11, 49.1, 50.96, 69.99, 45.29, 45.67, 67.87, 57.74, 68.92, 45.82, 64.75, 91.76, 43.71, 47.67, 35.33, 147.33, 31.21, 54.35, 47.72, 128.74, 44.71, 63.65, 44.95, 46.08, 43.14, 44.56, 33.11, 73.06, 33.88, 33.84, 69.96, 49.99, 79.31, 64.12, 52.35, 97.6, 65.91, 41.87, 39.84, 84.24, 38.93, 70.38, 44.43, 43.6, 44.67, 40.67, 53.25, 35.71, 88.56, 59.56, 35.28, 102.13, 54.75, 39.74, 64.7, 35.5, 100.71, 35.72, 72.38, 42.24, 72.07, 89.8, 96.02, 64.37, 42.38, 66.72, 32.6, 82.02, 87.85, 41.47, 71.44, 75.16, 82.33, 40.31, 64.96, 78.67, 43.96, 51.25, 74.86, 36.32, 45.72, 45.35, 76.83, 53.14, 59.06, 42.25, 28.79, 48.27, 41.51, 36.72, 67.94, 83.86, 64.28, 64.08, 62.28, 217.75, 71.48, 41.94, 105.25, 79.14, 38.55, 36.55, 71.8, 67.93, 93.13, 51.27, 65.09, 63.27, 27.07, 53.27, 33.27, 52.55, 35.27, 50.55, 11.75, 64.18, 41.52, 31.71, 30.8, 55.86, 30.9, 62.91, 52.97, 52.43, 107.56, 70.47, 56.47, 89.9, 55.49, 69.29, 70.3, 106.74, 65.96, 140.6, 55.39, 193.71, 59.62, 70.99, 113.29, 82.25, 82.68, 120.57, 83.66, 63.56, 41.97, 56.85, 153.61, 77.71, 64.49, 89.61, 53.97, 105.3, 39.41, 43.75, 51.98, 61.75, 52.9, 82.85, 42.95, 99.21, 101.21, 131.88, 97.36, 161.43, 140.62, 111.78, 0.26, 63.95, 46.83, 57.14, 120.67, 113.67, 76.64, 107.83, 123.28, 199.71, 80.71, 58.61, 63.32, 70.53, 113.25, 92.58, 84.49, 148.57, 105.69, 41.2, 153.9, 81.71, 165.86, 228.5, 57.61, 80.02, 56.45, 117.75, 116.67, 128.33, 197.33, 138.67, 82.07, 64.17, 114.95, 57.09, 88.6, 133.25, 77.19, 139.95, 61.71, 72.71, 115.57, 40.94, 60.16, 80.75, 98.88, 82.75, 3.0, 85.84, 58.02, 80.95, 83.22, 106.86, 63.13, 42.7, 65.87, 100.21, 62.6, 50.86, 76.81, 54.29, 73.79, 103.36, 92.85, 125.43, 47.44, 49.16, 75.09, 49.44, 40.39, 51.09, 51.37, 49.37, 67.37, 69.37, 80.94, 80.66, 70.95, 161.08, 103.67, 169.4, 172.5, 98.25, 106.13, 103.3, 55.59, 142.43, 107.99, 99.15, 155.25, 114.43, 98.99, 94.26, 70.66, 87.4, 44.38, 120.83, 42.66, 94.48, 122.07, 104.91, 36.2, 56.71, 85.43, 89.17, 92.95, 65.52, 163.71, 72.95, 95.48, 75.4, 84.28, 109.96, 101.71, 51.18, 72.66, 128.44, 98.04, 97.13, 69.95, 123.67, 61.43, 84.05, 91.73, 143.89, 63.57, 105.83, 170.67, 89.18, 91.18, 86.25, 84.45, 101.28, 104.94, 57.85, 88.85, 49.78, 49.6, 73.23, 93.73, 153.33, 79.11, 198.31, 52.95, 93.81, 140.98, 56.2, 79.88, 62.81, 80.88, 84.23, 98.2, 66.71, 70.46, 182.4, 69.56, 156.8, 120.4, 94.97, 81.53, 108.31, 145.33, 77.35, 80.43, 92.42, 99.28, 114.8, 135.52, 109.13, 102.32, 149.14, 97.43, 107.8, 198.4, 119.33, 94.41, 102.31, 122.57, 74.63, 109.41, 77.88, 137.21, 106.72, 179.94, 103.79, 115.7, 136.44, 222.02, 79.56, 149.57, 119.88, 96.91, 180.33, 68.83, 61.11, 140.21, 108.56, 133.33, 137.6, 166.75, 51.95, 160.25, 87.19, 142.12, 100.92, 156.12, 99.25, 80.46, 87.13, 168.72, 197.6, 104.17, 111.73, 57.7, 121.1, 78.55, 81.81, 80.47, 128.07, 108.57, 152.38, 98.35, 86.13, 160.89, 100.03, 72.2, 73.63, 93.44, 123.8, 103.6, 115.68, 113.68, 72.88, 62.95, 92.82, 155.82, 177.8, 186.29, 92.29, 141.14, 150.81, 92.34, 166.43, 80.76, 92.17, 141.71, 213.71, 265.25, 162.83, 117.12, 61.68, 119.04, 210.14, 113.62, 147.43, 166.08, 64.42, 166.56, 135.4, 76.23, 104.49, 85.21, 138.13, 126.15, 64.95, 141.3, 80.35, 128.75, 177.6, 86.23, 219.86, 106.09, 89.98, 120.9, 96.56, 153.07, 106.47, 108.97, 87.2, 76.7, 89.22, 157.7, 102.2, 166.33, 115.82, 160.67, 163.67, 117.74, 137.3, 81.4, 94.17, 87.79, 102.55, 115.51, 161.33, 159.14, 103.37, 120.45, 112.95, 151.67, 76.94, 173.2, 119.64, 110.94, 120.48, 165.1, 164.6, 114.04, 91.95, 128.04, 121.43, 165.36, 208.75, 133.04, 72.91, 139.9, 107.38, 97.21, 129.72, 116.64, 100.18, 147.69, 94.62, 185.29, 101.95, 228.75, 315.33, 121.93, 81.36, 117.45, 147.71, 99.6, 84.01, 79.54, 83.31, 149.71, 147.02, 197.61, 129.26, 114.32, 223.33, 104.25, 106.24, 131.59, 136.45, 154.76, 130.03, 106.35, 203.18, 93.54, 151.19, 156.51, 139.78, 180.02, 115.19, 132.85, 125.17, 127.4, 193.25, 152.9, 143.55, 90.51, 131.06, 172.15, 201.67, 188.67, 276.83, 197.83, 213.67, 164.02, 172.9, 206.86, 292.75, 125.44, 186.33, 147.7, 163.4, 181.43, 186.67, 222.93, 292.5, 160.69, 153.2, 133.85, 188.86, 221.25, 248.29, 241.86, 208.86, 194.86, 164.25, 184.86, 216.14, 172.14, 204.16, 220.16, 212.88, 203.6, 135.36, 166.24, 209.33, 299.2, 237.71, 164.63, 212.71, 207.8, 247.09, 147.84, 296.5, 194.75, 239.66, 110.18, 171.69, 167.85, 176.16, 205.25, 238.5, 169.54, 135.56, 192.68, 142.21, 196.93, 204.17, 233.6, 209.85, 156.1, 216.89, 171.53, 231.22, 131.07, 255.84, 377.0, 152.15, 162.56, 117.43, 150.48, 298.71, 165.44, 217.86, 149.74, 189.43, 206.03, 167.52, 311.25, 123.21, 296.75, 161.56, 153.68, 359.5, 205.1, 9.14, 218.4, 142.97, 168.14, 211.12, 213.56, 168.89, 166.03, 118.85, 253.6, 231.13, 224.39, 119.41, 218.75, 242.32, 149.12, 185.12, 154.95, 354.0, 159.85, 159.35, 189.85, 169.77, 249.38, 274.6, 153.38, 252.3, 217.82, 212.73, 158.35, 244.31, 207.59, 293.5, 155.75, 253.54, 229.25, 360.0, 105.31, 181.31, 294.0, 344.0, 280.33, 227.6, 228.33, 102.73, 203.38, 168.15, 192.1, 222.26, 140.38, 242.86, 208.08, 127.28, 158.85, 170.24, 224.8, 131.85, 324.0, 326.0, 258.29, 260.6, 241.81, 265.86, 273.56, 174.78, 183.16, 216.29, 175.58, 230.35, 275.6, 257.75, 228.32, 310.75, 168.62, 202.6, 196.92, 136.23, 129.92, 219.32, 215.95, 254.67, 193.4, 315.5, 248.5, 238.75, 236.86, 168.93, 183.99, 185.99, 339.4, 149.81, 204.9, 132.91, 263.33, 233.13, 140.64, 158.16, 207.1, 204.03, 241.1, 283.5, 219.58, 183.65, 183.52, 180.42, 238.26, 253.49, 223.67, 273.86, 251.6, 151.99, 224.9, 270.51, 223.14, 349.67, 372.0, 160.08, 241.41, 175.14, 190.97, 242.84, 235.95, 239.75, 189.2, 397.38, 316.5, 129.67, 157.48, 165.63, 160.84, 186.02, 197.93, 159.28, 307.67, 426.25, 141.55, 212.29, 231.67, 187.37, 387.0, 182.16, 147.13, 191.11, 248.36, 179.06, 169.06, 216.84, 169.28, 180.75, 181.14, 223.07, 239.78, 314.0, 236.1, 243.81, 368.1, 174.4, 133.07, 163.08, 167.28, 288.03, 179.81, 302.5, 130.06, 170.57, 205.43, 167.73, 114.76, 316.0, 118.3, 269.43, 284.7, 101.22, 329.67, 157.52, 151.1, 250.32, 372.71, 252.33, 214.53, 139.1, 214.8, 264.6, 124.7, 337.0, 232.6, 199.67, 220.98, 153.72, 172.81, 191.41, 204.8, 206.88, 112.12, 311.6, 260.5, 238.3, 222.8, 240.37, 217.1, 212.33, 178.39, 283.43, 199.15, 212.58, 207.29, 174.55, 116.47, 306.7, 173.45, 203.19, 267.5, 273.09, 215.24, 131.49, 232.61, 187.24, 247.65, 320.7, 201.14, 169.37, 206.4, 222.39, 249.23, 162.9, 158.66, 218.63, 126.41, 207.2, 186.44, 402.0, 202.88, 272.5, 211.49, 241.67, 167.91, 268.3, 223.6, 229.13, 168.38, 198.3, 196.3, 112.45, 244.55, 186.68, 125.2, 147.74, 139.28, 141.68, 219.2, 193.03, 206.72, 350.2, 151.29, 136.85, 233.64, 170.03, 256.31, 190.6, 334.43, 275.33, 112.41, 306.5, 148.7, 331.43, 218.8, 279.03, 198.17, 211.6, 184.54, 116.61, 228.84, 142.58, 143.73, 291.43, 227.06, 239.6, 208.02, 123.77, 180.18, 190.35, 220.75, 157.42, 157.99, 170.38, 166.91, 227.81, 314.67, 302.67, 279.33, 253.65, 282.03, 282.32, 326.71, 240.8, 281.43, 207.52, 328.33, 266.43, 330.57, 257.5, 185.46, 231.69, 350.75, 236.85, 228.89, 224.25, 172.4, 275.4, 234.18, 344.67, 229.19, 235.8, 125.3, 351.0, 208.03, 124.54, 169.98, 220.53, 190.27, 276.46, 266.06, 219.03, 208.28, 207.4, 252.57, 177.75, 205.18, 277.71, 106.64, 336.57, 289.86, 182.06, 160.33, 166.71, 225.2, 284.29, 383.0, 184.29, 118.75, 210.75, 250.2, 230.43, 204.93, 221.41, 187.19, 130.23, 178.58, 186.43, 147.01, 140.57, 195.11, 123.88, 222.86, 209.67, 158.53, 167.43, 207.03, 312.29, 127.58, 125.58, 184.73, 168.92, 89.79, 204.27, 89.75, 202.27, 99.06, 60.27, 76.08, 37.33, 51.96, 55.96, 91.33, 80.7, 55.9, 91.38, 106.75, 75.79, 18.0, 9.0, 15.0, 50.3, 67.9, 106.54, 93.56, 106.14, 99.75, 85.63, 117.33, 127.33, 92.31, 98.62, 99.14, 85.92, 88.38, 85.57, 35.2, 85.29, 82.87, 97.77, 98.57, 105.33, 46.54, 103.13, 116.62, 227.25, 66.53, 97.93, 83.55, 117.67, 96.6, 85.17, 78.54, 88.83, 110.08, 110.17, 105.65, 81.09, 135.75, 79.25, 99.2, 72.76, 111.33, 78.03, 148.67, 96.27, 75.24, 116.04, 95.98, 102.4, 82.98, 111.71, 132.13, 79.64, 113.71, 58.35, 121.56, 134.83, 137.29, 100.88, 163.63, 126.25, 108.08, 65.55, 116.25, 147.75, 113.79, 128.5, 98.94, 142.6, 130.17, 96.17, 104.43, 103.15, 100.43, 103.84, 101.83, 67.49, 108.72, 56.25, 130.22, 185.2, 69.11, 149.75, 136.68, 126.48, 109.25, 145.35, 96.05, 76.92, 141.53, 119.87, 116.56, 90.98, 107.03, 116.94, 103.87, 177.33, 175.08, 121.2, 118.43, 19.15, 118.14, 167.22, 166.58, 131.51, 149.88, 116.03, 84.52, 88.17, 79.35, 73.51, 98.44, 109.35, 70.14, 74.15, 102.99, 91.83, 106.02, 106.93, 124.75, 99.71, 70.83, 107.53, 94.05, 36.38, 90.56, 61.38, 137.44, 84.69, 78.69, 82.94, 87.54, 105.12, 65.29, 68.65, 68.79, 72.36, 67.83, 58.76, 76.77, 94.88, 85.42, 198.68, 186.52, 72.24, 62.21, 93.08, 97.47, 54.63, 32.71, 45.87, 86.47, 91.63, 89.53, 46.63, 41.43, 160.83, 74.69, 65.89, 91.68, 66.99, 80.41, 80.42, 86.75, 83.58, 59.09, 65.05, 77.92, 81.3, 70.42, 199.33, 109.61, 70.67, 90.78, 96.08, 194.67, 119.58, 178.25, 71.84, 91.45, 86.32, 67.66, 79.6, 71.52, 80.3, 73.9, 68.99, 88.25, 82.9, 63.37, 81.7, 87.7, 75.35, 72.96, 80.62, 77.55, 6.67, 150.3, 93.45, 47.92, 76.69, 75.47, 76.72, 77.69, 88.27, 120.95, 58.94, 76.55, 80.67, 88.63, 69.22, 57.98, 58.37, 68.23, 82.45, 55.24, 79.75, 76.14, 71.53, 152.53, 104.77, 64.05, 107.28, 62.32, 84.65, 69.52, 101.78, 98.3, 81.55, 46.9, 63.12, 75.23, 68.34, 83.03, 85.03, 61.16, 128.29, 106.83, 108.35, 48.51, 103.38, 87.97, 92.65, 63.49, 86.61, 90.3, 75.56, 73.56, 75.05, 107.7, 69.82, 103.39, 61.25, 69.44, 73.42, 0.5, 56.27, 69.9, 69.57, 82.99, 102.81, 1.0, 86.39, 125.77, 129.1, 112.67, 59.21, 148.33, 95.3, 78.9, 102.05, 56.94, 86.8, 86.58, 92.53, 47.43, 78.08, 84.33, 94.33, 98.93, 79.36, 74.64, 85.96, 83.48, 74.95, 54.24, 169.17, 81.86, 63.06, 51.28, 118.96, 54.09, 84.55, 78.26, 78.49, 49.09, 85.38, 96.16, 129.95, 68.64, 98.18, 76.48, 110.77, 101.1, 85.68, 83.73, 53.24, 69.05, 89.46, 116.73, 78.41, 120.06, 70.13, 72.12, 124.79, 85.51, 162.45, 182.7, 212.42, 63.58, 78.15, 74.68, 94.7, 86.98, 110.15, 97.12, 88.12, 61.41, 89.74, 102.7, 125.8, 154.7, 87.31, 111.72, 158.22, 95.7, 158.83, 102.15, 75.99, 159.3, 133.8, 183.67, 171.67, 70.03, 113.85, 124.65, 5400.0, 165.67, 201.95, 137.4, 148.13, 152.7, 170.61, 90.24, 100.81, 76.16, 144.33, 72.08, 179.5, 139.87, 81.25, 155.76, 135.22, 85.85, 143.65, 115.6, 101.15, 134.33, 116.45, 89.92, 160.1, 202.3, 128.06, 116.26, 52.02, 73.74, 112.58, 59.37, 125.63, 74.89, 44.6, 150.45, 83.87, 203.76, 126.75, 96.62, 118.33, 86.09, 200.75, 86.62, 85.28, 94.35, 157.4, 131.58, 93.78, 167.45, 127.97, 76.58, 142.78, 111.4, 65.67, 177.3, 82.13, 66.76, 93.9, 170.85, 96.53, 110.99, 154.33, 142.72, 141.46, 99.49, 91.29, 88.65, 121.55, 190.58, 82.79, 109.37, 128.86, 82.59, 115.1, 115.03, 60.59, 90.54, 120.35, 124.53, 186.3, 105.49, 77.89, 99.95, 191.58, 135.76, 124.95, 101.54, 26.35, 173.19, 108.38, 128.56, 138.06, 134.98, 110.16, 100.75, 175.28, 87.98, 119.17, 197.78, 77.04, 94.78, 218.96, 177.93, 86.06, 86.21, 103.44, 140.67, 148.95, 122.83, 102.39, 180.3, 96.48, 101.58, 180.68, 143.23, 180.63, 128.69, 73.77, 105.84, 198.9, 187.85, 71.37, 91.13, 70.73, 104.21, 111.69, 84.43, 132.18, 65.79, 86.36, 64.26, 95.03, 106.68, 164.9, 106.03, 116.95, 104.18, 194.85, 50.87, 104.79, 103.29, 162.01, 149.68, 170.17, 170.36, 123.9, 105.28, 79.72, 111.35, 92.28, 112.03, 110.59, 115.25, 185.85, 241.59, 118.65, 179.01, 87.34, 159.12, 213.63, 163.18, 108.19, 127.93, 139.6, 132.72, 197.12, 135.87, 175.29, 285.17, 95.88, 120.28, 128.49, 117.91, 92.88, 112.01, 149.15, 103.55, 141.32, 177.35, 108.11, 107.61, 148.04, 257.55, 177.65, 126.36, 130.48, 108.16, 99.79, 216.86, 72.15, 99.96, 115.84, 128.84, 157.14, 152.67, 153.09, 108.59, 116.82, 115.32, 128.4, 90.65, 99.88, 182.26, 93.55, 138.93, 192.9, 107.23, 162.75, 214.83, 209.7, 187.04, 103.21, 132.24, 108.42, 128.78, 169.58, 130.78, 156.95, 114.87, 251.7, 117.18, 119.22, 126.77, 116.55, 109.49, 92.83, 134.53, 73.37, 108.45, 106.65, 137.76, 108.12, 115.94, 162.35, 80.24, 160.65, 79.53, 79.29, 100.02, 95.1, 184.24, 92.12, 103.64, 116.42, 91.94, 139.8, 112.14, 95.81, 86.9, 129.87, 111.9, 92.94, 143.7, 164.33, 104.53, 98.41, 85.61, 147.99, 244.43, 127.62, 138.55, 124.6, 145.93, 112.59, 142.33, 138.56, 132.7, 260.9, 218.03, 133.88, 119.28, 226.95, 120.7, 129.96, 96.79, 120.82, 246.6, 99.52, 86.63, 70.44, 76.85, 107.55, 133.69, 103.09, 162.67, 256.1, 264.1, 73.12, 217.11, 134.45, 130.99, 86.82, 112.32, 90.46, 102.09, 79.27, 176.95, 121.37, 87.18, 131.36, 123.17, 101.88, 95.63, 123.75, 158.95, 141.75, 78.76, 139.34, 122.61, 202.58, 96.73, 104.62, 183.3, 167.95, 102.28, 113.41, 137.94, 94.51, 85.01, 95.75, 132.88, 91.48, 121.05, 278.9, 83.92, 123.93, 58.14, 192.3, 137.19, 149.58, 140.27, 123.15, 116.17, 132.48, 169.88, 135.01, 108.95, 136.12, 243.6, 145.41, 121.21, 113.56, 93.25, 214.76, 207.9, 176.7, 166.4, 120.69, 204.3, 95.62, 97.56, 128.92, 216.9, 152.4, 137.34, 77.51, 171.96, 109.66, 122.04, 151.47, 106.53, 131.26, 176.85, 127.05, 129.73, 136.43, 179.92, 93.22, 123.82, 103.69, 118.9, 138.14, 119.69, 82.12, 170.28, 135.27, 94.59, 100.12, 242.9, 178.8, 180.2, 133.45, 198.59, 167.7, 101.98, 127.99, 214.75, 57.3, 97.65, 135.45, 183.74, 65.49, 208.9, 117.36, 112.81, 76.46, 130.95, 116.28, 101.45, 137.91, 127.22, 208.41, 88.76, 88.77, 161.78, 145.9, 67.09, 262.7, 174.3, 165.06, 84.72, 150.9, 171.45, 112.25, 159.8, 115.37, 100.58, 100.35, 111.7, 155.73, 144.23, 111.42, 123.55, 138.9, 111.59, 117.42, 107.19, 108.66, 175.65, 122.1, 94.07, 123.98, 101.79, 120.96, 139.86, 89.73, 106.88, 97.18, 105.64, 109.23, 196.91, 98.82, 110.97, 130.15, 98.55, 182.34, 208.93, 211.86, 166.8, 91.51, 132.45, 152.81, 81.77, 166.35, 134.46, 159.17, 202.54, 148.31, 105.04, 124.36, 129.88, 103.06, 137.52, 166.9, 265.93, 130.14, 284.1, 181.79, 122.55, 102.68, 156.42, 170.63, 150.02, 234.71, 243.9, 129.54, 127.38, 150.15, 220.73, 213.3, 137.28, 107.59, 210.03, 132.77, 202.05, 195.53, 139.14, 146.96, 104.64, 140.2, 191.31, 193.92, 136.89, 103.46, 122.31, 115.23, 128.99, 130.61, 169.52, 279.2, 187.28, 118.09, 132.84, 216.45, 175.1, 73.96, 119.07, 215.55, 152.78, 101.05, 180.9, 102.06, 160.3, 229.46, 190.8, 146.92, 133.6, 171.72, 235.94, 170.4, 137.38, 143.79, 91.69, 148.28, 78.48, 199.8, 147.3, 129.51, 208.62, 83.18, 89.76, 142.83, 263.91, 227.9, 127.65, 236.52, 185.22, 126.72, 112.79, 123.84, 121.14, 107.64, 150.56, 145.24, 115.56, 222.17, 92.48, 178.59, 80.39, 127.15, 178.57, 214.2, 120.34, 79.65, 90.45, 122.76, 162.4, 89.64, 90.23, 129.25, 122.63, 79.38, 194.3, 101.38, 95.74, 164.88, 186.22, 125.62, 114.09, 127.94, 148.91, 131.57, 151.94, 117.68, 146.6, 125.12, 189.55, 172.23, 212.06, 177.09, 133.98, 136.06, 156.92, 131.52, 145.69, 125.99, 127.37, 212.72, 99.68, 124.67, 76.56, 68.71, 83.01, 70.55, 102.83, 71.87, 70.87, 100.63, 76.27, 85.27, 109.38, 100.38, 75.82, 99.48, 173.7, 90.79, 78.63, 171.3, 71.21, 96.92, 67.91, 95.38, 97.07, 68.07, 76.78, 58.45, 89.89, 76.29, 65.54, 78.53, 67.26, 71.22, 152.55, 184.75, 76.59, 75.66, 131.89, 98.39, 89.39, 87.41, 155.72, 171.44, 49.68, 51.05, 67.81, 120.49, 122.45, 148.39, 133.11, 79.92, 111.88, 120.88, 84.32, 74.44, 93.03, 117.64, 121.75, 128.52, 80.61, 113.78, 196.35, 66.58, 110.34, 93.39, 156.61, 138.76, 101.34, 110.84, 163.34, 110.22, 79.62, 196.07, 69.09, 158.56, 144.63, 68.51, 146.59, 101.55, 138.3, 168.9, 79.48, 110.78, 159.23, 58.36, 78.77, 95.56, 80.26, 69.42, 148.58, 74.29, 126.04, 98.11, 148.26, 274.2, 122.91, 150.11, 82.11, 71.91, 198.88, 136.19, 92.91, 114.98, 139.88, 160.78, 1.48, 143.38, 192.03, 185.28, 166.85, 120.36, 91.79, 155.13, 114.67, 133.73, 154.67, 164.05, 140.85, 79.47, 87.69, 118.32, 71.19, 70.72, 116.79, 103.19, 159.7, 144.74, 94.99, 96.39, 114.28, 95.09, 68.77, 76.42, 98.36, 88.39, 113.39, 153.87, 69.03, 142.8, 146.51, 72.39, 109.58, 87.21, 63.71, 133.36, 145.84, 220.8, 238.4, 96.99, 85.24, 119.12, 70.43, 98.49, 93.68, 94.52, 169.65, 116.72, 123.13, 54.32, 75.68, 151.85, 89.54, 101.07, 112.69, 97.58, 145.96, 100.51, 110.45, 99.03, 70.69, 108.07, 51.35, 101.51, 127.01, 101.72, 231.81, 134.8, 71.85, 102.56, 125.85, 74.84, 87.04, 89.88, 138.15, 92.18, 202.71, 231.33, 84.73, 210.4, 144.98, 80.87, 109.95, 163.97, 91.14, 96.84, 148.15, 89.32, 91.15, 82.42, 204.53, 117.82, 194.06, 240.3, 209.84, 119.68, 110.68, 99.07, 159.68, 191.57, 169.07, 147.87, 136.13, 164.7, 159.43, 137.25, 167.1, 155.06, 200.25, 167.88, 157.95, 101.24, 135.51, 120.86, 290.01, 24.87, 78.35, 191.25, 140.3, 184.57, 150.42, 128.79, 240.7, 132.25, 134.13, 174.21, 110.57, 166.68, 104.22, 196.6, 123.53, 172.26, 191.4, 228.21, 111.34, 136.22, 144.64, 125.7, 175.05, 127.98, 328.67, 294.55, 23.6, 173.33, 321.94, 244.86, 290.56, 137.03, 109.44, 119.57, 121.88, 139.11, 175.11, 126.54, 147.15, 167.76, 114.56, 142.17, 157.46, 157.44, 266.96, 157.45, 138.77, 317.5, 186.75, 102.04, 119.52, 123.81, 157.33, 168.55, 136.75, 259.88, 289.88, 119.03, 184.63, 130.86, 177.7, 134.36, 318.5, 136.7, 276.9, 277.15, 206.67, 246.38, 147.42, 112.87, 114.08, 116.93, 226.84, 126.13, 273.7, 192.7, 234.96, 156.06, 155.4, 154.93, 151.58, 156.38, 176.91, 117.51, 120.58, 93.65, 189.18, 95.76, 89.38, 234.5, 158.34, 198.6, 141.83, 91.08, 127.1, 82.47, 90.05, 151.17, 114.55, 126.73, 222.3, 220.6, 215.27, 149.79, 161.28, 93.64, 196.12, 126.14, 194.8, 108.6, 174.33, 144.67, 145.56, 152.63, 127.6, 145.7, 106.6, 104.05, 214.1, 217.27, 145.43, 175.49, 142.38, 132.92, 183.08, 126.44, 222.57, 120.31, 114.88, 140.17, 141.43, 196.51, 115.63, 226.8, 98.28, 119.83, 113.32, 173.83, 128.83, 165.49, 241.48, 174.07, 114.39, 114.58, 352.5, 146.68, 177.08, 198.44, 199.16, 161.23, 167.24, 94.24, 115.65, 190.13, 135.39, 138.02, 138.42, 137.85, 119.44, 163.22, 254.96, 117.72, 177.81, 169.33, 158.7, 115.02, 97.35, 97.59, 106.59, 109.67, 142.09, 105.1, 225.48, 282.5, 204.86, 117.41, 127.47, 142.41, 239.8, 164.03, 232.57, 178.53, 145.08, 161.83, 168.08, 112.76, 246.33, 231.75, 93.09, 66.13, 95.13, 49.58, 77.56, 78.17, 138.66, 211.33, 164.5, 79.02, 190.19, 152.84, 127.51, 140.75, 106.07, 189.17, 128.71, 138.57, 169.11, 122.11, 95.9, 103.71, 155.08, 195.7, 187.43, 109.85, 82.39, 73.88, 91.47, 226.17, 170.8, 91.16, 221.33, 129.8, 155.45, 162.25, 114.57, 81.35, 88.94, 110.65, 69.24, 73.87, 99.87, 98.98, 139.17, 73.21, 107.58, 104.11, 163.58, 82.65, 89.28, 82.08, 106.77, 94.3, 179.3, 107.65, 98.21, 107.92, 90.27, 105.79, 150.12, 92.03, 110.09, 120.42, 71.64, 133.3, 131.97, 102.74, 87.32, 105.62, 87.27, 104.63, 118.98, 189.49, 129.65, 94.96, 77.21, 77.77, 91.56, 115.11, 75.18, 46.67, 64.72, 91.09, 60.75, 95.96, 37.07, 89.45, 95.8, 90.35, 47.78, 104.42, 93.01, 46.14, 110.31, 54.31, 86.12, 94.18, 89.81, 74.42, 59.78, 77.87, 124.44, 80.27, 87.08, 73.64, 112.1, 102.88, 112.75, 112.9, 79.39, 72.22, 56.37, 132.4, 112.84, 53.58, 7.8, 140.5, 276.53, 83.75, 1.6, 58.3, 96.98, 48.33, 58.92, 170.9, 77.39, 65.02, 134.78, 73.73, 64.15, 99.86, 83.57, 103.14, 53.38, 72.47, 128.22, 190.78, 160.03, 145.61, 118.66, 119.8, 79.82, 86.41, 93.52, 268.17, 60.67, 206.55, 173.39, 113.81, 109.93, 103.62, 159.08, 55.19, 48.67, 60.97, 100.97, 86.07, 95.19, 67.7, 69.84, 78.52, 81.73, 81.95, 75.7, 86.78, 66.37, 171.26, 68.22, 84.03, 85.98, 65.58, 66.31, 136.25, 81.1, 81.07, 55.72, 63.22, 58.88, 69.1, 81.54, 86.45, 62.58, 63.88, 66.57, 117.79, 80.82, 96.75, 72.37, 58.68, 55.74, 86.15, 84.35, 67.45, 65.06, 82.7, 56.93, 57.88, 68.76, 73.61, 93.63, 64.03, 72.64, 61.07, 70.04, 102.37, 80.04, 152.05, 6.5, 59.32, 66.14, 75.92, 60.1, 85.55, 130.92, 99.4, 79.77, 90.44, 116.3, 103.1, 55.38, 89.93, 53.19, 89.44, 76.1, 101.52, 67.52, 61.15, 52.39, 54.74, 73.03, 86.93, 57.73, 59.95, 53.72, 120.65, 42.17, 88.43, 74.08, 69.75, 86.35, 71.41, 80.74, 100.28, 64.46, 63.87, 116.2, 51.19, 127.79, 87.01, 119.67, 79.17, 104.08, 180.16, 134.93, 122.2, 150.18, 3.38, 108.23, 182.85, 117.65, 126.45, 87.35, 142.4, 109.18, 72.58, 161.7, 174.67, 89.24, 88.92, 56.38, 68.3, 131.48, 73.83, 152.45, 41.46, 186.4, 102.58, 140.1, 118.16, 104.65, 174.9, 100.47, 79.15, 153.85, 82.92, 148.37, 145.28, 78.86, 115.77, 94.49, 95.36, 54.46, 253.67, 90.47, 75.42, 74.83, 63.55, 128.6, 110.24, 121.13, 143.22, 71.74, 119.51, 88.91, 107.78, 61.21, 119.77, 53.3, 100.72, 150.33, 67.85, 179.91, 101.13, 131.33, 221.39, 173.35, 65.13, 93.82, 92.76, 100.48, 105.82, 113.04, 100.84, 260.4, 143.18, 203.02, 173.12, 104.96, 140.05, 101.41, 152.85, 109.34, 90.88, 104.3, 126.23, 98.68, 163.46, 114.84, 167.74, 109.87, 97.32, 88.51, 122.16, 98.69, 81.68, 56.8, 67.76, 136.62, 73.32, 244.8, 205.95, 117.15, 104.92, 129.02, 105.48, 117.98, 99.66, 109.68, 86.72, 76.91, 167.79, 121.95, 115.09, 108.79, 87.09, 104.58, 156.7, 77.62, 119.38, 114.66, 134.47, 84.14, 95.24, 131.18, 118.27, 121.73, 128.43, 125.53, 108.53, 108.29, 88.52, 125.38, 109.31, 123.96, 92.08, 98.24, 96.55, 107.46, 121.61, 127.08, 88.01, 143.99, 123.45, 110.21, 69.38, 136.46, 120.12, 109.81, 110.1, 75.38, 149.3, 116.77, 124.3, 115.52, 194.58, 153.15, 148.38, 134.16, 85.47, 75.27, 85.93, 128.85, 74.54, 98.56, 161.66, 143.52, 83.64, 106.08, 154.88, 121.59, 83.78, 117.1, 140.59, 127.39, 114.34, 203.73, 184.99, 137.1, 147.56, 115.58, 101.49, 118.6, 66.88, 98.32, 103.53, 83.12, 161.9, 125.45, 115.61, 83.59, 198.77, 173.8, 207.63, 135.8, 218.45, 136.32, 123.08, 130.32, 145.85, 133.58, 90.84, 136.72, 126.31, 136.18, 105.7, 208.66, 141.95, 176.34, 196.46, 135.58, 118.51, 138.54, 68.69, 100.73, 103.42, 85.32, 84.31, 82.61, 113.46, 127.48, 132.08, 134.7, 118.76, 104.61, 332.57, 175.95, 73.45, 120.18, 101.18, 117.11, 89.27, 114.96, 128.59, 156.3, 144.84, 111.85, 87.95, 96.12, 84.85, 73.07, 90.97, 117.87, 98.87, 84.56, 129.59, 116.49, 111.11, 113.48, 69.74, 105.26, 177.45, 90.53, 142.45, 119.24, 263.55, 131.78, 92.11, 113.24, 115.04, 109.28, 134.42, 121.83, 128.88, 105.74, 237.2, 95.58, 133.65, 164.3, 95.83, 116.59, 70.12, 87.89, 117.06, 91.98, 119.15, 75.48, 72.77, 131.74, 101.66, 153.18, 123.46, 193.45, 110.37, 82.66, 142.25, 121.03, 162.88, 103.72, 77.47, 183.9, 83.83, 122.72, 157.68, 173.95, 79.69, 97.55, 208.13, 134.57, 103.78, 126.26, 122.65, 116.27, 164.87, 185.03, 110.46, 134.87, 131.44, 156.15, 188.81, 122.84, 81.96, 98.03, 112.96, 130.66, 104.52, 63.42, 100.08, 92.02, 117.85, 99.73, 249.3, 79.03, 131.47, 113.69, 114.83, 131.8, 111.68, 134.37, 181.7, 156.93, 98.83, 110.44, 137.13, 94.11, 148.86, 177.9, 108.04, 143.45, 93.58, 105.21, 118.46, 87.82, 77.53, 116.38, 116.05, 161.82, 144.13, 97.42, 116.32, 183.73, 81.26, 164.48, 70.78, 131.15, 181.16, 109.16, 89.85, 91.89, 142.07, 205.06, 133.46, 190.29, 94.91, 103.56, 161.11, 113.26, 237.73, 235.45, 122.8, 149.85, 160.29, 138.99, 208.83, 225.36, 133.41, 157.9, 130.68, 265.44, 144.55, 180.45, 131.08, 113.76, 86.85, 131.03, 103.32, 72.84, 189.3, 134.18, 269.3, 294.35, 222.35, 109.53, 188.95, 188.16, 365.0, 129.75, 105.37, 160.47, 146.36, 93.84, 182.95, 235.63, 142.13, 191.9, 210.57, 93.16, 126.38, 105.96, 184.95, 111.76, 117.55, 168.1, 104.39, 92.93, 73.81, 94.56, 189.95, 227.78, 78.45, 71.65, 86.53, 87.58, 141.18, 105.55, 110.19, 99.38, 101.35, 87.03, 176.45, 122.25, 122.24, 309.5, 151.59, 148.2, 126.51, 163.62, 141.69, 136.34, 91.7, 228.8, 191.35, 112.24, 147.46, 198.98, 151.84, 110.93, 259.2, 99.41, 252.9, 78.96, 162.85, 144.1, 166.61, 117.66, 231.15, 202.74, 86.05, 97.01, 221.3, 223.76, 153.55, 145.3, 223.55, 136.52, 178.65, 138.05, 245.95, 205.38, 175.67, 184.34, 148.9, 118.88, 220.65, 120.63, 125.27, 109.55, 203.85, 115.89, 104.99, 106.32, 113.64, 120.15, 91.59, 134.52, 215.18, 182.83, 87.99, 116.78, 106.89, 32.85, 105.52, 286.2, 92.16, 67.42, 91.43, 283.67, 135.65, 156.9, 92.87, 100.66, 167.35, 63.11, 141.9, 153.4, 134.58, 81.19, 147.72, 95.65, 165.3, 225.4, 142.92, 95.79, 129.99, 122.22, 92.98, 109.77, 116.23, 160.16, 227.15, 143.07, 92.01, 96.76, 73.65, 179.25, 163.95, 72.26, 76.71, 147.73, 107.87, 152.87, 176.42, 184.26, 84.82, 140.58, 117.26, 82.18, 114.92, 167.66, 181.19, 101.73, 218.7, 129.83, 199.82, 93.7, 150.98, 152.99, 177.13, 226.35, 165.83, 80.32, 113.96, 105.93, 87.84, 110.01, 100.62, 120.53, 199.3, 128.34, 103.89, 106.95, 124.46, 100.16, 127.16, 139.13, 121.63, 146.37, 118.26, 140.53, 94.32, 97.96, 109.7, 197.65, 143.94, 172.03, 232.59, 159.84, 102.08, 123.69, 186.77, 95.46, 127.44, 177.66, 135.99, 140.13, 118.95, 193.05, 170.68, 101.99, 345.0, 183.15, 121.68, 141.84, 79.57, 104.13, 109.29, 153.77, 111.19, 167.04, 144.68, 207.64, 187.55, 149.67, 205.63, 167.13, 162.79, 235.5, 124.04, 106.28, 96.88, 147.59, 185.95, 178.42, 129.81, 94.81, 112.72, 113.34, 191.73, 123.7, 183.1, 248.49, 181.38, 130.94, 110.12, 238.15, 137.53, 201.16, 169.38, 153.62, 53.95, 155.81, 155.68, 129.56, 87.72, 173.55, 91.12, 104.88, 218.72, 166.78, 58.17, 157.94, 234.35, 150.63, 100.37, 107.41, 113.65, 184.06, 81.88, 111.31, 84.13, 211.41, 266.67, 147.88, 95.17, 148.69, 182.53, 156.24, 152.08, 190.93, 16.92, 200.2, 131.66, 149.77, 145.98, 146.53, 177.77, 99.78, 112.56, 278.33, 181.17, 182.14, 150.61, 254.5, 96.78, 142.56, 90.55, 114.36, 113.09, 143.03, 175.88, 126.88, 221.4, 104.48, 96.1, 95.47, 152.98, 133.61, 110.9, 106.1, 112.65, 150.4, 204.82, 121.27, 133.47, 171.87, 171.13, 122.13, 163.91, 94.12, 100.95, 128.76, 136.3, 108.05, 176.3, 116.65, 231.78, 128.01, 117.05, 152.46, 235.33, 223.2, 83.38, 109.07, 100.07, 112.68, 97.53, 97.82, 242.77, 182.18, 153.05, 139.57, 192.86, 198.28, 249.63, 133.44, 143.44, 75.28, 80.01, 130.58, 83.39, 98.7, 135.72, 81.28, 75.14, 184.52, 213.1, 102.76, 123.66, 66.49, 221.18, 139.24, 129.34, 74.65, 187.09, 64.45, 81.47, 100.13, 91.26, 67.77, 109.98, 57.52, 103.61, 116.36, 68.68, 108.68, 141.49, 203.81, 18.6, 200.33, 76.36, 192.59, 144.38, 211.76, 214.21, 142.19, 188.01, 62.54, 92.66, 85.35, 78.99, 191.2, 137.63, 135.44, 90.52, 78.65, 103.4, 122.94, 104.04, 129.63, 85.07, 109.6, 85.87, 90.18, 104.32, 71.05, 103.86, 109.73, 124.16, 90.75, 72.69, 110.13, 61.08, 140.88, 120.91, 137.16, 140.15, 163.17, 161.88, 96.41, 128.38, 117.28, 147.93, 193.68, 112.28, 117.37, 146.03, 142.54, 174.15, 113.23, 132.89, 126.69, 120.47, 161.15, 157.76, 121.72, 66.25, 113.72, 121.78, 246.25, 118.07, 144.86, 125.57, 133.03, 150.06, 122.96, 124.71, 138.24, 140.08, 88.46, 79.46, 97.23, 88.23, 155.49, 65.46, 108.58, 124.52, 91.05, 100.94, 108.43, 100.05, 8.34, 97.87, 74.48, 92.2, 57.59, 94.67, 92.23, 87.63, 101.86, 140.12, 128.67, 92.54, 70.41, 6.4, 61.53, 55.76, 64.56, 68.26, 153.8, 101.36, 98.13, 150.07, 75.51, 70.82, 169.75, 80.79, 59.84, 66.18, 156.33, 85.78, 122.19, 83.04, 88.69, 107.09, 81.56, 65.76, 102.79, 67.68, 150.67, 94.93, 113.87, 88.26, 132.39, 193.08, 66.59, 77.99, 88.35, 134.62, 101.77, 94.72, 192.95, 95.37, 174.42, 134.31, 172.85, 61.09, 20.88, 84.07, 90.32, 79.23, 92.51, 143.14, 125.66, 349.63, 168.73, 131.35, 375.5, 188.88, 120.55, 184.65, 53.47, 176.04, 83.1, 451.5, 122.48, 314.1, 201.08, 89.29, 255.48, 93.36, 133.55, 253.1, 119.36, 146.29, 115.9, 208.17, 116.15, 135.96, 103.52, 90.34, 1.29, 73.36, 91.32, 97.16, 106.16, 53.83, 125.16, 144.29, 58.72, 86.49, 24.83, 93.69, 109.82, 53.52, 91.88, 54.15, 109.05, 60.63, 103.17, 47.04, 75.88, 27.69, 85.77, 74.31, 71.86, 103.81, 95.31, 58.31, 103.25, 284.2, 55.07, 98.12, 154.75, 77.66, 172.29, 115.12, 150.24, 104.31, 64.31, 130.42, 72.65, 60.94, 160.95, 71.42, 57.05, 113.58, 93.18, 82.62, 76.32, 84.08, 58.16, 151.75, 81.99, 121.64, 143.84, 67.3, 158.93, 84.38, 85.46, 43.53, 84.17, 185.3, 56.51, 120.75, 98.26, 121.66, 233.75, 77.52, 108.49, 97.28, 111.52, 145.52, 68.84, 101.17, 125.96, 122.74, 191.39, 97.39, 120.52, 207.22, 154.21, 63.17, 74.13, 61.93, 114.21, 102.97, 63.01, 177.31, 91.23, 90.72, 87.76, 70.39, 51.66, 35.81, 100.74, 100.64, 100.54, 75.71, 89.33, 186.09, 53.04, 107.88, 116.88, 152.76, 69.77, 116.96, 107.44, 72.94, 98.48, 86.76, 95.99, 77.63, 241.25, 173.13, 99.36, 93.48, 63.31, 60.19, 81.44, 72.33, 66.81, 181.67, 76.44, 63.05, 69.98, 130.7, 89.26, 127.92, 163.52, 91.82, 70.68, 210.8, 78.71, 71.38, 59.38, 74.94, 85.91, 103.41, 141.88, 89.13, 103.97, 75.93, 142.61, 88.54, 154.07, 121.9, 89.83, 67.59, 97.98, 193.04, 178.73, 90.93, 204.01, 181.73, 217.8, 223.32, 133.38, 172.07, 129.97, 312.5, 119.82, 197.82, 220.05, 87.24, 131.98, 138.26, 88.88, 189.44, 150.75, 95.29, 105.68, 206.52, 261.67, 73.05, 119.39, 228.3, 79.7, 91.31, 120.24, 228.76, 201.66, 128.63, 336.0, 114.37, 41.88, 170.3, 77.68, 128.16, 98.9, 324.5, 122.08, 207.38, 112.85, 162.98, 259.29, 253.2, 252.5, 99.57, 117.88, 125.09, 112.86, 206.47, 100.09, 19.09, 246.55, 510.0, 181.75, 95.59, 136.17, 91.04, 155.03, 171.42, 112.55, 228.53, 134.24, 232.2, 133.48, 133.71, 101.37, 124.9, 124.13, 209.07, 197.55, 194.34, 122.66, 206.28, 112.92, 110.86, 151.07, 207.45, 243.56, 144.37, 123.05, 96.32, 129.78, 193.2, 313.67, 77.49, 133.06, 115.14, 153.79, 135.7, 135.89, 106.17, 130.38, 127.72, 250.96, 115.21, 171.1, 154.44, 143.71, 128.47, 187.67, 154.16, 135.43, 149.76, 146.16, 117.53, 256.67, 107.45, 120.51, 153.13, 82.84, 170.88, 169.63, 150.55, 163.88, 107.73, 113.88, 82.3, 271.67, 132.43, 219.46, 196.14, 98.17, 127.13, 113.53, 141.36, 130.56, 333.67, 191.75, 307.8, 164.22, 112.91, 128.21, 124.35, 6.9, 132.55, 141.04, 161.18, 121.48, 124.39, 129.09, 95.49, 184.05, 114.53, 160.02, 118.03, 250.75, 216.64, 157.05, 87.74, 95.52, 239.64, 111.06, 154.58, 147.06, 81.23, 234.36, 143.41, 225.29, 109.08, 93.34, 83.96, 157.61, 237.48, 211.08, 108.51, 153.51, 114.1, 247.5, 123.83, 123.23, 149.32, 297.25, 84.92, 264.44, 221.49, 174.75, 111.47, 243.96, 190.01, 122.3, 127.88, 164.75, 321.5, 113.98, 300.71, 116.09, 80.92, 22.86, 190.05, 126.12, 120.78, 151.06, 94.21, 199.13, 147.78, 147.45, 91.54, 94.23, 126.63, 119.72, 232.16, 99.13, 105.95, 150.7, 131.31, 131.01, 146.17, 175.32, 102.47, 138.21, 104.86, 155.69, 149.48, 145.55, 147.05, 256.72, 142.29, 104.7, 101.09, 225.43, 200.5, 115.42, 98.85, 217.98, 234.33, 153.49, 131.93, 125.02, 130.63, 140.18, 266.2, 136.02, 156.76, 214.4, 147.24, 164.76, 119.6, 73.94, 141.78, 106.48, 101.08, 217.3, 293.75, 168.43, 151.7, 122.9, 92.21, 275.9, 106.34, 124.63, 171.66, 255.5, 183.21, 126.19, 326.5, 132.11, 105.91, 283.23, 193.28, 130.28, 93.42, 78.44, 372.33, 200.4, 92.72, 92.99, 174.2, 78.61, 99.72, 132.53, 174.16, 81.39, 199.77, 213.81, 90.7, 95.12, 173.73, 116.99, 155.61, 218.43, 201.75, 124.59, 109.39, 125.08, 160.76, 215.86, 62.03, 253.51, 194.6, 127.45, 147.68, 195.47, 138.75, 157.17, 236.33, 84.51, 194.13, 129.18, 134.82, 91.02, 266.75, 209.25, 157.71]\n",
            "unique values of column 'required_car_parking_spaces': [0, 1, 2, 8, 3]\n",
            "unique values of column 'total_of_special_requests': [0, 1, 3, 2, 4, 5]\n",
            "unique values of column 'reservation_status': ['Check-Out', 'Canceled', 'No-Show']\n",
            "unique values of column 'reservation_status_date': ['2015-07-01', '2015-07-02', '2015-07-03', '2015-05-06', '2015-04-22', '2015-06-23', '2015-07-05', '2015-07-06', '2015-07-07', '2015-07-08', '2015-05-11', '2015-07-15', '2015-07-16', '2015-05-29', '2015-05-19', '2015-06-19', '2015-05-23', '2015-05-18', '2015-07-09', '2015-06-02', '2015-07-13', '2015-07-04', '2015-06-29', '2015-06-16', '2015-06-18', '2015-06-12', '2015-06-09', '2015-05-26', '2015-07-11', '2015-07-12', '2015-07-17', '2015-04-15', '2015-05-13', '2015-07-10', '2015-05-20', '2015-05-12', '2015-07-14', '2015-06-17', '2015-05-01', '2015-03-30', '2015-07-19', '2015-06-03', '2015-06-26', '2015-05-14', '2015-07-20', '2015-05-07', '2015-05-28', '2015-04-13', '2015-03-25', '2015-07-21', '2015-06-27', '2015-07-18', '2015-07-23', '2015-06-08', '2015-06-22', '2015-06-24', '2015-03-05', '2015-06-01', '2015-04-24', '2015-07-22', '2015-05-27', '2015-04-06', '2015-04-11', '2015-07-25', '2015-07-28', '2015-07-29', '2015-06-25', '2015-07-24', '2015-06-05', '2015-06-30', '2015-06-13', '2015-06-11', '2015-07-30', '2015-07-27', '2015-04-29', '2015-06-04', '2015-07-26', '2015-08-01', '2015-08-02', '2015-06-15', '2015-04-23', '2015-07-31', '2015-05-25', '2015-08-03', '2015-04-17', '2015-08-04', '2015-08-06', '2015-05-15', '2015-05-09', '2015-03-17', '2015-05-22', '2015-08-07', '2015-04-04', '2015-08-05', '2015-08-08', '2015-08-10', '2015-05-04', '2015-06-06', '2015-08-09', '2015-08-15', '2015-08-11', '2015-03-28', '2015-08-14', '2015-08-12', '2015-08-16', '2015-05-16', '2015-08-21', '2015-08-13', '2015-08-17', '2015-04-20', '2015-08-18', '2015-08-23', '2015-08-22', '2015-08-19', '2015-08-20', '2015-08-29', '2015-03-31', '2015-05-30', '2015-08-25', '2015-04-14', '2015-08-24', '2015-03-24', '2015-05-21', '2015-08-28', '2015-08-26', '2015-08-27', '2015-08-30', '2015-08-31', '2015-09-06', '2015-09-03', '2015-09-04', '2015-09-02', '2015-09-01', '2015-09-05', '2015-06-20', '2015-09-07', '2015-09-10', '2015-09-11', '2015-09-08', '2015-09-09', '2015-09-13', '2015-09-15', '2015-04-10', '2015-01-02', '2014-11-18', '2015-09-12', '2015-09-17', '2015-09-14', '2015-04-07', '2015-09-19', '2015-09-16', '2015-09-20', '2015-01-18', '2015-10-23', '2015-01-22', '2015-01-01', '2015-09-22', '2015-09-24', '2015-09-18', '2015-09-21', '2015-09-30', '2015-09-25', '2015-09-27', '2015-09-28', '2015-10-12', '2015-09-29', '2015-09-23', '2015-10-01', '2015-09-26', '2015-04-18', '2015-10-02', '2015-10-04', '2015-10-08', '2015-10-03', '2015-10-07', '2015-10-09', '2015-10-11', '2015-10-05', '2015-10-06', '2015-10-10', '2015-10-14', '2015-10-15', '2015-10-18', '2015-10-13', '2015-10-20', '2015-10-19', '2015-10-31', '2015-10-16', '2015-10-21', '2015-10-22', '2015-10-17', '2015-10-24', '2015-10-25', '2015-10-28', '2015-10-27', '2015-10-26', '2015-10-30', '2015-11-05', '2015-10-29', '2015-11-03', '2015-11-07', '2015-11-04', '2015-11-01', '2015-11-02', '2015-11-17', '2015-11-06', '2015-11-10', '2015-11-08', '2015-11-09', '2015-11-15', '2015-11-16', '2015-11-11', '2015-11-12', '2015-11-14', '2015-11-13', '2015-11-18', '2015-11-22', '2015-11-19', '2015-11-21', '2015-11-20', '2015-11-24', '2015-11-25', '2015-11-23', '2015-11-28', '2015-11-26', '2015-11-27', '2015-11-29', '2015-12-04', '2015-12-01', '2015-12-06', '2015-12-08', '2015-12-02', '2015-12-03', '2015-12-31', '2015-12-05', '2015-12-10', '2015-12-17', '2015-11-30', '2015-12-12', '2015-12-07', '2016-01-05', '2015-12-11', '2015-12-13', '2015-12-15', '2015-12-16', '2015-12-19', '2015-12-18', '2015-12-26', '2015-12-27', '2015-12-22', '2015-12-23', '2015-12-24', '2015-12-29', '2015-12-28', '2015-12-20', '2015-12-30', '2016-01-02', '2016-01-01', '2015-12-25', '2016-01-03', '2016-01-04', '2016-01-11', '2016-01-07', '2015-12-21', '2016-01-09', '2016-01-10', '2016-01-08', '2016-01-06', '2016-01-12', '2016-01-13', '2016-01-23', '2016-02-09', '2016-01-15', '2016-01-16', '2016-01-17', '2016-01-19', '2016-01-18', '2016-01-21', '2016-01-24', '2016-01-22', '2016-01-29', '2016-01-27', '2016-01-25', '2016-03-08', '2016-01-26', '2016-01-20', '2016-01-30', '2016-02-01', '2016-02-02', '2016-02-08', '2016-02-07', '2016-01-28', '2016-02-05', '2016-02-03', '2016-02-13', '2016-02-10', '2016-02-04', '2016-02-12', '2016-02-11', '2016-02-16', '2016-02-14', '2016-02-15', '2016-02-20', '2016-02-06', '2016-01-14', '2016-02-17', '2016-02-21', '2016-02-24', '2016-02-25', '2016-02-19', '2016-02-18', '2016-02-26', '2016-02-23', '2016-03-05', '2016-02-22', '2016-02-27', '2016-03-03', '2016-03-24', '2016-03-04', '2016-02-29', '2016-03-01', '2016-03-02', '2016-03-30', '2016-03-07', '2016-03-14', '2016-03-21', '2016-03-09', '2016-03-12', '2016-03-22', '2016-03-10', '2016-03-11', '2016-03-20', '2016-03-15', '2016-03-17', '2016-03-16', '2016-03-19', '2016-03-27', '2016-03-18', '2016-03-26', '2016-03-31', '2016-03-28', '2016-03-29', '2016-04-01', '2016-03-23', '2016-04-02', '2016-03-25', '2016-03-13', '2016-04-04', '2016-04-03', '2016-04-05', '2016-04-08', '2016-04-06', '2016-04-09', '2016-04-12', '2016-04-16', '2016-04-17', '2016-04-27', '2016-04-14', '2016-04-18', '2016-04-21', '2016-04-19', '2016-04-20', '2016-04-10', '2016-04-13', '2016-04-11', '2016-04-07', '2016-04-15', '2016-04-22', '2016-04-23', '2016-04-26', '2016-04-28', '2016-04-24', '2016-04-25', '2016-04-29', '2016-04-30', '2016-05-01', '2016-05-10', '2016-05-02', '2016-05-07', '2016-05-08', '2016-05-12', '2016-05-04', '2016-05-06', '2016-05-03', '2016-05-09', '2016-05-05', '2016-05-13', '2016-05-14', '2016-05-18', '2016-05-19', '2016-05-15', '2016-05-16', '2016-05-11', '2016-05-21', '2016-05-22', '2016-05-20', '2016-05-24', '2016-05-25', '2016-05-26', '2016-05-23', '2016-05-27', '2016-05-17', '2016-05-29', '2016-05-28', '2016-05-30', '2016-05-31', '2016-06-01', '2016-06-03', '2016-06-08', '2016-06-02', '2016-06-05', '2016-06-06', '2016-06-13', '2016-06-07', '2016-06-10', '2016-06-11', '2016-06-16', '2016-06-12', '2016-06-14', '2016-06-17', '2016-06-04', '2016-06-18', '2016-06-21', '2016-06-09', '2016-06-24', '2016-06-20', '2016-06-25', '2016-06-22', '2016-06-26', '2016-06-23', '2016-07-01', '2016-06-15', '2016-06-28', '2016-07-02', '2016-06-19', '2016-06-27', '2016-07-04', '2016-06-30', '2016-07-05', '2016-07-08', '2016-07-09', '2016-07-07', '2016-07-12', '2016-06-29', '2016-07-10', '2016-07-15', '2016-07-03', '2016-07-16', '2016-07-14', '2016-07-18', '2016-07-13', '2016-07-06', '2016-07-20', '2016-07-21', '2016-07-23', '2016-07-19', '2016-07-11', '2016-07-28', '2016-07-17', '2016-07-25', '2016-07-22', '2016-07-29', '2016-08-03', '2016-08-02', '2016-08-04', '2016-08-08', '2016-08-10', '2016-08-01', '2016-08-06', '2016-03-06', '2016-08-05', '2016-07-26', '2016-08-07', '2016-07-30', '2016-07-24', '2016-08-12', '2016-07-27', '2016-08-13', '2016-08-18', '2016-08-16', '2016-08-15', '2016-08-17', '2016-08-11', '2016-07-31', '2016-08-19', '2016-09-01', '2016-08-23', '2016-08-26', '2016-08-20', '2016-08-21', '2016-09-04', '2016-08-22', '2016-08-27', '2016-08-25', '2016-08-09', '2016-09-05', '2016-08-24', '2016-09-10', '2016-08-29', '2016-09-09', '2016-08-30', '2016-09-13', '2016-08-31', '2016-09-14', '2016-09-12', '2016-09-15', '2016-08-14', '2016-09-02', '2016-09-08', '2016-09-19', '2016-09-16', '2016-09-07', '2016-09-21', '2016-09-06', '2016-09-22', '2016-09-17', '2016-09-20', '2016-09-03', '2016-09-26', '2016-09-23', '2016-09-18', '2016-09-29', '2016-10-02', '2016-10-01', '2016-09-27', '2016-09-25', '2016-10-05', '2016-09-11', '2016-09-30', '2016-10-09', '2016-10-03', '2016-10-06', '2016-10-11', '2016-09-24', '2016-10-13', '2016-09-28', '2016-10-08', '2016-10-07', '2016-10-16', '2016-08-28', '2016-10-17', '2016-10-18', '2016-10-10', '2016-10-04', '2016-10-15', '2016-10-19', '2016-10-21', '2016-10-12', '2016-10-24', '2016-10-26', '2016-10-23', '2016-10-20', '2016-10-25', '2016-10-27', '2016-10-28', '2016-10-30', '2016-10-29', '2016-11-01', '2016-11-04', '2016-10-14', '2016-11-07', '2016-11-03', '2016-11-10', '2016-11-14', '2016-11-02', '2016-10-31', '2016-11-11', '2016-11-08', '2016-11-05', '2016-11-25', '2016-11-09', '2016-11-20', '2016-11-21', '2016-10-22', '2016-11-22', '2016-11-16', '2016-11-23', '2016-11-17', '2016-11-06', '2016-11-15', '2016-11-13', '2016-11-12', '2016-11-27', '2016-11-19', '2016-11-30', '2016-11-18', '2016-12-02', '2016-12-04', '2016-11-29', '2016-12-07', '2016-11-28', '2016-12-03', '2016-12-06', '2016-11-24', '2016-12-08', '2016-12-05', '2016-12-10', '2016-12-13', '2016-12-14', '2016-12-16', '2016-12-15', '2016-12-17', '2016-12-19', '2016-12-21', '2016-12-20', '2016-12-22', '2016-12-23', '2016-12-24', '2016-12-01', '2016-12-27', '2016-12-29', '2016-12-30', '2016-12-12', '2017-01-02', '2016-12-11', '2017-01-03', '2017-01-04', '2017-01-01', '2016-12-26', '2017-01-06', '2016-12-28', '2016-12-18', '2017-01-10', '2017-01-11', '2017-01-07', '2017-01-12', '2017-01-16', '2017-01-14', '2017-01-13', '2017-01-05', '2017-01-17', '2017-01-20', '2016-12-09', '2017-01-26', '2016-12-31', '2017-01-23', '2017-01-27', '2017-01-28', '2017-01-19', '2017-01-25', '2017-01-24', '2017-01-29', '2017-01-18', '2016-12-25', '2017-01-15', '2017-01-21', '2017-02-01', '2017-02-02', '2017-01-31', '2017-02-03', '2017-02-04', '2017-02-06', '2017-02-07', '2017-02-08', '2017-01-30', '2017-02-09', '2017-01-09', '2017-02-11', '2017-02-10', '2017-02-12', '2017-02-13', '2017-02-14', '2017-02-16', '2017-02-17', '2017-02-18', '2017-02-19', '2017-02-20', '2017-02-15', '2017-02-21', '2017-02-22', '2017-02-26', '2017-02-23', '2017-02-24', '2017-02-25', '2017-02-28', '2017-03-05', '2017-02-27', '2017-03-03', '2017-03-06', '2017-03-02', '2017-03-08', '2017-03-09', '2017-03-10', '2017-03-07', '2017-03-12', '2017-03-13', '2017-03-14', '2017-03-01', '2017-03-18', '2017-03-17', '2017-03-24', '2017-03-22', '2017-03-26', '2017-03-27', '2017-03-11', '2017-03-28', '2017-03-29', '2017-03-30', '2017-03-31', '2017-03-19', '2017-01-22', '2017-04-02', '2017-03-20', '2017-04-03', '2017-01-08', '2017-03-23', '2017-04-05', '2017-02-05', '2017-04-04', '2017-03-15', '2017-04-07', '2017-03-25', '2017-04-08', '2017-04-06', '2017-03-21', '2017-04-10', '2017-04-01', '2017-04-11', '2017-04-13', '2017-04-15', '2017-04-12', '2017-03-04', '2017-04-19', '2017-04-22', '2017-04-20', '2017-05-02', '2017-04-09', '2017-04-23', '2017-04-24', '2017-04-16', '2017-04-28', '2017-04-18', '2017-04-26', '2017-04-25', '2017-04-17', '2017-04-21', '2017-05-03', '2017-05-04', '2017-03-16', '2017-05-05', '2017-04-29', '2017-04-14', '2017-05-08', '2017-04-27', '2017-05-11', '2017-05-01', '2017-05-10', '2017-05-13', '2017-05-06', '2017-05-14', '2017-05-16', '2017-04-30', '2017-05-15', '2017-05-07', '2017-05-09', '2017-05-17', '2017-05-21', '2017-05-12', '2017-05-22', '2017-05-24', '2017-05-23', '2017-05-25', '2017-05-26', '2017-05-28', '2017-05-27', '2017-05-29', '2017-05-19', '2017-05-31', '2017-05-20', '2017-06-01', '2017-05-30', '2017-06-02', '2016-11-26', '2017-06-04', '2017-06-05', '2017-06-06', '2017-06-07', '2017-05-18', '2017-06-09', '2017-06-10', '2017-06-11', '2017-06-12', '2017-06-14', '2017-06-08', '2017-06-16', '2017-06-13', '2017-06-03', '2017-06-24', '2017-06-20', '2017-06-19', '2017-06-21', '2017-06-26', '2017-06-27', '2017-06-22', '2017-06-28', '2017-06-15', '2017-06-29', '2017-06-30', '2017-06-18', '2017-07-04', '2017-07-08', '2017-07-05', '2017-07-03', '2017-07-07', '2017-07-01', '2017-07-06', '2017-07-11', '2017-07-12', '2017-06-23', '2017-07-13', '2017-07-02', '2017-07-10', '2017-07-14', '2017-07-15', '2017-07-16', '2017-07-18', '2017-07-17', '2017-07-19', '2017-07-20', '2017-07-21', '2017-06-25', '2017-06-17', '2017-07-24', '2017-07-26', '2017-07-09', '2017-07-27', '2017-07-28', '2017-07-31', '2017-07-29', '2017-07-22', '2017-08-02', '2017-08-01', '2017-08-03', '2017-08-04', '2017-07-25', '2017-07-23', '2017-08-09', '2017-08-10', '2017-07-30', '2017-08-07', '2017-08-13', '2017-08-05', '2017-08-14', '2017-08-08', '2017-08-16', '2017-08-17', '2017-08-15', '2017-08-18', '2017-08-20', '2017-08-22', '2017-08-06', '2017-08-25', '2017-08-26', '2017-08-23', '2017-08-11', '2017-08-27', '2017-08-21', '2017-08-29', '2017-08-31', '2017-08-12', '2017-08-19', '2016-01-31', '2017-09-01', '2017-08-28', '2015-04-03', '2015-01-21', '2015-01-28', '2015-01-29', '2015-01-30', '2015-02-02', '2015-02-05', '2015-02-06', '2015-02-09', '2015-02-10', '2015-02-11', '2015-02-12', '2015-02-19', '2015-02-20', '2015-02-23', '2015-02-24', '2015-02-25', '2015-02-26', '2015-02-27', '2015-03-03', '2015-03-04', '2015-03-06', '2015-03-09', '2015-03-11', '2015-03-12', '2015-03-18', '2015-04-02', '2015-06-14', '2015-04-08', '2015-04-16', '2015-04-25', '2015-04-28', '2015-05-08', '2017-09-06', '2016-02-28', '2015-12-09', '2015-12-14', '2017-09-09', '2017-09-02', '2017-08-24', '2017-08-30', '2017-09-03', '2017-09-04', '2017-09-05', '2017-09-07', '2017-09-08', '2017-09-10', '2017-09-12', '2017-09-14', '2015-04-30', '2015-04-21', '2015-04-05', '2015-03-13', '2015-05-05', '2015-03-29', '2015-06-10', '2015-04-27', '2014-10-17', '2015-01-20', '2015-02-17', '2015-03-10', '2015-03-23']\n"
          ]
        }
      ]
    },
    {
      "cell_type": "markdown",
      "source": [
        "## 3. ***Data Wrangling***"
      ],
      "metadata": {
        "id": "dauF4eBmngu3"
      }
    },
    {
      "cell_type": "markdown",
      "source": [
        "### Data Wrangling Code"
      ],
      "metadata": {
        "id": "bKJF3rekwFvQ"
      }
    },
    {
      "cell_type": "code",
      "source": [
        "#We have dropped the duplicate values before\n",
        "df1.duplicated().sum()"
      ],
      "metadata": {
        "colab": {
          "base_uri": "https://localhost:8080/"
        },
        "id": "L-xeqGAu2-MG",
        "outputId": "e2e5bffc-c93b-4eb9-b6c7-6716d44efa5e"
      },
      "execution_count": 62,
      "outputs": [
        {
          "output_type": "execute_result",
          "data": {
            "text/plain": [
              "0"
            ]
          },
          "metadata": {},
          "execution_count": 62
        }
      ]
    },
    {
      "cell_type": "code",
      "source": [
        "# Write your code to make your dataset analysis ready.\n",
        "df1.isnull().sum().sort_values(ascending=False)[:5]"
      ],
      "metadata": {
        "id": "wk-9a2fpoLcV",
        "colab": {
          "base_uri": "https://localhost:8080/"
        },
        "outputId": "72b60d1b-65be-481d-f858-36d15dcdf504"
      },
      "execution_count": 63,
      "outputs": [
        {
          "output_type": "execute_result",
          "data": {
            "text/plain": [
              "company               82137\n",
              "agent                 12193\n",
              "country                 452\n",
              "children                  4\n",
              "reserved_room_type        0\n",
              "dtype: int64"
            ]
          },
          "metadata": {},
          "execution_count": 63
        }
      ]
    },
    {
      "cell_type": "code",
      "source": [
        "#replacing the null values in numerical columns by zero\n",
        "df1['company'].fillna(0,inplace=True)\n",
        "df1['agent'].fillna(0,inplace=True)"
      ],
      "metadata": {
        "id": "i7B2awdH3H78"
      },
      "execution_count": 64,
      "outputs": []
    },
    {
      "cell_type": "code",
      "source": [
        "df1['children'].unique()"
      ],
      "metadata": {
        "colab": {
          "base_uri": "https://localhost:8080/"
        },
        "id": "2rym5gVoc5v_",
        "outputId": "69b68ee9-a8f5-4055-8aa9-654f3fbd072c"
      },
      "execution_count": 65,
      "outputs": [
        {
          "output_type": "execute_result",
          "data": {
            "text/plain": [
              "array([ 0.,  1.,  2., 10.,  3., nan])"
            ]
          },
          "metadata": {},
          "execution_count": 65
        }
      ]
    },
    {
      "cell_type": "markdown",
      "source": [
        "Here we can see that children column has value 0 in it. So 'Nan' values are missing values, we will replace the 'Nan' values by mean of children column."
      ],
      "metadata": {
        "id": "BN4c9fkqdFNk"
      }
    },
    {
      "cell_type": "code",
      "source": [
        "round(df1['children'].mean(),2)"
      ],
      "metadata": {
        "colab": {
          "base_uri": "https://localhost:8080/"
        },
        "id": "q6d0Pa_4epxN",
        "outputId": "22dd714a-864a-4a0e-fc1b-fc7b76ca34c3"
      },
      "execution_count": 66,
      "outputs": [
        {
          "output_type": "execute_result",
          "data": {
            "text/plain": [
              "0.14"
            ]
          },
          "metadata": {},
          "execution_count": 66
        }
      ]
    },
    {
      "cell_type": "code",
      "source": [
        "#Replacing nan values in children column by mean\n",
        "df1['children'].fillna(round(df1['children'].mean(),2),inplace=True)"
      ],
      "metadata": {
        "id": "UD-XTFideZAC"
      },
      "execution_count": 67,
      "outputs": []
    },
    {
      "cell_type": "code",
      "source": [
        "df1['children'].unique()"
      ],
      "metadata": {
        "colab": {
          "base_uri": "https://localhost:8080/"
        },
        "id": "al-CoR-Fe51f",
        "outputId": "08d79531-47f4-4b2d-d8cb-f5e5dbe35d67"
      },
      "execution_count": 68,
      "outputs": [
        {
          "output_type": "execute_result",
          "data": {
            "text/plain": [
              "array([ 0.  ,  1.  ,  2.  , 10.  ,  3.  ,  0.14])"
            ]
          },
          "metadata": {},
          "execution_count": 68
        }
      ]
    },
    {
      "cell_type": "code",
      "source": [
        "#replacing the null values in categorial columns by others\n",
        "df1['country'].fillna(0,inplace=True)"
      ],
      "metadata": {
        "id": "SPrBI2g336sB"
      },
      "execution_count": 69,
      "outputs": []
    },
    {
      "cell_type": "code",
      "source": [
        "df1.isnull().sum().sort_values(ascending=False)[:5]"
      ],
      "metadata": {
        "colab": {
          "base_uri": "https://localhost:8080/"
        },
        "id": "UOs_-LGb3gRM",
        "outputId": "48013a20-cf9e-414d-f53a-dcb1cdf23d34"
      },
      "execution_count": 70,
      "outputs": [
        {
          "output_type": "execute_result",
          "data": {
            "text/plain": [
              "hotel                          0\n",
              "is_canceled                    0\n",
              "reservation_status             0\n",
              "total_of_special_requests      0\n",
              "required_car_parking_spaces    0\n",
              "dtype: int64"
            ]
          },
          "metadata": {},
          "execution_count": 70
        }
      ]
    },
    {
      "cell_type": "code",
      "source": [
        "#creating new columns\n",
        "df1['total_stay']=df1['stays_in_week_nights']+df1['stays_in_weekend_nights']\n",
        "df1['total_guests']=df1['adults']+df1['children']+df1['babies']"
      ],
      "metadata": {
        "id": "O3G_j75dfg08"
      },
      "execution_count": 71,
      "outputs": []
    },
    {
      "cell_type": "code",
      "source": [
        "df1[df1['total_guests']==0].shape"
      ],
      "metadata": {
        "colab": {
          "base_uri": "https://localhost:8080/"
        },
        "id": "917f1wMRgwMT",
        "outputId": "b2c53c48-ab68-4342-ac87-cd2d98110dc6"
      },
      "execution_count": 72,
      "outputs": [
        {
          "output_type": "execute_result",
          "data": {
            "text/plain": [
              "(166, 34)"
            ]
          },
          "metadata": {},
          "execution_count": 72
        }
      ]
    },
    {
      "cell_type": "markdown",
      "source": [
        "There are rows with total guests equal to zero. We can drop such rows, as it means no booking made."
      ],
      "metadata": {
        "id": "u-XJBdKShLCS"
      }
    },
    {
      "cell_type": "code",
      "source": [
        "df1 = df1[df1['total_guests']!= 0]\n"
      ],
      "metadata": {
        "id": "8aQfuOL6re8e"
      },
      "execution_count": 73,
      "outputs": []
    },
    {
      "cell_type": "code",
      "source": [
        "df1[df1['total_guests']==0].shape"
      ],
      "metadata": {
        "colab": {
          "base_uri": "https://localhost:8080/"
        },
        "id": "b4sLzWcxhsK6",
        "outputId": "6601727d-6534-42e3-b86a-d1a20d15332b"
      },
      "execution_count": 74,
      "outputs": [
        {
          "output_type": "execute_result",
          "data": {
            "text/plain": [
              "(0, 34)"
            ]
          },
          "metadata": {},
          "execution_count": 74
        }
      ]
    },
    {
      "cell_type": "markdown",
      "source": [
        "### What all manipulations have you done and insights you found?"
      ],
      "metadata": {
        "id": "MSa1f5Uengrz"
      }
    },
    {
      "cell_type": "markdown",
      "source": [
        "\n",
        "\n",
        "1.   In the dataframe there are 31994 rows. So we have dropped those rows\n",
        "2.   There are 4 columns with null values namely company,agent,country and children. We have replaced the numerical data columns by '0' and categorial columns by 'others'.\n",
        "3. We have replaced null values in children column with mean of that column.\n",
        "\n",
        "1. We have created two new columns namely total_guests and total_stay. Where total guests is the sum of adults,children and babies columns, and total stay is the sum of week night stays and weekend night stays\n",
        "\n",
        "\n",
        "\n"
      ],
      "metadata": {
        "id": "LbyXE7I1olp8"
      }
    },
    {
      "cell_type": "markdown",
      "source": [
        "## ***4. Data Vizualization, Storytelling & Experimenting with charts : Understand the relationships between variables***"
      ],
      "metadata": {
        "id": "GF8Ens_Soomf"
      }
    },
    {
      "cell_type": "markdown",
      "source": [
        "#### Chart - 1 - Correlation Heatmap"
      ],
      "metadata": {
        "id": "0wOQAZs5pc--"
      }
    },
    {
      "cell_type": "code",
      "source": [
        "# Chart - 1 visualization code\n",
        "plt.rcParams['figure.figsize']=(25,10)\n",
        "sns.heatmap(df1.corr(),annot=True)\n",
        "plt.title('Correlation of all columns',fontsize=20)\n"
      ],
      "metadata": {
        "id": "7v_ESjsspbW7",
        "colab": {
          "base_uri": "https://localhost:8080/",
          "height": 752
        },
        "outputId": "e6dc05a1-538e-4329-a6b6-57f875d2726b"
      },
      "execution_count": 75,
      "outputs": [
        {
          "output_type": "execute_result",
          "data": {
            "text/plain": [
              "Text(0.5, 1.0, 'Correlation of all columns')"
            ]
          },
          "metadata": {},
          "execution_count": 75
        },
        {
          "output_type": "display_data",
          "data": {
            "text/plain": [
              "<Figure size 1800x720 with 2 Axes>"
            ],
            "image/png": "[encoded data removed]"
          },
          "metadata": {
            "needs_background": "light"
          }
        }
      ]
    },
    {
      "cell_type": "markdown",
      "source": [
        "##### 1. Why did you pick the specific chart?"
      ],
      "metadata": {
        "id": "K5QZ13OEpz2H"
      }
    },
    {
      "cell_type": "markdown",
      "source": [
        "I used Heatmaps because, Heatmaps are often preferred for displaying numeric data because they provide a more generalized view of the data, with color-coded cells that make it easy to identify patterns and relationships between variables."
      ],
      "metadata": {
        "id": "XESiWehPqBRc"
      }
    },
    {
      "cell_type": "markdown",
      "source": [
        "##### 2. What is/are the insight(s) found from the chart?"
      ],
      "metadata": {
        "id": "lQ7QKXXCp7Bj"
      }
    },
    {
      "cell_type": "markdown",
      "source": [
        "\n",
        "\n",
        "*  adults and total guests have a correlation of 0.8, means that the number of adults has a significant impact on the total number of guests.\n",
        "*   adr is sightly correlated with total guests, which means that more number of guests is equal to more revenue, and more adr.\n",
        "\n"
      ],
      "metadata": {
        "id": "C_j1G7yiqdRP"
      }
    },
    {
      "cell_type": "markdown",
      "source": [
        "##### 3. Will the gained insights help creating a positive business impact? \n",
        "Are there any insights that lead to negative growth? Justify with specific reason."
      ],
      "metadata": {
        "id": "448CDAPjqfQr"
      }
    },
    {
      "cell_type": "markdown",
      "source": [
        "Answer Here"
      ],
      "metadata": {
        "id": "3cspy4FjqxJW"
      }
    },
    {
      "cell_type": "markdown",
      "source": [
        "#### Chart - 2"
      ],
      "metadata": {
        "id": "KSlN3yHqYklG"
      }
    },
    {
      "cell_type": "markdown",
      "source": [
        "Which type of hotel has more number of bookings?"
      ],
      "metadata": {
        "id": "AVAPkFaS5h6C"
      }
    },
    {
      "cell_type": "code",
      "source": [
        "hotels=df1['hotel'].value_counts()"
      ],
      "metadata": {
        "id": "8BNGEq779_rJ"
      },
      "execution_count": 76,
      "outputs": []
    },
    {
      "cell_type": "code",
      "source": [
        "# Chart - 2 visualization code\n",
        "hotels.plot.pie(autopct='%.0f%%',fontsize=20)\n",
        "plt.title('Most preferred hotel',fontsize=20)"
      ],
      "metadata": {
        "id": "R4YgtaqtYklH",
        "colab": {
          "base_uri": "https://localhost:8080/",
          "height": 613
        },
        "outputId": "eb8d3d58-4e79-42a3-edb8-459ecebca1c1"
      },
      "execution_count": 77,
      "outputs": [
        {
          "output_type": "execute_result",
          "data": {
            "text/plain": [
              "Text(0.5, 1.0, 'Most preferred hotel')"
            ]
          },
          "metadata": {},
          "execution_count": 77
        },
        {
          "output_type": "display_data",
          "data": {
            "text/plain": [
              "<Figure size 1800x720 with 1 Axes>"
            ],
            "image/png": "[encoded data removed]"
          },
          "metadata": {}
        }
      ]
    },
    {
      "cell_type": "markdown",
      "source": [
        "##### 1. Why did you pick the specific chart?"
      ],
      "metadata": {
        "id": "t6dVpIINYklI"
      }
    },
    {
      "cell_type": "markdown",
      "source": [
        "I used a pie chart to show which hotel had the most bookings, as it is an easy and straightforward way to communicate this information."
      ],
      "metadata": {
        "id": "5aaW0BYyYklI"
      }
    },
    {
      "cell_type": "markdown",
      "source": [
        "##### 2. What is/are the insight(s) found from the chart?"
      ],
      "metadata": {
        "id": "ijmpgYnKYklI"
      }
    },
    {
      "cell_type": "markdown",
      "source": [
        "City hotel has more number of bookings which is 61% where as resort hotel has 39%."
      ],
      "metadata": {
        "id": "PSx9atu2YklI"
      }
    },
    {
      "cell_type": "markdown",
      "source": [
        "##### 3. Will the gained insights help creating a positive business impact? \n",
        "Are there any insights that lead to negative growth? Justify with specific reason."
      ],
      "metadata": {
        "id": "-JiQyfWJYklI"
      }
    },
    {
      "cell_type": "markdown",
      "source": [
        "\n",
        "*  The gained insight can help in creating a positive business impact.\n",
        "*  Guests are more into city hotel than resort hotel, resort hotel should find a way to increase it's number of bookings by providing the facilities like pick-up and drop at airport, offering more discount etc.\n",
        "\n"
      ],
      "metadata": {
        "id": "BcBbebzrYklV"
      }
    },
    {
      "cell_type": "markdown",
      "source": [
        "#### Chart - 3"
      ],
      "metadata": {
        "id": "EM7whBJCYoAo"
      }
    },
    {
      "cell_type": "markdown",
      "source": [
        "what is the number of bookings cancelled?"
      ],
      "metadata": {
        "id": "uhxEe7OECrz9"
      }
    },
    {
      "cell_type": "code",
      "source": [
        "bookings_cancelled=df1[df1['is_canceled']==1]"
      ],
      "metadata": {
        "id": "iU1kHXIZKYko"
      },
      "execution_count": 78,
      "outputs": []
    },
    {
      "cell_type": "code",
      "source": [
        "# Chart - 3 visualization code\n",
        "plt.rcParams['figure.figsize']=(10,5)\n",
        "sns.countplot(x=bookings_cancelled['hotel'])\n",
        "plt.title('Bookings Canceled for hotel',fontsize=20)"
      ],
      "metadata": {
        "id": "t6GMdE67YoAp",
        "colab": {
          "base_uri": "https://localhost:8080/",
          "height": 372
        },
        "outputId": "6bc3ae6a-a32f-41ce-c58a-bb9a6bea6cf3"
      },
      "execution_count": 115,
      "outputs": [
        {
          "output_type": "execute_result",
          "data": {
            "text/plain": [
              "Text(0.5, 1.0, 'Bookings Canceled for hotel')"
            ]
          },
          "metadata": {},
          "execution_count": 115
        },
        {
          "output_type": "display_data",
          "data": {
            "text/plain": [
              "<Figure size 720x360 with 1 Axes>"
            ],
            "image/png": "[encoded data removed]"
          },
          "metadata": {
            "needs_background": "light"
          }
        }
      ]
    },
    {
      "cell_type": "code",
      "source": [
        "bookings_cancelled['hotel'].value_counts()"
      ],
      "metadata": {
        "colab": {
          "base_uri": "https://localhost:8080/"
        },
        "id": "bDLcahsGHbkb",
        "outputId": "5b900d9f-2333-4ae7-c8c5-ba37c25e513c"
      },
      "execution_count": 83,
      "outputs": [
        {
          "output_type": "execute_result",
          "data": {
            "text/plain": [
              "City Hotel      16035\n",
              "Resort Hotel     7974\n",
              "Name: hotel, dtype: int64"
            ]
          },
          "metadata": {},
          "execution_count": 83
        }
      ]
    },
    {
      "cell_type": "markdown",
      "source": [
        "##### 1. Why did you pick the specific chart?"
      ],
      "metadata": {
        "id": "fge-S5ZAYoAp"
      }
    },
    {
      "cell_type": "markdown",
      "source": [
        "I used a countplot to show which hotel had the most bookings cancelled, as it is an easy and straightforward way to communicate this information."
      ],
      "metadata": {
        "id": "5dBItgRVYoAp"
      }
    },
    {
      "cell_type": "markdown",
      "source": [
        "##### 2. What is/are the insight(s) found from the chart?"
      ],
      "metadata": {
        "id": "85gYPyotYoAp"
      }
    },
    {
      "cell_type": "markdown",
      "source": [
        "\n",
        "\n",
        "*  The City Hotel experienced a cancellation of 16035 bookings.\n",
        "*   The City Hotel experienced a cancellation of 7974 bookings.\n",
        "\n"
      ],
      "metadata": {
        "id": "4jstXR6OYoAp"
      }
    },
    {
      "cell_type": "markdown",
      "source": [
        "##### 3. Will the gained insights help creating a positive business impact? \n",
        "Are there any insights that lead to negative growth? Justify with specific reason."
      ],
      "metadata": {
        "id": "RoGjAbkUYoAp"
      }
    },
    {
      "cell_type": "markdown",
      "source": [
        "\n",
        "\n",
        "*   City hotel has more number of canceled bookings, if this continues this will lead to negative growth.\n",
        "*   Business must do the needful to reduce the number of canceled bookings, thus they can create a positive business impact.\n",
        "\n"
      ],
      "metadata": {
        "id": "zfJ8IqMcYoAp"
      }
    },
    {
      "cell_type": "markdown",
      "source": [
        "#### Chart - 4"
      ],
      "metadata": {
        "id": "4Of9eVA-YrdM"
      }
    },
    {
      "cell_type": "markdown",
      "source": [
        "Which type of room do customers prefer the most?"
      ],
      "metadata": {
        "id": "-ZLMdJpcAG1i"
      }
    },
    {
      "cell_type": "code",
      "source": [
        "room_type=df1['assigned_room_type'].value_counts().reset_index().rename(columns={'index':'Room type','assigned_room_type':'count'})"
      ],
      "metadata": {
        "id": "E2bmVAwFrfFU"
      },
      "execution_count": 80,
      "outputs": []
    },
    {
      "cell_type": "code",
      "source": [
        "room_type"
      ],
      "metadata": {
        "colab": {
          "base_uri": "https://localhost:8080/",
          "height": 394
        },
        "id": "cLCOvAzQrj9L",
        "outputId": "51aa671d-476a-4ae4-a3eb-9ea96c2cfa9c"
      },
      "execution_count": 81,
      "outputs": [
        {
          "output_type": "execute_result",
          "data": {
            "text/plain": [
              "   Room type  count\n",
              "0          A  46283\n",
              "1          D  22419\n",
              "2          E   7190\n",
              "3          F   3627\n",
              "4          G   2495\n",
              "5          C   2160\n",
              "6          B   1811\n",
              "7          H    706\n",
              "8          I    353\n",
              "9          K    185\n",
              "10         L      1"
            ],
            "text/html": [
              "\n",
              "  <div id=\"df-3fd7ef90-ad9c-46d6-9a08-01183f91c21b\">\n",
              "    <div class=\"colab-df-container\">\n",
              "      <div>\n",
              "<style scoped>\n",
              "    .dataframe tbody tr th:only-of-type {\n",
              "        vertical-align: middle;\n",
              "    }\n",
              "\n",
              "    .dataframe tbody tr th {\n",
              "        vertical-align: top;\n",
              "    }\n",
              "\n",
              "    .dataframe thead th {\n",
              "        text-align: right;\n",
              "    }\n",
              "</style>\n",
              "<table border=\"1\" class=\"dataframe\">\n",
              "  <thead>\n",
              "    <tr style=\"text-align: right;\">\n",
              "      <th></th>\n",
              "      <th>Room type</th>\n",
              "      <th>count</th>\n",
              "    </tr>\n",
              "  </thead>\n",
              "  <tbody>\n",
              "    <tr>\n",
              "      <th>0</th>\n",
              "      <td>A</td>\n",
              "      <td>46283</td>\n",
              "    </tr>\n",
              "    <tr>\n",
              "      <th>1</th>\n",
              "      <td>D</td>\n",
              "      <td>22419</td>\n",
              "    </tr>\n",
              "    <tr>\n",
              "      <th>2</th>\n",
              "      <td>E</td>\n",
              "      <td>7190</td>\n",
              "    </tr>\n",
              "    <tr>\n",
              "      <th>3</th>\n",
              "      <td>F</td>\n",
              "      <td>3627</td>\n",
              "    </tr>\n",
              "    <tr>\n",
              "      <th>4</th>\n",
              "      <td>G</td>\n",
              "      <td>2495</td>\n",
              "    </tr>\n",
              "    <tr>\n",
              "      <th>5</th>\n",
              "      <td>C</td>\n",
              "      <td>2160</td>\n",
              "    </tr>\n",
              "    <tr>\n",
              "      <th>6</th>\n",
              "      <td>B</td>\n",
              "      <td>1811</td>\n",
              "    </tr>\n",
              "    <tr>\n",
              "      <th>7</th>\n",
              "      <td>H</td>\n",
              "      <td>706</td>\n",
              "    </tr>\n",
              "    <tr>\n",
              "      <th>8</th>\n",
              "      <td>I</td>\n",
              "      <td>353</td>\n",
              "    </tr>\n",
              "    <tr>\n",
              "      <th>9</th>\n",
              "      <td>K</td>\n",
              "      <td>185</td>\n",
              "    </tr>\n",
              "    <tr>\n",
              "      <th>10</th>\n",
              "      <td>L</td>\n",
              "      <td>1</td>\n",
              "    </tr>\n",
              "  </tbody>\n",
              "</table>\n",
              "</div>\n",
              "      <button class=\"colab-df-convert\" onclick=\"convertToInteractive('df-3fd7ef90-ad9c-46d6-9a08-01183f91c21b')\"\n",
              "              title=\"Convert this dataframe to an interactive table.\"\n",
              "              style=\"display:none;\">\n",
              "        \n",
              "  <svg xmlns=\"http://www.w3.org/2000/svg\" height=\"24px\"viewBox=\"0 0 24 24\"\n",
              "       width=\"24px\">\n",
              "    <path d=\"M0 0h24v24H0V0z\" fill=\"none\"/>\n",
              "    <path d=\"M18.56 5.44l.94 2.06.94-2.06 2.06-.94-2.06-.94-.94-2.06-.94 2.06-2.06.94zm-11 1L8.5 8.5l.94-2.06 2.06-.94-2.06-.94L8.5 2.5l-.94 2.06-2.06.94zm10 10l.94 2.06.94-2.06 2.06-.94-2.06-.94-.94-2.06-.94 2.06-2.06.94z\"/><path d=\"M17.41 7.96l-1.37-1.37c-.4-.4-.92-.59-1.43-.59-.52 0-1.04.2-1.43.59L10.3 9.45l-7.72 7.72c-.78.78-.78 2.05 0 2.83L4 21.41c.39.39.9.59 1.41.59.51 0 1.02-.2 1.41-.59l7.78-7.78 2.81-2.81c.8-.78.8-2.07 0-2.86zM5.41 20L4 18.59l7.72-7.72 1.47 1.35L5.41 20z\"/>\n",
              "  </svg>\n",
              "      </button>\n",
              "      \n",
              "  <style>\n",
              "    .colab-df-container {\n",
              "      display:flex;\n",
              "      flex-wrap:wrap;\n",
              "      gap: 12px;\n",
              "    }\n",
              "\n",
              "    .colab-df-convert {\n",
              "      background-color: #E8F0FE;\n",
              "      border: none;\n",
              "      border-radius: 50%;\n",
              "      cursor: pointer;\n",
              "      display: none;\n",
              "      fill: #1967D2;\n",
              "      height: 32px;\n",
              "      padding: 0 0 0 0;\n",
              "      width: 32px;\n",
              "    }\n",
              "\n",
              "    .colab-df-convert:hover {\n",
              "      background-color: #E2EBFA;\n",
              "      box-shadow: 0px 1px 2px rgba(60, 64, 67, 0.3), 0px 1px 3px 1px rgba(60, 64, 67, 0.15);\n",
              "      fill: #174EA6;\n",
              "    }\n",
              "\n",
              "    [theme=dark] .colab-df-convert {\n",
              "      background-color: #3B4455;\n",
              "      fill: #D2E3FC;\n",
              "    }\n",
              "\n",
              "    [theme=dark] .colab-df-convert:hover {\n",
              "      background-color: #434B5C;\n",
              "      box-shadow: 0px 1px 3px 1px rgba(0, 0, 0, 0.15);\n",
              "      filter: drop-shadow(0px 1px 2px rgba(0, 0, 0, 0.3));\n",
              "      fill: #FFFFFF;\n",
              "    }\n",
              "  </style>\n",
              "\n",
              "      <script>\n",
              "        const buttonEl =\n",
              "          document.querySelector('#df-3fd7ef90-ad9c-46d6-9a08-01183f91c21b button.colab-df-convert');\n",
              "        buttonEl.style.display =\n",
              "          google.colab.kernel.accessAllowed ? 'block' : 'none';\n",
              "\n",
              "        async function convertToInteractive(key) {\n",
              "          const element = document.querySelector('#df-3fd7ef90-ad9c-46d6-9a08-01183f91c21b');\n",
              "          const dataTable =\n",
              "            await google.colab.kernel.invokeFunction('convertToInteractive',\n",
              "                                                     [key], {});\n",
              "          if (!dataTable) return;\n",
              "\n",
              "          const docLinkHtml = 'Like what you see? Visit the ' +\n",
              "            '<a target=\"_blank\" href=https://colab.research.google.com/notebooks/data_table.ipynb>data table notebook</a>'\n",
              "            + ' to learn more about interactive tables.';\n",
              "          element.innerHTML = '';\n",
              "          dataTable['output_type'] = 'display_data';\n",
              "          await google.colab.output.renderOutput(dataTable, element);\n",
              "          const docLink = document.createElement('div');\n",
              "          docLink.innerHTML = docLinkHtml;\n",
              "          element.appendChild(docLink);\n",
              "        }\n",
              "      </script>\n",
              "    </div>\n",
              "  </div>\n",
              "  "
            ]
          },
          "metadata": {},
          "execution_count": 81
        }
      ]
    },
    {
      "cell_type": "code",
      "source": [
        "# Chart - 4 visualization code\n",
        "plt.rcParams['figure.figsize']=(12,6)\n",
        "sns.barplot(x=room_type['Room type'],y=room_type['count'],edgecolor='black')\n",
        "plt.xlabel('Room Type',fontsize=20)\n",
        "plt.ylabel('Count of room type',fontsize=20)"
      ],
      "metadata": {
        "colab": {
          "base_uri": "https://localhost:8080/",
          "height": 414
        },
        "id": "TObvCrmECXGK",
        "outputId": "d08ae34b-1ea1-4eb4-a45f-8604751a9164"
      },
      "execution_count": 82,
      "outputs": [
        {
          "output_type": "execute_result",
          "data": {
            "text/plain": [
              "Text(0, 0.5, 'Count of room type')"
            ]
          },
          "metadata": {},
          "execution_count": 82
        },
        {
          "output_type": "display_data",
          "data": {
            "text/plain": [
              "<Figure size 864x432 with 1 Axes>"
            ],
            "image/png": "[encoded data removed]"
          },
          "metadata": {
            "needs_background": "light"
          }
        }
      ]
    },
    {
      "cell_type": "markdown",
      "source": [
        "##### 1. Why did you pick the specific chart?"
      ],
      "metadata": {
        "id": "iky9q4vBYrdO"
      }
    },
    {
      "cell_type": "markdown",
      "source": [
        "I have used barplot to show the number of occurrences of each room type in the dataset. Because barplots are an effective way to compare the values of different categories or groups."
      ],
      "metadata": {
        "id": "aJRCwT6DYrdO"
      }
    },
    {
      "cell_type": "markdown",
      "source": [
        "##### 2. What is/are the insight(s) found from the chart?"
      ],
      "metadata": {
        "id": "F6T5p64dYrdO"
      }
    },
    {
      "cell_type": "markdown",
      "source": [
        "\n",
        " \n",
        "\n",
        "*   According to our findings, customers tend to prefer A type rooms the most, as evidenced by approximately 46,000 bookings.\n",
        "*   On the other hand, D type rooms are the second most popular choice among customers, with a count of around 22,000.\n",
        "\n",
        "\n"
      ],
      "metadata": {
        "id": "Xx8WAJvtYrdO"
      }
    },
    {
      "cell_type": "markdown",
      "source": [
        "##### 3. Will the gained insights help creating a positive business impact? \n",
        "Are there any insights that lead to negative growth? Justify with specific reason."
      ],
      "metadata": {
        "id": "y-Ehk30pYrdP"
      }
    },
    {
      "cell_type": "markdown",
      "source": [
        "The booking count for room types H, I, and K is less than 1000, and room type L has only received a single booking. This could potentially have a negative impact on the business."
      ],
      "metadata": {
        "id": "jLNxxz7MYrdP"
      }
    },
    {
      "cell_type": "markdown",
      "source": [
        "#### Chart - 5"
      ],
      "metadata": {
        "id": "bamQiAODYuh1"
      }
    },
    {
      "cell_type": "markdown",
      "source": [
        "What are the number of bookings per month?"
      ],
      "metadata": {
        "id": "8Ks5UqTvXxSJ"
      }
    },
    {
      "cell_type": "code",
      "source": [
        "# Chart - 5 visualization code\n",
        "bookings_per_month=df1.groupby('arrival_date_month')['hotel'].count().reset_index(name='No. of bookings')\n",
        "bookings_per_month['arrival_date_month']=pd.Categorical(bookings_per_month['arrival_date_month'],categories=['January', 'February', 'March', 'April', 'May', 'June', 'July', 'August', 'September', 'October', 'November', 'December'],ordered=True)\n",
        "bookings_per_month.sort_values(by='arrival_date_month',inplace=True)"
      ],
      "metadata": {
        "id": "LyHhSSQ5gU8h"
      },
      "execution_count": 92,
      "outputs": []
    },
    {
      "cell_type": "code",
      "source": [
        "bookings_per_month"
      ],
      "metadata": {
        "colab": {
          "base_uri": "https://localhost:8080/",
          "height": 425
        },
        "id": "G8Oz1c3GhwQE",
        "outputId": "d329ba11-951b-4508-d668-214f196000e9"
      },
      "execution_count": 93,
      "outputs": [
        {
          "output_type": "execute_result",
          "data": {
            "text/plain": [
              "   arrival_date_month  No. of bookings\n",
              "4             January             4685\n",
              "3            February             6083\n",
              "7               March             7489\n",
              "0               April             7900\n",
              "8                 May             8344\n",
              "6                June             7756\n",
              "5                July            10043\n",
              "1              August            11242\n",
              "11          September             6682\n",
              "10            October             6921\n",
              "9            November             4973\n",
              "2            December             5112"
            ],
            "text/html": [
              "\n",
              "  <div id=\"df-deec1d0a-f3d7-48a1-a605-a01fc938c665\">\n",
              "    <div class=\"colab-df-container\">\n",
              "      <div>\n",
              "<style scoped>\n",
              "    .dataframe tbody tr th:only-of-type {\n",
              "        vertical-align: middle;\n",
              "    }\n",
              "\n",
              "    .dataframe tbody tr th {\n",
              "        vertical-align: top;\n",
              "    }\n",
              "\n",
              "    .dataframe thead th {\n",
              "        text-align: right;\n",
              "    }\n",
              "</style>\n",
              "<table border=\"1\" class=\"dataframe\">\n",
              "  <thead>\n",
              "    <tr style=\"text-align: right;\">\n",
              "      <th></th>\n",
              "      <th>arrival_date_month</th>\n",
              "      <th>No. of bookings</th>\n",
              "    </tr>\n",
              "  </thead>\n",
              "  <tbody>\n",
              "    <tr>\n",
              "      <th>4</th>\n",
              "      <td>January</td>\n",
              "      <td>4685</td>\n",
              "    </tr>\n",
              "    <tr>\n",
              "      <th>3</th>\n",
              "      <td>February</td>\n",
              "      <td>6083</td>\n",
              "    </tr>\n",
              "    <tr>\n",
              "      <th>7</th>\n",
              "      <td>March</td>\n",
              "      <td>7489</td>\n",
              "    </tr>\n",
              "    <tr>\n",
              "      <th>0</th>\n",
              "      <td>April</td>\n",
              "      <td>7900</td>\n",
              "    </tr>\n",
              "    <tr>\n",
              "      <th>8</th>\n",
              "      <td>May</td>\n",
              "      <td>8344</td>\n",
              "    </tr>\n",
              "    <tr>\n",
              "      <th>6</th>\n",
              "      <td>June</td>\n",
              "      <td>7756</td>\n",
              "    </tr>\n",
              "    <tr>\n",
              "      <th>5</th>\n",
              "      <td>July</td>\n",
              "      <td>10043</td>\n",
              "    </tr>\n",
              "    <tr>\n",
              "      <th>1</th>\n",
              "      <td>August</td>\n",
              "      <td>11242</td>\n",
              "    </tr>\n",
              "    <tr>\n",
              "      <th>11</th>\n",
              "      <td>September</td>\n",
              "      <td>6682</td>\n",
              "    </tr>\n",
              "    <tr>\n",
              "      <th>10</th>\n",
              "      <td>October</td>\n",
              "      <td>6921</td>\n",
              "    </tr>\n",
              "    <tr>\n",
              "      <th>9</th>\n",
              "      <td>November</td>\n",
              "      <td>4973</td>\n",
              "    </tr>\n",
              "    <tr>\n",
              "      <th>2</th>\n",
              "      <td>December</td>\n",
              "      <td>5112</td>\n",
              "    </tr>\n",
              "  </tbody>\n",
              "</table>\n",
              "</div>\n",
              "      <button class=\"colab-df-convert\" onclick=\"convertToInteractive('df-deec1d0a-f3d7-48a1-a605-a01fc938c665')\"\n",
              "              title=\"Convert this dataframe to an interactive table.\"\n",
              "              style=\"display:none;\">\n",
              "        \n",
              "  <svg xmlns=\"http://www.w3.org/2000/svg\" height=\"24px\"viewBox=\"0 0 24 24\"\n",
              "       width=\"24px\">\n",
              "    <path d=\"M0 0h24v24H0V0z\" fill=\"none\"/>\n",
              "    <path d=\"M18.56 5.44l.94 2.06.94-2.06 2.06-.94-2.06-.94-.94-2.06-.94 2.06-2.06.94zm-11 1L8.5 8.5l.94-2.06 2.06-.94-2.06-.94L8.5 2.5l-.94 2.06-2.06.94zm10 10l.94 2.06.94-2.06 2.06-.94-2.06-.94-.94-2.06-.94 2.06-2.06.94z\"/><path d=\"M17.41 7.96l-1.37-1.37c-.4-.4-.92-.59-1.43-.59-.52 0-1.04.2-1.43.59L10.3 9.45l-7.72 7.72c-.78.78-.78 2.05 0 2.83L4 21.41c.39.39.9.59 1.41.59.51 0 1.02-.2 1.41-.59l7.78-7.78 2.81-2.81c.8-.78.8-2.07 0-2.86zM5.41 20L4 18.59l7.72-7.72 1.47 1.35L5.41 20z\"/>\n",
              "  </svg>\n",
              "      </button>\n",
              "      \n",
              "  <style>\n",
              "    .colab-df-container {\n",
              "      display:flex;\n",
              "      flex-wrap:wrap;\n",
              "      gap: 12px;\n",
              "    }\n",
              "\n",
              "    .colab-df-convert {\n",
              "      background-color: #E8F0FE;\n",
              "      border: none;\n",
              "      border-radius: 50%;\n",
              "      cursor: pointer;\n",
              "      display: none;\n",
              "      fill: #1967D2;\n",
              "      height: 32px;\n",
              "      padding: 0 0 0 0;\n",
              "      width: 32px;\n",
              "    }\n",
              "\n",
              "    .colab-df-convert:hover {\n",
              "      background-color: #E2EBFA;\n",
              "      box-shadow: 0px 1px 2px rgba(60, 64, 67, 0.3), 0px 1px 3px 1px rgba(60, 64, 67, 0.15);\n",
              "      fill: #174EA6;\n",
              "    }\n",
              "\n",
              "    [theme=dark] .colab-df-convert {\n",
              "      background-color: #3B4455;\n",
              "      fill: #D2E3FC;\n",
              "    }\n",
              "\n",
              "    [theme=dark] .colab-df-convert:hover {\n",
              "      background-color: #434B5C;\n",
              "      box-shadow: 0px 1px 3px 1px rgba(0, 0, 0, 0.15);\n",
              "      filter: drop-shadow(0px 1px 2px rgba(0, 0, 0, 0.3));\n",
              "      fill: #FFFFFF;\n",
              "    }\n",
              "  </style>\n",
              "\n",
              "      <script>\n",
              "        const buttonEl =\n",
              "          document.querySelector('#df-deec1d0a-f3d7-48a1-a605-a01fc938c665 button.colab-df-convert');\n",
              "        buttonEl.style.display =\n",
              "          google.colab.kernel.accessAllowed ? 'block' : 'none';\n",
              "\n",
              "        async function convertToInteractive(key) {\n",
              "          const element = document.querySelector('#df-deec1d0a-f3d7-48a1-a605-a01fc938c665');\n",
              "          const dataTable =\n",
              "            await google.colab.kernel.invokeFunction('convertToInteractive',\n",
              "                                                     [key], {});\n",
              "          if (!dataTable) return;\n",
              "\n",
              "          const docLinkHtml = 'Like what you see? Visit the ' +\n",
              "            '<a target=\"_blank\" href=https://colab.research.google.com/notebooks/data_table.ipynb>data table notebook</a>'\n",
              "            + ' to learn more about interactive tables.';\n",
              "          element.innerHTML = '';\n",
              "          dataTable['output_type'] = 'display_data';\n",
              "          await google.colab.output.renderOutput(dataTable, element);\n",
              "          const docLink = document.createElement('div');\n",
              "          docLink.innerHTML = docLinkHtml;\n",
              "          element.appendChild(docLink);\n",
              "        }\n",
              "      </script>\n",
              "    </div>\n",
              "  </div>\n",
              "  "
            ]
          },
          "metadata": {},
          "execution_count": 93
        }
      ]
    },
    {
      "cell_type": "code",
      "source": [
        "plt.rcParams['figure.figsize']=(12,6)\n",
        "sns.barplot(x=bookings_per_month['arrival_date_month'],y=bookings_per_month['No. of bookings'],edgecolor='black')\n",
        "plt.title('No. of bookings per month')\n",
        "plt.xlabel('Month')\n",
        "plt.ylabel('No. of bookings')"
      ],
      "metadata": {
        "colab": {
          "base_uri": "https://localhost:8080/",
          "height": 421
        },
        "id": "D0pyIerbgwLZ",
        "outputId": "b34993ac-bb42-4c69-f6a3-f9a99ea19cf6"
      },
      "execution_count": 94,
      "outputs": [
        {
          "output_type": "execute_result",
          "data": {
            "text/plain": [
              "Text(0, 0.5, 'No. of bookings')"
            ]
          },
          "metadata": {},
          "execution_count": 94
        },
        {
          "output_type": "display_data",
          "data": {
            "text/plain": [
              "<Figure size 864x432 with 1 Axes>"
            ],
            "image/png": "[encoded data removed]"
          },
          "metadata": {
            "needs_background": "light"
          }
        }
      ]
    },
    {
      "cell_type": "markdown",
      "source": [
        "##### 1. Why did you pick the specific chart?"
      ],
      "metadata": {
        "id": "QHF8YVU7Yuh3"
      }
    },
    {
      "cell_type": "markdown",
      "source": [
        "I have used barplot to show the number of occurrences of each room type in the dataset. Because barplots are an effective way to compare the values of different categories or groups."
      ],
      "metadata": {
        "id": "dcxuIMRPYuh3"
      }
    },
    {
      "cell_type": "markdown",
      "source": [
        "##### 2. What is/are the insight(s) found from the chart?"
      ],
      "metadata": {
        "id": "GwzvFGzlYuh3"
      }
    },
    {
      "cell_type": "markdown",
      "source": [
        "From the above analysis it it found that 'August' month has highest number of bookings."
      ],
      "metadata": {
        "id": "uyqkiB8YYuh3"
      }
    },
    {
      "cell_type": "markdown",
      "source": [
        "##### 3. Will the gained insights help creating a positive business impact? \n",
        "Are there any insights that lead to negative growth? Justify with specific reason."
      ],
      "metadata": {
        "id": "qYpmQ266Yuh3"
      }
    },
    {
      "cell_type": "markdown",
      "source": [
        "\n",
        "\n",
        "*   August and July months has most number of bookings with count around 11000.\n",
        "*   On the other hand January, November, December has less number of bookings compared to other months.\n",
        "\n",
        "\n",
        "* From the above analysis we could see that there is a negative growth in year staring and ending. And postive growth in the middle of the year.\n",
        "\n",
        "\n",
        "\n"
      ],
      "metadata": {
        "id": "_WtzZ_hCYuh4"
      }
    },
    {
      "cell_type": "markdown",
      "source": [
        "#### Chart - 6"
      ],
      "metadata": {
        "id": "OH-pJp9IphqM"
      }
    },
    {
      "cell_type": "markdown",
      "source": [
        "Which hotel has more lead time?"
      ],
      "metadata": {
        "id": "KvLKnB4_wA9M"
      }
    },
    {
      "cell_type": "code",
      "source": [
        "# Chart - 6 visualization code\n",
        "lead_time=df1.groupby('hotel')['lead_time'].count()"
      ],
      "metadata": {
        "id": "uDyL5z_PyBCJ"
      },
      "execution_count": 95,
      "outputs": []
    },
    {
      "cell_type": "code",
      "source": [
        "plt.rcParams['figure.figsize']=(12,6)\n",
        "lead_time.plot.pie(shadow=True,labels=lead_time.index,autopct='%0.0f%%',explode=[0.02,0.02],fontsize=20)\n",
        "plt.title('Lead Time Of Hotels',fontsize=20)\n",
        "plt.show()"
      ],
      "metadata": {
        "colab": {
          "base_uri": "https://localhost:8080/",
          "height": 378
        },
        "id": "bXI2Gl8JxhnA",
        "outputId": "9e8c4b5b-4647-44fa-ff55-50b12f568ac5"
      },
      "execution_count": 96,
      "outputs": [
        {
          "output_type": "display_data",
          "data": {
            "text/plain": [
              "<Figure size 864x432 with 1 Axes>"
            ],
            "image/png": "[encoded data removed]"
          },
          "metadata": {}
        }
      ]
    },
    {
      "cell_type": "markdown",
      "source": [
        "##### 1. Why did you pick the specific chart?"
      ],
      "metadata": {
        "id": "bbFf2-_FphqN"
      }
    },
    {
      "cell_type": "markdown",
      "source": [
        "I used a pie chart to show which hotel had the more lead time, as it is an easy and straightforward way to communicate this information."
      ],
      "metadata": {
        "id": "loh7H2nzphqN"
      }
    },
    {
      "cell_type": "markdown",
      "source": [
        "##### 2. What is/are the insight(s) found from the chart?"
      ],
      "metadata": {
        "id": "_ouA3fa0phqN"
      }
    },
    {
      "cell_type": "markdown",
      "source": [
        "From the above chart we can see that city hotel has more lead time."
      ],
      "metadata": {
        "id": "VECbqPI7phqN"
      }
    },
    {
      "cell_type": "markdown",
      "source": [
        "##### 3. Will the gained insights help creating a positive business impact? \n",
        "Are there any insights that lead to negative growth? Justify with specific reason."
      ],
      "metadata": {
        "id": "Seke61FWphqN"
      }
    },
    {
      "cell_type": "markdown",
      "source": [
        "\n",
        "\n",
        "*   City hotels have longer lead time, which means that guests tend to book their stays further in advance. This is because city hotels are more popular and receive more bookings compared to Resort hotels.\n",
        "*   Resort hotels have shorted lead time. Resort hotels don't get as many bookings as city hotels, so they can wait until closer to the check-in date to adjust their prices and promotions to attract more guests and make more money.\n",
        "\n"
      ],
      "metadata": {
        "id": "DW4_bGpfphqN"
      }
    },
    {
      "cell_type": "markdown",
      "source": [
        "#### Chart - 7"
      ],
      "metadata": {
        "id": "PIIx-8_IphqN"
      }
    },
    {
      "cell_type": "markdown",
      "source": [
        "What is the most preferred stay length in each hotel?"
      ],
      "metadata": {
        "id": "uAjzjaCxrLOZ"
      }
    },
    {
      "cell_type": "code",
      "source": [
        "plt.rcParams['figure.figsize']=(5,5)\n",
        "plt.boxplot(df1['total_stay'])\n",
        "plt.show()"
      ],
      "metadata": {
        "id": "lqAIGUfyphqO",
        "colab": {
          "base_uri": "https://localhost:8080/",
          "height": 320
        },
        "outputId": "776b194d-e961-477f-a58c-72c21d8fd5f4"
      },
      "execution_count": 97,
      "outputs": [
        {
          "output_type": "display_data",
          "data": {
            "text/plain": [
              "<Figure size 360x360 with 1 Axes>"
            ],
            "image/png": "[encoded data removed]"
          },
          "metadata": {
            "needs_background": "light"
          }
        }
      ]
    },
    {
      "cell_type": "code",
      "source": [
        "# Chart - 7 visualization code\n",
        "plt.rcParams['figure.figsize']=(14,7)\n",
        "stay_length=df1[df1['total_stay']<15]\n",
        "sns.countplot(x=stay_length['total_stay'],hue=stay_length['hotel'])\n",
        "plt.title('Total Stay')\n",
        "plt.show()"
      ],
      "metadata": {
        "colab": {
          "base_uri": "https://localhost:8080/",
          "height": 459
        },
        "id": "empA9gQspegf",
        "outputId": "43b9d318-72db-430d-8077-cdc9181b1adf"
      },
      "execution_count": 98,
      "outputs": [
        {
          "output_type": "display_data",
          "data": {
            "text/plain": [
              "<Figure size 1008x504 with 1 Axes>"
            ],
            "image/png": "[encoded data removed]"
          },
          "metadata": {
            "needs_background": "light"
          }
        }
      ]
    },
    {
      "cell_type": "markdown",
      "source": [
        "##### 1. Why did you pick the specific chart?"
      ],
      "metadata": {
        "id": "t27r6nlMphqO"
      }
    },
    {
      "cell_type": "markdown",
      "source": [
        "I used a countplot to show whcih is the most preferref stay length by customers, as it is an easy and straightforward way to communicate this information."
      ],
      "metadata": {
        "id": "iv6ro40sphqO"
      }
    },
    {
      "cell_type": "markdown",
      "source": [
        "##### 2. What is/are the insight(s) found from the chart?"
      ],
      "metadata": {
        "id": "r2jJGEOYphqO"
      }
    },
    {
      "cell_type": "markdown",
      "source": [
        "The majority of customers prefer to stay for a duration of 1 to 3 days."
      ],
      "metadata": {
        "id": "Po6ZPi4hphqO"
      }
    },
    {
      "cell_type": "markdown",
      "source": [
        "##### 3. Will the gained insights help creating a positive business impact? \n",
        "Are there any insights that lead to negative growth? Justify with specific reason."
      ],
      "metadata": {
        "id": "b0JNsNcRphqO"
      }
    },
    {
      "cell_type": "markdown",
      "source": [
        "Stays of less than 7 days are considered to be the most favorable duration. Utilizing this insight, businesses can make appropriate adjustments to provide more attractive offers, leading to a positive impact."
      ],
      "metadata": {
        "id": "xvSq8iUTphqO"
      }
    },
    {
      "cell_type": "markdown",
      "source": [
        "#### Chart - 8"
      ],
      "metadata": {
        "id": "BZR9WyysphqO"
      }
    },
    {
      "cell_type": "markdown",
      "source": [
        "Which agent has made the highest number of bookings?"
      ],
      "metadata": {
        "id": "u1aeLyyvs6rH"
      }
    },
    {
      "cell_type": "code",
      "source": [
        "# Chart - 8 visualization code\n",
        "agent_df=df1['agent'].value_counts().reset_index().rename(columns={'index':'agent','agent':'no. of bookings'})\n",
        "agent_df=agent_df.drop(agent_df[agent_df['agent']==0].index)[:10]"
      ],
      "metadata": {
        "id": "TdPTWpAVphqO"
      },
      "execution_count": 99,
      "outputs": []
    },
    {
      "cell_type": "code",
      "source": [
        "agent_df"
      ],
      "metadata": {
        "colab": {
          "base_uri": "https://localhost:8080/",
          "height": 363
        },
        "id": "hJGrUtnKwxp9",
        "outputId": "62dd56ec-271f-44b1-c8f3-f9b5714e0989"
      },
      "execution_count": 100,
      "outputs": [
        {
          "output_type": "execute_result",
          "data": {
            "text/plain": [
              "    agent  no. of bookings\n",
              "0     9.0            28721\n",
              "1   240.0            13028\n",
              "3    14.0             3342\n",
              "4     7.0             3294\n",
              "5   250.0             2779\n",
              "6   241.0             1644\n",
              "7    28.0             1493\n",
              "8     8.0             1383\n",
              "9     1.0             1228\n",
              "10    6.0             1117"
            ],
            "text/html": [
              "\n",
              "  <div id=\"df-ba5080c1-c5b7-4a8f-a3bf-3a381d498d76\">\n",
              "    <div class=\"colab-df-container\">\n",
              "      <div>\n",
              "<style scoped>\n",
              "    .dataframe tbody tr th:only-of-type {\n",
              "        vertical-align: middle;\n",
              "    }\n",
              "\n",
              "    .dataframe tbody tr th {\n",
              "        vertical-align: top;\n",
              "    }\n",
              "\n",
              "    .dataframe thead th {\n",
              "        text-align: right;\n",
              "    }\n",
              "</style>\n",
              "<table border=\"1\" class=\"dataframe\">\n",
              "  <thead>\n",
              "    <tr style=\"text-align: right;\">\n",
              "      <th></th>\n",
              "      <th>agent</th>\n",
              "      <th>no. of bookings</th>\n",
              "    </tr>\n",
              "  </thead>\n",
              "  <tbody>\n",
              "    <tr>\n",
              "      <th>0</th>\n",
              "      <td>9.0</td>\n",
              "      <td>28721</td>\n",
              "    </tr>\n",
              "    <tr>\n",
              "      <th>1</th>\n",
              "      <td>240.0</td>\n",
              "      <td>13028</td>\n",
              "    </tr>\n",
              "    <tr>\n",
              "      <th>3</th>\n",
              "      <td>14.0</td>\n",
              "      <td>3342</td>\n",
              "    </tr>\n",
              "    <tr>\n",
              "      <th>4</th>\n",
              "      <td>7.0</td>\n",
              "      <td>3294</td>\n",
              "    </tr>\n",
              "    <tr>\n",
              "      <th>5</th>\n",
              "      <td>250.0</td>\n",
              "      <td>2779</td>\n",
              "    </tr>\n",
              "    <tr>\n",
              "      <th>6</th>\n",
              "      <td>241.0</td>\n",
              "      <td>1644</td>\n",
              "    </tr>\n",
              "    <tr>\n",
              "      <th>7</th>\n",
              "      <td>28.0</td>\n",
              "      <td>1493</td>\n",
              "    </tr>\n",
              "    <tr>\n",
              "      <th>8</th>\n",
              "      <td>8.0</td>\n",
              "      <td>1383</td>\n",
              "    </tr>\n",
              "    <tr>\n",
              "      <th>9</th>\n",
              "      <td>1.0</td>\n",
              "      <td>1228</td>\n",
              "    </tr>\n",
              "    <tr>\n",
              "      <th>10</th>\n",
              "      <td>6.0</td>\n",
              "      <td>1117</td>\n",
              "    </tr>\n",
              "  </tbody>\n",
              "</table>\n",
              "</div>\n",
              "      <button class=\"colab-df-convert\" onclick=\"convertToInteractive('df-ba5080c1-c5b7-4a8f-a3bf-3a381d498d76')\"\n",
              "              title=\"Convert this dataframe to an interactive table.\"\n",
              "              style=\"display:none;\">\n",
              "        \n",
              "  <svg xmlns=\"http://www.w3.org/2000/svg\" height=\"24px\"viewBox=\"0 0 24 24\"\n",
              "       width=\"24px\">\n",
              "    <path d=\"M0 0h24v24H0V0z\" fill=\"none\"/>\n",
              "    <path d=\"M18.56 5.44l.94 2.06.94-2.06 2.06-.94-2.06-.94-.94-2.06-.94 2.06-2.06.94zm-11 1L8.5 8.5l.94-2.06 2.06-.94-2.06-.94L8.5 2.5l-.94 2.06-2.06.94zm10 10l.94 2.06.94-2.06 2.06-.94-2.06-.94-.94-2.06-.94 2.06-2.06.94z\"/><path d=\"M17.41 7.96l-1.37-1.37c-.4-.4-.92-.59-1.43-.59-.52 0-1.04.2-1.43.59L10.3 9.45l-7.72 7.72c-.78.78-.78 2.05 0 2.83L4 21.41c.39.39.9.59 1.41.59.51 0 1.02-.2 1.41-.59l7.78-7.78 2.81-2.81c.8-.78.8-2.07 0-2.86zM5.41 20L4 18.59l7.72-7.72 1.47 1.35L5.41 20z\"/>\n",
              "  </svg>\n",
              "      </button>\n",
              "      \n",
              "  <style>\n",
              "    .colab-df-container {\n",
              "      display:flex;\n",
              "      flex-wrap:wrap;\n",
              "      gap: 12px;\n",
              "    }\n",
              "\n",
              "    .colab-df-convert {\n",
              "      background-color: #E8F0FE;\n",
              "      border: none;\n",
              "      border-radius: 50%;\n",
              "      cursor: pointer;\n",
              "      display: none;\n",
              "      fill: #1967D2;\n",
              "      height: 32px;\n",
              "      padding: 0 0 0 0;\n",
              "      width: 32px;\n",
              "    }\n",
              "\n",
              "    .colab-df-convert:hover {\n",
              "      background-color: #E2EBFA;\n",
              "      box-shadow: 0px 1px 2px rgba(60, 64, 67, 0.3), 0px 1px 3px 1px rgba(60, 64, 67, 0.15);\n",
              "      fill: #174EA6;\n",
              "    }\n",
              "\n",
              "    [theme=dark] .colab-df-convert {\n",
              "      background-color: #3B4455;\n",
              "      fill: #D2E3FC;\n",
              "    }\n",
              "\n",
              "    [theme=dark] .colab-df-convert:hover {\n",
              "      background-color: #434B5C;\n",
              "      box-shadow: 0px 1px 3px 1px rgba(0, 0, 0, 0.15);\n",
              "      filter: drop-shadow(0px 1px 2px rgba(0, 0, 0, 0.3));\n",
              "      fill: #FFFFFF;\n",
              "    }\n",
              "  </style>\n",
              "\n",
              "      <script>\n",
              "        const buttonEl =\n",
              "          document.querySelector('#df-ba5080c1-c5b7-4a8f-a3bf-3a381d498d76 button.colab-df-convert');\n",
              "        buttonEl.style.display =\n",
              "          google.colab.kernel.accessAllowed ? 'block' : 'none';\n",
              "\n",
              "        async function convertToInteractive(key) {\n",
              "          const element = document.querySelector('#df-ba5080c1-c5b7-4a8f-a3bf-3a381d498d76');\n",
              "          const dataTable =\n",
              "            await google.colab.kernel.invokeFunction('convertToInteractive',\n",
              "                                                     [key], {});\n",
              "          if (!dataTable) return;\n",
              "\n",
              "          const docLinkHtml = 'Like what you see? Visit the ' +\n",
              "            '<a target=\"_blank\" href=https://colab.research.google.com/notebooks/data_table.ipynb>data table notebook</a>'\n",
              "            + ' to learn more about interactive tables.';\n",
              "          element.innerHTML = '';\n",
              "          dataTable['output_type'] = 'display_data';\n",
              "          await google.colab.output.renderOutput(dataTable, element);\n",
              "          const docLink = document.createElement('div');\n",
              "          docLink.innerHTML = docLinkHtml;\n",
              "          element.appendChild(docLink);\n",
              "        }\n",
              "      </script>\n",
              "    </div>\n",
              "  </div>\n",
              "  "
            ]
          },
          "metadata": {},
          "execution_count": 100
        }
      ]
    },
    {
      "cell_type": "code",
      "source": [
        "plt.rcParams['figure.figsize']=(12,6)\n",
        "sns.barplot(x=agent_df['agent'],y=agent_df['no. of bookings'],edgecolor='black',order = agent_df.sort_values('no. of bookings', ascending = False).agent)\n",
        "plt.title('Bookings done by agent',fontsize=20)\n",
        "plt.show()"
      ],
      "metadata": {
        "colab": {
          "base_uri": "https://localhost:8080/",
          "height": 409
        },
        "id": "dYfrrJPowghp",
        "outputId": "e638e542-0e48-4bfa-e20f-1fc78575617a"
      },
      "execution_count": 101,
      "outputs": [
        {
          "output_type": "display_data",
          "data": {
            "text/plain": [
              "<Figure size 864x432 with 1 Axes>"
            ],
            "image/png": "[encoded data removed]"
          },
          "metadata": {
            "needs_background": "light"
          }
        }
      ]
    },
    {
      "cell_type": "markdown",
      "source": [
        "##### 1. Why did you pick the specific chart?"
      ],
      "metadata": {
        "id": "jj7wYXLtphqO"
      }
    },
    {
      "cell_type": "markdown",
      "source": [
        "I have used barplot to show the number of bookings of made by each agent in the dataset. Because barplots are an effective way to compare the values of different categories or groups."
      ],
      "metadata": {
        "id": "Ob8u6rCTphqO"
      }
    },
    {
      "cell_type": "markdown",
      "source": [
        "##### 2. What is/are the insight(s) found from the chart?"
      ],
      "metadata": {
        "id": "eZrbJ2SmphqO"
      }
    },
    {
      "cell_type": "markdown",
      "source": [
        "Agent 9 has made most number of bookings."
      ],
      "metadata": {
        "id": "mZtgC_hjphqO"
      }
    },
    {
      "cell_type": "markdown",
      "source": [
        "##### 3. Will the gained insights help creating a positive business impact? \n",
        "Are there any insights that lead to negative growth? Justify with specific reason."
      ],
      "metadata": {
        "id": "rFu4xreNphqO"
      }
    },
    {
      "cell_type": "markdown",
      "source": [
        "\n",
        "\n",
        "*   Agent 9 has made over 28,000 bookings, while agent 240, who holds the second position, has made around 13,000 bookings.\n",
        "\n",
        "*   While all the other agents made less than 5000 bookings.\n",
        "\n",
        "\n",
        "\n"
      ],
      "metadata": {
        "id": "ey_0qi68phqO"
      }
    },
    {
      "cell_type": "markdown",
      "source": [
        "#### Chart - 9"
      ],
      "metadata": {
        "id": "YJ55k-q6phqO"
      }
    },
    {
      "cell_type": "markdown",
      "source": [
        "what is the adr across different months?"
      ],
      "metadata": {
        "id": "3fcU7W9pckCc"
      }
    },
    {
      "cell_type": "code",
      "source": [
        "adr_df=df1.groupby(['arrival_date_month','hotel'])['adr'].sum().reset_index(name='sum of adr')"
      ],
      "metadata": {
        "id": "WqIxuH6qPCZd"
      },
      "execution_count": 120,
      "outputs": []
    },
    {
      "cell_type": "code",
      "source": [
        "sequence=['January', 'February', 'March', 'April', 'May', 'June', 'July', 'August', 'September', 'October', 'November', 'December']\n",
        "adr_df['arrival_date_month']=pd.Categorical(adr_df['arrival_date_month'],categories=sequence,ordered=True)\n",
        "adr_df.sort_values(by=['arrival_date_month'],inplace=True)"
      ],
      "metadata": {
        "id": "A7mgaKPxPo9Q"
      },
      "execution_count": 121,
      "outputs": []
    },
    {
      "cell_type": "code",
      "source": [
        "# Chart - 9 visualization code\n",
        "sns.lineplot(x=adr_df['arrival_date_month'],y=adr_df['sum of adr'],hue=adr_df['hotel'])\n",
        "plt.title('adr across months',fontsize=20)\n",
        "plt.xlabel('Month',fontsize=20)\n",
        "plt.ylabel('ADR',fontsize=20)\n",
        "plt.show()"
      ],
      "metadata": {
        "id": "B2aS4O1ophqO",
        "colab": {
          "base_uri": "https://localhost:8080/",
          "height": 364
        },
        "outputId": "4d20748e-0a04-4f8d-b8cf-61a3c75ebe73"
      },
      "execution_count": 122,
      "outputs": [
        {
          "output_type": "display_data",
          "data": {
            "text/plain": [
              "<Figure size 720x360 with 1 Axes>"
            ],
            "image/png": "[encoded data removed]"
          },
          "metadata": {
            "needs_background": "light"
          }
        }
      ]
    },
    {
      "cell_type": "markdown",
      "source": [
        "##### 1. Why did you pick the specific chart?"
      ],
      "metadata": {
        "id": "gCFgpxoyphqP"
      }
    },
    {
      "cell_type": "markdown",
      "source": [
        "I have used barplot, because barplot is ideal for identifying trends in your data, especially when working with continuous variables."
      ],
      "metadata": {
        "id": "TVxDimi2phqP"
      }
    },
    {
      "cell_type": "markdown",
      "source": [
        "##### 2. What is/are the insight(s) found from the chart?"
      ],
      "metadata": {
        "id": "OVtJsKN_phqQ"
      }
    },
    {
      "cell_type": "markdown",
      "source": [
        "* The analysis shows that the ADR experiences linear growth from June to August.\n",
        "However, the ADR is observed to be lower at the beginning and end of the year, which suggests a lower demand for hotel rooms during these periods.\n"
      ],
      "metadata": {
        "id": "ngGi97qjphqQ"
      }
    },
    {
      "cell_type": "markdown",
      "source": [
        "##### 3. Will the gained insights help creating a positive business impact? \n",
        "Are there any insights that lead to negative growth? Justify with specific reason."
      ],
      "metadata": {
        "id": "lssrdh5qphqQ"
      }
    },
    {
      "cell_type": "markdown",
      "source": [
        "\n",
        "\n",
        "*   This can show negative business impact. However, business can overcome this by Offering promotions and packages, Optimize pricing strategies.\n",
        "\n"
      ],
      "metadata": {
        "id": "tBpY5ekJphqQ"
      }
    },
    {
      "cell_type": "markdown",
      "source": [
        "#### Chart - 10"
      ],
      "metadata": {
        "id": "U2RJ9gkRphqQ"
      }
    },
    {
      "cell_type": "code",
      "source": [
        "distribution_df = df1.groupby(['distribution_channel','hotel'])['adr'].mean().reset_index()\n",
        "distribution_df"
      ],
      "metadata": {
        "colab": {
          "base_uri": "https://localhost:8080/",
          "height": 331
        },
        "id": "Dff_E8kXpwW2",
        "outputId": "f3e91e6d-46bf-4fd1-f95b-5d93db3a5c5e"
      },
      "execution_count": 124,
      "outputs": [
        {
          "output_type": "execute_result",
          "data": {
            "text/plain": [
              "  distribution_channel         hotel         adr\n",
              "0            Corporate    City Hotel   83.777368\n",
              "1            Corporate  Resort Hotel   53.036835\n",
              "2               Direct    City Hotel  112.606688\n",
              "3               Direct  Resort Hotel  106.566215\n",
              "4                  GDS    City Hotel  120.317845\n",
              "5                TA/TO    City Hotel  112.663552\n",
              "6                TA/TO  Resort Hotel  101.578317\n",
              "7            Undefined    City Hotel   29.625000\n",
              "8            Undefined  Resort Hotel  112.700000"
            ],
            "text/html": [
              "\n",
              "  <div id=\"df-7b9f5144-c460-4910-ac71-82581674ed21\">\n",
              "    <div class=\"colab-df-container\">\n",
              "      <div>\n",
              "<style scoped>\n",
              "    .dataframe tbody tr th:only-of-type {\n",
              "        vertical-align: middle;\n",
              "    }\n",
              "\n",
              "    .dataframe tbody tr th {\n",
              "        vertical-align: top;\n",
              "    }\n",
              "\n",
              "    .dataframe thead th {\n",
              "        text-align: right;\n",
              "    }\n",
              "</style>\n",
              "<table border=\"1\" class=\"dataframe\">\n",
              "  <thead>\n",
              "    <tr style=\"text-align: right;\">\n",
              "      <th></th>\n",
              "      <th>distribution_channel</th>\n",
              "      <th>hotel</th>\n",
              "      <th>adr</th>\n",
              "    </tr>\n",
              "  </thead>\n",
              "  <tbody>\n",
              "    <tr>\n",
              "      <th>0</th>\n",
              "      <td>Corporate</td>\n",
              "      <td>City Hotel</td>\n",
              "      <td>83.777368</td>\n",
              "    </tr>\n",
              "    <tr>\n",
              "      <th>1</th>\n",
              "      <td>Corporate</td>\n",
              "      <td>Resort Hotel</td>\n",
              "      <td>53.036835</td>\n",
              "    </tr>\n",
              "    <tr>\n",
              "      <th>2</th>\n",
              "      <td>Direct</td>\n",
              "      <td>City Hotel</td>\n",
              "      <td>112.606688</td>\n",
              "    </tr>\n",
              "    <tr>\n",
              "      <th>3</th>\n",
              "      <td>Direct</td>\n",
              "      <td>Resort Hotel</td>\n",
              "      <td>106.566215</td>\n",
              "    </tr>\n",
              "    <tr>\n",
              "      <th>4</th>\n",
              "      <td>GDS</td>\n",
              "      <td>City Hotel</td>\n",
              "      <td>120.317845</td>\n",
              "    </tr>\n",
              "    <tr>\n",
              "      <th>5</th>\n",
              "      <td>TA/TO</td>\n",
              "      <td>City Hotel</td>\n",
              "      <td>112.663552</td>\n",
              "    </tr>\n",
              "    <tr>\n",
              "      <th>6</th>\n",
              "      <td>TA/TO</td>\n",
              "      <td>Resort Hotel</td>\n",
              "      <td>101.578317</td>\n",
              "    </tr>\n",
              "    <tr>\n",
              "      <th>7</th>\n",
              "      <td>Undefined</td>\n",
              "      <td>City Hotel</td>\n",
              "      <td>29.625000</td>\n",
              "    </tr>\n",
              "    <tr>\n",
              "      <th>8</th>\n",
              "      <td>Undefined</td>\n",
              "      <td>Resort Hotel</td>\n",
              "      <td>112.700000</td>\n",
              "    </tr>\n",
              "  </tbody>\n",
              "</table>\n",
              "</div>\n",
              "      <button class=\"colab-df-convert\" onclick=\"convertToInteractive('df-7b9f5144-c460-4910-ac71-82581674ed21')\"\n",
              "              title=\"Convert this dataframe to an interactive table.\"\n",
              "              style=\"display:none;\">\n",
              "        \n",
              "  <svg xmlns=\"http://www.w3.org/2000/svg\" height=\"24px\"viewBox=\"0 0 24 24\"\n",
              "       width=\"24px\">\n",
              "    <path d=\"M0 0h24v24H0V0z\" fill=\"none\"/>\n",
              "    <path d=\"M18.56 5.44l.94 2.06.94-2.06 2.06-.94-2.06-.94-.94-2.06-.94 2.06-2.06.94zm-11 1L8.5 8.5l.94-2.06 2.06-.94-2.06-.94L8.5 2.5l-.94 2.06-2.06.94zm10 10l.94 2.06.94-2.06 2.06-.94-2.06-.94-.94-2.06-.94 2.06-2.06.94z\"/><path d=\"M17.41 7.96l-1.37-1.37c-.4-.4-.92-.59-1.43-.59-.52 0-1.04.2-1.43.59L10.3 9.45l-7.72 7.72c-.78.78-.78 2.05 0 2.83L4 21.41c.39.39.9.59 1.41.59.51 0 1.02-.2 1.41-.59l7.78-7.78 2.81-2.81c.8-.78.8-2.07 0-2.86zM5.41 20L4 18.59l7.72-7.72 1.47 1.35L5.41 20z\"/>\n",
              "  </svg>\n",
              "      </button>\n",
              "      \n",
              "  <style>\n",
              "    .colab-df-container {\n",
              "      display:flex;\n",
              "      flex-wrap:wrap;\n",
              "      gap: 12px;\n",
              "    }\n",
              "\n",
              "    .colab-df-convert {\n",
              "      background-color: #E8F0FE;\n",
              "      border: none;\n",
              "      border-radius: 50%;\n",
              "      cursor: pointer;\n",
              "      display: none;\n",
              "      fill: #1967D2;\n",
              "      height: 32px;\n",
              "      padding: 0 0 0 0;\n",
              "      width: 32px;\n",
              "    }\n",
              "\n",
              "    .colab-df-convert:hover {\n",
              "      background-color: #E2EBFA;\n",
              "      box-shadow: 0px 1px 2px rgba(60, 64, 67, 0.3), 0px 1px 3px 1px rgba(60, 64, 67, 0.15);\n",
              "      fill: #174EA6;\n",
              "    }\n",
              "\n",
              "    [theme=dark] .colab-df-convert {\n",
              "      background-color: #3B4455;\n",
              "      fill: #D2E3FC;\n",
              "    }\n",
              "\n",
              "    [theme=dark] .colab-df-convert:hover {\n",
              "      background-color: #434B5C;\n",
              "      box-shadow: 0px 1px 3px 1px rgba(0, 0, 0, 0.15);\n",
              "      filter: drop-shadow(0px 1px 2px rgba(0, 0, 0, 0.3));\n",
              "      fill: #FFFFFF;\n",
              "    }\n",
              "  </style>\n",
              "\n",
              "      <script>\n",
              "        const buttonEl =\n",
              "          document.querySelector('#df-7b9f5144-c460-4910-ac71-82581674ed21 button.colab-df-convert');\n",
              "        buttonEl.style.display =\n",
              "          google.colab.kernel.accessAllowed ? 'block' : 'none';\n",
              "\n",
              "        async function convertToInteractive(key) {\n",
              "          const element = document.querySelector('#df-7b9f5144-c460-4910-ac71-82581674ed21');\n",
              "          const dataTable =\n",
              "            await google.colab.kernel.invokeFunction('convertToInteractive',\n",
              "                                                     [key], {});\n",
              "          if (!dataTable) return;\n",
              "\n",
              "          const docLinkHtml = 'Like what you see? Visit the ' +\n",
              "            '<a target=\"_blank\" href=https://colab.research.google.com/notebooks/data_table.ipynb>data table notebook</a>'\n",
              "            + ' to learn more about interactive tables.';\n",
              "          element.innerHTML = '';\n",
              "          dataTable['output_type'] = 'display_data';\n",
              "          await google.colab.output.renderOutput(dataTable, element);\n",
              "          const docLink = document.createElement('div');\n",
              "          docLink.innerHTML = docLinkHtml;\n",
              "          element.appendChild(docLink);\n",
              "        }\n",
              "      </script>\n",
              "    </div>\n",
              "  </div>\n",
              "  "
            ]
          },
          "metadata": {},
          "execution_count": 124
        }
      ]
    },
    {
      "cell_type": "code",
      "source": [
        "# Chart - 10 visualization code\n",
        "plt.rcParams['figure.figsize']=(12,6)\n",
        "sns.barplot(x=distribution_df['distribution_channel'],y=distribution_df['adr'],hue=distribution_df['hotel'])\n",
        "plt.title('ADR across Distribution channels',fontsize=20)\n",
        "plt.xlabel('Distribution channel',fontsize=20)\n",
        "plt.ylabel('ADR',fontsize=20)\n",
        "plt.show()"
      ],
      "metadata": {
        "id": "GM7a4YP4phqQ",
        "colab": {
          "base_uri": "https://localhost:8080/",
          "height": 418
        },
        "outputId": "6bc78274-bbe9-48f2-ef7d-7db4f147ff9d"
      },
      "execution_count": 128,
      "outputs": [
        {
          "output_type": "display_data",
          "data": {
            "text/plain": [
              "<Figure size 864x432 with 1 Axes>"
            ],
            "image/png": "[encoded data removed]"
          },
          "metadata": {
            "needs_background": "light"
          }
        }
      ]
    },
    {
      "cell_type": "markdown",
      "source": [
        "##### 1. Why did you pick the specific chart?"
      ],
      "metadata": {
        "id": "1M8mcRywphqQ"
      }
    },
    {
      "cell_type": "markdown",
      "source": [
        "I have used barplot to show the ard across distribution channels in the dataset. Because barplots are an effective way to compare the values of different categories or groups."
      ],
      "metadata": {
        "id": "8agQvks0phqQ"
      }
    },
    {
      "cell_type": "markdown",
      "source": [
        "##### 2. What is/are the insight(s) found from the chart?"
      ],
      "metadata": {
        "id": "tgIPom80phqQ"
      }
    },
    {
      "cell_type": "markdown",
      "source": [
        "\n",
        "\n",
        "*   The chart shows that GDS contributed the most to ADR in city hotels, while Direct and TA/TO had similar contributions to ADR in both city and resort hotels.\n",
        "\n"
      ],
      "metadata": {
        "id": "Qp13pnNzphqQ"
      }
    },
    {
      "cell_type": "markdown",
      "source": [
        "##### 3. Will the gained insights help creating a positive business impact? \n",
        "Are there any insights that lead to negative growth? Justify with specific reason."
      ],
      "metadata": {
        "id": "JMzcOPDDphqR"
      }
    },
    {
      "cell_type": "markdown",
      "source": [
        "\n",
        "\n",
        "*   Direct and TA/TO distribution channels have contributed similar adr for both city and resort hotel.\n",
        "*  GDS channel has no contribution in adr for resort hotel and undefined channel has less contribution in adr for city hotel. This will create a negative business impact.\n",
        "\n",
        "\n",
        "\n",
        "*   Business must find a way to increase adr in GDS and undefined channels By understanding guests and their preferences, By providing a better overall experience for guests.\n",
        "\n",
        "\n",
        "\n",
        "\n",
        "\n"
      ],
      "metadata": {
        "id": "R4Ka1PC2phqR"
      }
    },
    {
      "cell_type": "markdown",
      "source": [
        "#### Chart - 11"
      ],
      "metadata": {
        "id": "x-EpHcCOp1ci"
      }
    },
    {
      "cell_type": "code",
      "source": [
        "# Chart - 11 visualization code"
      ],
      "metadata": {
        "id": "mAQTIvtqp1cj"
      },
      "execution_count": 106,
      "outputs": []
    },
    {
      "cell_type": "markdown",
      "source": [
        "##### 1. Why did you pick the specific chart?"
      ],
      "metadata": {
        "id": "X_VqEhTip1ck"
      }
    },
    {
      "cell_type": "markdown",
      "source": [
        "Answer Here."
      ],
      "metadata": {
        "id": "-vsMzt_np1ck"
      }
    },
    {
      "cell_type": "markdown",
      "source": [
        "##### 2. What is/are the insight(s) found from the chart?"
      ],
      "metadata": {
        "id": "8zGJKyg5p1ck"
      }
    },
    {
      "cell_type": "markdown",
      "source": [
        "Answer Here"
      ],
      "metadata": {
        "id": "ZYdMsrqVp1ck"
      }
    },
    {
      "cell_type": "markdown",
      "source": [
        "##### 3. Will the gained insights help creating a positive business impact? \n",
        "Are there any insights that lead to negative growth? Justify with specific reason."
      ],
      "metadata": {
        "id": "PVzmfK_Ep1ck"
      }
    },
    {
      "cell_type": "markdown",
      "source": [
        "Answer Here"
      ],
      "metadata": {
        "id": "druuKYZpp1ck"
      }
    },
    {
      "cell_type": "markdown",
      "source": [
        "#### Chart - 12"
      ],
      "metadata": {
        "id": "n3dbpmDWp1ck"
      }
    },
    {
      "cell_type": "code",
      "source": [
        "# Chart - 12 visualization code"
      ],
      "metadata": {
        "id": "bwevp1tKp1ck"
      },
      "execution_count": 107,
      "outputs": []
    },
    {
      "cell_type": "markdown",
      "source": [
        "##### 1. Why did you pick the specific chart?"
      ],
      "metadata": {
        "id": "ylSl6qgtp1ck"
      }
    },
    {
      "cell_type": "markdown",
      "source": [
        "Answer Here."
      ],
      "metadata": {
        "id": "m2xqNkiQp1ck"
      }
    },
    {
      "cell_type": "markdown",
      "source": [
        "##### 2. What is/are the insight(s) found from the chart?"
      ],
      "metadata": {
        "id": "ZWILFDl5p1ck"
      }
    },
    {
      "cell_type": "markdown",
      "source": [
        "Answer Here"
      ],
      "metadata": {
        "id": "x-lUsV2mp1ck"
      }
    },
    {
      "cell_type": "markdown",
      "source": [
        "##### 3. Will the gained insights help creating a positive business impact? \n",
        "Are there any insights that lead to negative growth? Justify with specific reason."
      ],
      "metadata": {
        "id": "M7G43BXep1ck"
      }
    },
    {
      "cell_type": "markdown",
      "source": [
        "Answer Here"
      ],
      "metadata": {
        "id": "5wwDJXsLp1cl"
      }
    },
    {
      "cell_type": "markdown",
      "source": [
        "#### Chart - 13"
      ],
      "metadata": {
        "id": "Ag9LCva-p1cl"
      }
    },
    {
      "cell_type": "code",
      "source": [
        "# Chart - 13 visualization code"
      ],
      "metadata": {
        "id": "EUfxeq9-p1cl"
      },
      "execution_count": 108,
      "outputs": []
    },
    {
      "cell_type": "markdown",
      "source": [
        "##### 1. Why did you pick the specific chart?"
      ],
      "metadata": {
        "id": "E6MkPsBcp1cl"
      }
    },
    {
      "cell_type": "markdown",
      "source": [
        "Answer Here."
      ],
      "metadata": {
        "id": "V22bRsFWp1cl"
      }
    },
    {
      "cell_type": "markdown",
      "source": [
        "##### 2. What is/are the insight(s) found from the chart?"
      ],
      "metadata": {
        "id": "2cELzS2fp1cl"
      }
    },
    {
      "cell_type": "markdown",
      "source": [
        "Answer Here"
      ],
      "metadata": {
        "id": "ozQPc2_Ip1cl"
      }
    },
    {
      "cell_type": "markdown",
      "source": [
        "##### 3. Will the gained insights help creating a positive business impact? \n",
        "Are there any insights that lead to negative growth? Justify with specific reason."
      ],
      "metadata": {
        "id": "3MPXvC8up1cl"
      }
    },
    {
      "cell_type": "markdown",
      "source": [
        "Answer Here"
      ],
      "metadata": {
        "id": "GL8l1tdLp1cl"
      }
    },
    {
      "cell_type": "markdown",
      "source": [
        "#### Chart - 14 - Correlation Heatmap"
      ],
      "metadata": {
        "id": "NC_X3p0fY2L0"
      }
    },
    {
      "cell_type": "code",
      "source": [
        "# Correlation Heatmap visualization code"
      ],
      "metadata": {
        "id": "xyC9zolEZNRQ"
      },
      "execution_count": 109,
      "outputs": []
    },
    {
      "cell_type": "markdown",
      "source": [
        "##### 1. Why did you pick the specific chart?"
      ],
      "metadata": {
        "id": "UV0SzAkaZNRQ"
      }
    },
    {
      "cell_type": "markdown",
      "source": [
        "Answer Here."
      ],
      "metadata": {
        "id": "DVPuT8LYZNRQ"
      }
    },
    {
      "cell_type": "markdown",
      "source": [
        "##### 2. What is/are the insight(s) found from the chart?"
      ],
      "metadata": {
        "id": "YPEH6qLeZNRQ"
      }
    },
    {
      "cell_type": "markdown",
      "source": [
        "Answer Here"
      ],
      "metadata": {
        "id": "bfSqtnDqZNRR"
      }
    },
    {
      "cell_type": "markdown",
      "source": [
        "#### Chart - 15 - Pair Plot "
      ],
      "metadata": {
        "id": "q29F0dvdveiT"
      }
    },
    {
      "cell_type": "code",
      "source": [
        "# Pair Plot visualization code"
      ],
      "metadata": {
        "id": "o58-TEIhveiU"
      },
      "execution_count": 110,
      "outputs": []
    },
    {
      "cell_type": "markdown",
      "source": [
        "##### 1. Why did you pick the specific chart?"
      ],
      "metadata": {
        "id": "EXh0U9oCveiU"
      }
    },
    {
      "cell_type": "markdown",
      "source": [
        "Answer Here."
      ],
      "metadata": {
        "id": "eMmPjTByveiU"
      }
    },
    {
      "cell_type": "markdown",
      "source": [
        "##### 2. What is/are the insight(s) found from the chart?"
      ],
      "metadata": {
        "id": "22aHeOlLveiV"
      }
    },
    {
      "cell_type": "markdown",
      "source": [
        "Answer Here"
      ],
      "metadata": {
        "id": "uPQ8RGwHveiV"
      }
    },
    {
      "cell_type": "markdown",
      "source": [
        "## **5. Solution to Business Objective**"
      ],
      "metadata": {
        "id": "JcMwzZxoAimU"
      }
    },
    {
      "cell_type": "markdown",
      "source": [
        "#### What do you suggest the client to achieve Business Objective ? \n",
        "Explain Briefly."
      ],
      "metadata": {
        "id": "8G2x9gOozGDZ"
      }
    },
    {
      "cell_type": "markdown",
      "source": [
        "Answer Here."
      ],
      "metadata": {
        "id": "pASKb0qOza21"
      }
    },
    {
      "cell_type": "markdown",
      "source": [
        "# **Conclusion**"
      ],
      "metadata": {
        "id": "gCX9965dhzqZ"
      }
    },
    {
      "cell_type": "markdown",
      "source": [
        "Write the conclusion here."
      ],
      "metadata": {
        "id": "Fjb1IsQkh3yE"
      }
    },
    {
      "cell_type": "markdown",
      "source": [
        "### ***Hurrah! You have successfully completed your EDA Capstone Project !!!***"
      ],
      "metadata": {
        "id": "gIfDvo9L0UH2"
      }
    }
  ]
}